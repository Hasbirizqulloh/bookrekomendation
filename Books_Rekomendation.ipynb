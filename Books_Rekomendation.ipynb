{
  "nbformat": 4,
  "nbformat_minor": 0,
  "metadata": {
    "colab": {
      "provenance": [],
      "collapsed_sections": [
        "V7KnYuXqklas",
        "xWhu-jyDk5-Q",
        "r9ScdGs6lqvD",
        "pWwfDVSTmIpx",
        "r83tBPJj1i1V",
        "jMy44q4qeGs4",
        "S4SgONHmsaUB",
        "gAbgb69JszyY",
        "EFtpb_Ol9FnW",
        "7A2b-ABGPbXH",
        "a1lVesMRSXyY",
        "0FK7lgtQP5io"
      ]
    },
    "kernelspec": {
      "name": "python3",
      "display_name": "Python 3"
    },
    "language_info": {
      "name": "python"
    }
  },
  "cells": [
    {
      "cell_type": "markdown",
      "source": [
        "# Proyek Submission Machine Learning Terapan: Book Rekomendation\n",
        "- **Nama:** Moh Hasbi Rizqulloh\n",
        "- **Email:** hasbirizqulloh95@gmail.com\n",
        "- **ID Dicoding:** hasbirizqulloh"
      ],
      "metadata": {
        "id": "coMvzP2ujtzK"
      }
    },
    {
      "cell_type": "markdown",
      "source": [
        "# **1. Import Semua Packages/Library yang Digunakan**"
      ],
      "metadata": {
        "id": "V7KnYuXqklas"
      }
    },
    {
      "cell_type": "code",
      "execution_count": 1,
      "metadata": {
        "id": "w3muUeXyiNye"
      },
      "outputs": [],
      "source": [
        "import kagglehub\n",
        "import pandas as pd\n",
        "import numpy as np\n",
        "import seaborn as sns\n",
        "import matplotlib.pyplot as plt\n",
        "import plotly.express as px\n",
        "import os\n",
        "import torch\n",
        "import torch.nn as nn\n",
        "from torch.utils.data import Dataset, DataLoader\n",
        "from sklearn.preprocessing import LabelEncoder\n",
        "from sklearn.model_selection import train_test_split\n",
        "from sklearn.metrics import mean_squared_error, precision_score, recall_score\n",
        "from sklearn.metrics.pairwise import cosine_similarity\n",
        "from sklearn.feature_extraction.text import TfidfVectorizer"
      ]
    },
    {
      "cell_type": "markdown",
      "source": [
        "# **2. Data Loading**"
      ],
      "metadata": {
        "id": "xWhu-jyDk5-Q"
      }
    },
    {
      "cell_type": "markdown",
      "source": [
        "## Download Dataset\n",
        "Pada tahap ini, kita melakukan proses **pengunduhan dataset** menggunakan `kagglehub`.\n",
        "Tujuan dari tahap ini adalah untuk mendapatkan file dataset terbaru yang akan digunakan dalam proyek ini.\n",
        "\n",
        "Metode:  \n",
        "- Menggunakan fungsi `dataset_download()` dari library `kagglehub` untuk mengunduh dataset dari Kaggle.\n",
        "\n",
        "Output:  \n",
        "- Folder lokal berisi file dataset yang akan diproses lebih lanjut.\n",
        "\n",
        "---\n"
      ],
      "metadata": {
        "id": "c8dUHshYkEHU"
      }
    },
    {
      "cell_type": "code",
      "source": [
        "# Download latest version\n",
        "path = kagglehub.dataset_download(\"arashnic/book-recommendation-dataset\")\n",
        "\n",
        "print(\"Path to dataset files:\", path)"
      ],
      "metadata": {
        "colab": {
          "base_uri": "https://localhost:8080/"
        },
        "id": "WwfYjF_CjFOB",
        "outputId": "ed4bca85-e943-4520-a7d5-7328c67f27c4"
      },
      "execution_count": 2,
      "outputs": [
        {
          "output_type": "stream",
          "name": "stdout",
          "text": [
            "Path to dataset files: /kaggle/input/book-recommendation-dataset\n"
          ]
        }
      ]
    },
    {
      "cell_type": "code",
      "source": [
        "os.listdir(path)"
      ],
      "metadata": {
        "colab": {
          "base_uri": "https://localhost:8080/"
        },
        "id": "AYrECGp0jSTG",
        "outputId": "fc129fec-a07a-424b-eec3-a50d163a6de0"
      },
      "execution_count": 3,
      "outputs": [
        {
          "output_type": "execute_result",
          "data": {
            "text/plain": [
              "['Ratings.csv',\n",
              " 'Users.csv',\n",
              " 'classicRec.png',\n",
              " 'Books.csv',\n",
              " 'DeepRec.png',\n",
              " 'recsys_taxonomy2.png']"
            ]
          },
          "metadata": {},
          "execution_count": 3
        }
      ]
    },
    {
      "cell_type": "markdown",
      "source": [
        "## Membaca Dataset Buku\n",
        "Pada tahap ini, kita melakukan **pembacaan file dataset** berisi data buku yang telah diunduh sebelumnya.\n",
        "File `Books.csv` akan dibaca dan dimuat ke dalam sebuah DataFrame untuk keperluan analisis lebih lanjut.\n",
        "\n",
        "---\n"
      ],
      "metadata": {
        "id": "Aagetay9kQGo"
      }
    },
    {
      "cell_type": "code",
      "source": [
        "df_book = pd.read_csv(os.path.join(path, \"Books.csv\"))\n",
        "df_book"
      ],
      "metadata": {
        "colab": {
          "base_uri": "https://localhost:8080/",
          "height": 0
        },
        "id": "MJQIYzBfjbwx",
        "outputId": "1dfeeec7-4ab5-4c9f-fef6-c502184774f7"
      },
      "execution_count": 4,
      "outputs": [
        {
          "output_type": "stream",
          "name": "stderr",
          "text": [
            "<ipython-input-4-bc512414bc34>:1: DtypeWarning: Columns (3) have mixed types. Specify dtype option on import or set low_memory=False.\n",
            "  df_book = pd.read_csv(os.path.join(path, \"Books.csv\"))\n"
          ]
        },
        {
          "output_type": "execute_result",
          "data": {
            "text/plain": [
              "              ISBN                                         Book-Title  \\\n",
              "0       0195153448                                Classical Mythology   \n",
              "1       0002005018                                       Clara Callan   \n",
              "2       0060973129                               Decision in Normandy   \n",
              "3       0374157065  Flu: The Story of the Great Influenza Pandemic...   \n",
              "4       0393045218                             The Mummies of Urumchi   \n",
              "...            ...                                                ...   \n",
              "271355  0440400988                         There's a Bat in Bunk Five   \n",
              "271356  0525447644                            From One to One Hundred   \n",
              "271357  006008667X  Lily Dale : The True Story of the Town that Ta...   \n",
              "271358  0192126040                        Republic (World's Classics)   \n",
              "271359  0767409752  A Guided Tour of Rene Descartes' Meditations o...   \n",
              "\n",
              "                 Book-Author Year-Of-Publication  \\\n",
              "0         Mark P. O. Morford                2002   \n",
              "1       Richard Bruce Wright                2001   \n",
              "2               Carlo D'Este                1991   \n",
              "3           Gina Bari Kolata                1999   \n",
              "4            E. J. W. Barber                1999   \n",
              "...                      ...                 ...   \n",
              "271355        Paula Danziger                1988   \n",
              "271356            Teri Sloat                1991   \n",
              "271357      Christine Wicker                2004   \n",
              "271358                 Plato                1996   \n",
              "271359   Christopher  Biffle                2000   \n",
              "\n",
              "                                               Publisher  \\\n",
              "0                                Oxford University Press   \n",
              "1                                  HarperFlamingo Canada   \n",
              "2                                        HarperPerennial   \n",
              "3                                   Farrar Straus Giroux   \n",
              "4                             W. W. Norton &amp; Company   \n",
              "...                                                  ...   \n",
              "271355                   Random House Childrens Pub (Mm)   \n",
              "271356                                      Dutton Books   \n",
              "271357                                HarperSanFrancisco   \n",
              "271358                           Oxford University Press   \n",
              "271359  McGraw-Hill Humanities/Social Sciences/Languages   \n",
              "\n",
              "                                              Image-URL-S  \\\n",
              "0       http://images.amazon.com/images/P/0195153448.0...   \n",
              "1       http://images.amazon.com/images/P/0002005018.0...   \n",
              "2       http://images.amazon.com/images/P/0060973129.0...   \n",
              "3       http://images.amazon.com/images/P/0374157065.0...   \n",
              "4       http://images.amazon.com/images/P/0393045218.0...   \n",
              "...                                                   ...   \n",
              "271355  http://images.amazon.com/images/P/0440400988.0...   \n",
              "271356  http://images.amazon.com/images/P/0525447644.0...   \n",
              "271357  http://images.amazon.com/images/P/006008667X.0...   \n",
              "271358  http://images.amazon.com/images/P/0192126040.0...   \n",
              "271359  http://images.amazon.com/images/P/0767409752.0...   \n",
              "\n",
              "                                              Image-URL-M  \\\n",
              "0       http://images.amazon.com/images/P/0195153448.0...   \n",
              "1       http://images.amazon.com/images/P/0002005018.0...   \n",
              "2       http://images.amazon.com/images/P/0060973129.0...   \n",
              "3       http://images.amazon.com/images/P/0374157065.0...   \n",
              "4       http://images.amazon.com/images/P/0393045218.0...   \n",
              "...                                                   ...   \n",
              "271355  http://images.amazon.com/images/P/0440400988.0...   \n",
              "271356  http://images.amazon.com/images/P/0525447644.0...   \n",
              "271357  http://images.amazon.com/images/P/006008667X.0...   \n",
              "271358  http://images.amazon.com/images/P/0192126040.0...   \n",
              "271359  http://images.amazon.com/images/P/0767409752.0...   \n",
              "\n",
              "                                              Image-URL-L  \n",
              "0       http://images.amazon.com/images/P/0195153448.0...  \n",
              "1       http://images.amazon.com/images/P/0002005018.0...  \n",
              "2       http://images.amazon.com/images/P/0060973129.0...  \n",
              "3       http://images.amazon.com/images/P/0374157065.0...  \n",
              "4       http://images.amazon.com/images/P/0393045218.0...  \n",
              "...                                                   ...  \n",
              "271355  http://images.amazon.com/images/P/0440400988.0...  \n",
              "271356  http://images.amazon.com/images/P/0525447644.0...  \n",
              "271357  http://images.amazon.com/images/P/006008667X.0...  \n",
              "271358  http://images.amazon.com/images/P/0192126040.0...  \n",
              "271359  http://images.amazon.com/images/P/0767409752.0...  \n",
              "\n",
              "[271360 rows x 8 columns]"
            ],
            "text/html": [
              "\n",
              "  <div id=\"df-8ad70338-505e-4efb-b3ee-a021f1c0fb77\" class=\"colab-df-container\">\n",
              "    <div>\n",
              "<style scoped>\n",
              "    .dataframe tbody tr th:only-of-type {\n",
              "        vertical-align: middle;\n",
              "    }\n",
              "\n",
              "    .dataframe tbody tr th {\n",
              "        vertical-align: top;\n",
              "    }\n",
              "\n",
              "    .dataframe thead th {\n",
              "        text-align: right;\n",
              "    }\n",
              "</style>\n",
              "<table border=\"1\" class=\"dataframe\">\n",
              "  <thead>\n",
              "    <tr style=\"text-align: right;\">\n",
              "      <th></th>\n",
              "      <th>ISBN</th>\n",
              "      <th>Book-Title</th>\n",
              "      <th>Book-Author</th>\n",
              "      <th>Year-Of-Publication</th>\n",
              "      <th>Publisher</th>\n",
              "      <th>Image-URL-S</th>\n",
              "      <th>Image-URL-M</th>\n",
              "      <th>Image-URL-L</th>\n",
              "    </tr>\n",
              "  </thead>\n",
              "  <tbody>\n",
              "    <tr>\n",
              "      <th>0</th>\n",
              "      <td>0195153448</td>\n",
              "      <td>Classical Mythology</td>\n",
              "      <td>Mark P. O. Morford</td>\n",
              "      <td>2002</td>\n",
              "      <td>Oxford University Press</td>\n",
              "      <td>http://images.amazon.com/images/P/0195153448.0...</td>\n",
              "      <td>http://images.amazon.com/images/P/0195153448.0...</td>\n",
              "      <td>http://images.amazon.com/images/P/0195153448.0...</td>\n",
              "    </tr>\n",
              "    <tr>\n",
              "      <th>1</th>\n",
              "      <td>0002005018</td>\n",
              "      <td>Clara Callan</td>\n",
              "      <td>Richard Bruce Wright</td>\n",
              "      <td>2001</td>\n",
              "      <td>HarperFlamingo Canada</td>\n",
              "      <td>http://images.amazon.com/images/P/0002005018.0...</td>\n",
              "      <td>http://images.amazon.com/images/P/0002005018.0...</td>\n",
              "      <td>http://images.amazon.com/images/P/0002005018.0...</td>\n",
              "    </tr>\n",
              "    <tr>\n",
              "      <th>2</th>\n",
              "      <td>0060973129</td>\n",
              "      <td>Decision in Normandy</td>\n",
              "      <td>Carlo D'Este</td>\n",
              "      <td>1991</td>\n",
              "      <td>HarperPerennial</td>\n",
              "      <td>http://images.amazon.com/images/P/0060973129.0...</td>\n",
              "      <td>http://images.amazon.com/images/P/0060973129.0...</td>\n",
              "      <td>http://images.amazon.com/images/P/0060973129.0...</td>\n",
              "    </tr>\n",
              "    <tr>\n",
              "      <th>3</th>\n",
              "      <td>0374157065</td>\n",
              "      <td>Flu: The Story of the Great Influenza Pandemic...</td>\n",
              "      <td>Gina Bari Kolata</td>\n",
              "      <td>1999</td>\n",
              "      <td>Farrar Straus Giroux</td>\n",
              "      <td>http://images.amazon.com/images/P/0374157065.0...</td>\n",
              "      <td>http://images.amazon.com/images/P/0374157065.0...</td>\n",
              "      <td>http://images.amazon.com/images/P/0374157065.0...</td>\n",
              "    </tr>\n",
              "    <tr>\n",
              "      <th>4</th>\n",
              "      <td>0393045218</td>\n",
              "      <td>The Mummies of Urumchi</td>\n",
              "      <td>E. J. W. Barber</td>\n",
              "      <td>1999</td>\n",
              "      <td>W. W. Norton &amp;amp; Company</td>\n",
              "      <td>http://images.amazon.com/images/P/0393045218.0...</td>\n",
              "      <td>http://images.amazon.com/images/P/0393045218.0...</td>\n",
              "      <td>http://images.amazon.com/images/P/0393045218.0...</td>\n",
              "    </tr>\n",
              "    <tr>\n",
              "      <th>...</th>\n",
              "      <td>...</td>\n",
              "      <td>...</td>\n",
              "      <td>...</td>\n",
              "      <td>...</td>\n",
              "      <td>...</td>\n",
              "      <td>...</td>\n",
              "      <td>...</td>\n",
              "      <td>...</td>\n",
              "    </tr>\n",
              "    <tr>\n",
              "      <th>271355</th>\n",
              "      <td>0440400988</td>\n",
              "      <td>There's a Bat in Bunk Five</td>\n",
              "      <td>Paula Danziger</td>\n",
              "      <td>1988</td>\n",
              "      <td>Random House Childrens Pub (Mm)</td>\n",
              "      <td>http://images.amazon.com/images/P/0440400988.0...</td>\n",
              "      <td>http://images.amazon.com/images/P/0440400988.0...</td>\n",
              "      <td>http://images.amazon.com/images/P/0440400988.0...</td>\n",
              "    </tr>\n",
              "    <tr>\n",
              "      <th>271356</th>\n",
              "      <td>0525447644</td>\n",
              "      <td>From One to One Hundred</td>\n",
              "      <td>Teri Sloat</td>\n",
              "      <td>1991</td>\n",
              "      <td>Dutton Books</td>\n",
              "      <td>http://images.amazon.com/images/P/0525447644.0...</td>\n",
              "      <td>http://images.amazon.com/images/P/0525447644.0...</td>\n",
              "      <td>http://images.amazon.com/images/P/0525447644.0...</td>\n",
              "    </tr>\n",
              "    <tr>\n",
              "      <th>271357</th>\n",
              "      <td>006008667X</td>\n",
              "      <td>Lily Dale : The True Story of the Town that Ta...</td>\n",
              "      <td>Christine Wicker</td>\n",
              "      <td>2004</td>\n",
              "      <td>HarperSanFrancisco</td>\n",
              "      <td>http://images.amazon.com/images/P/006008667X.0...</td>\n",
              "      <td>http://images.amazon.com/images/P/006008667X.0...</td>\n",
              "      <td>http://images.amazon.com/images/P/006008667X.0...</td>\n",
              "    </tr>\n",
              "    <tr>\n",
              "      <th>271358</th>\n",
              "      <td>0192126040</td>\n",
              "      <td>Republic (World's Classics)</td>\n",
              "      <td>Plato</td>\n",
              "      <td>1996</td>\n",
              "      <td>Oxford University Press</td>\n",
              "      <td>http://images.amazon.com/images/P/0192126040.0...</td>\n",
              "      <td>http://images.amazon.com/images/P/0192126040.0...</td>\n",
              "      <td>http://images.amazon.com/images/P/0192126040.0...</td>\n",
              "    </tr>\n",
              "    <tr>\n",
              "      <th>271359</th>\n",
              "      <td>0767409752</td>\n",
              "      <td>A Guided Tour of Rene Descartes' Meditations o...</td>\n",
              "      <td>Christopher  Biffle</td>\n",
              "      <td>2000</td>\n",
              "      <td>McGraw-Hill Humanities/Social Sciences/Languages</td>\n",
              "      <td>http://images.amazon.com/images/P/0767409752.0...</td>\n",
              "      <td>http://images.amazon.com/images/P/0767409752.0...</td>\n",
              "      <td>http://images.amazon.com/images/P/0767409752.0...</td>\n",
              "    </tr>\n",
              "  </tbody>\n",
              "</table>\n",
              "<p>271360 rows × 8 columns</p>\n",
              "</div>\n",
              "    <div class=\"colab-df-buttons\">\n",
              "\n",
              "  <div class=\"colab-df-container\">\n",
              "    <button class=\"colab-df-convert\" onclick=\"convertToInteractive('df-8ad70338-505e-4efb-b3ee-a021f1c0fb77')\"\n",
              "            title=\"Convert this dataframe to an interactive table.\"\n",
              "            style=\"display:none;\">\n",
              "\n",
              "  <svg xmlns=\"http://www.w3.org/2000/svg\" height=\"24px\" viewBox=\"0 -960 960 960\">\n",
              "    <path d=\"M120-120v-720h720v720H120Zm60-500h600v-160H180v160Zm220 220h160v-160H400v160Zm0 220h160v-160H400v160ZM180-400h160v-160H180v160Zm440 0h160v-160H620v160ZM180-180h160v-160H180v160Zm440 0h160v-160H620v160Z\"/>\n",
              "  </svg>\n",
              "    </button>\n",
              "\n",
              "  <style>\n",
              "    .colab-df-container {\n",
              "      display:flex;\n",
              "      gap: 12px;\n",
              "    }\n",
              "\n",
              "    .colab-df-convert {\n",
              "      background-color: #E8F0FE;\n",
              "      border: none;\n",
              "      border-radius: 50%;\n",
              "      cursor: pointer;\n",
              "      display: none;\n",
              "      fill: #1967D2;\n",
              "      height: 32px;\n",
              "      padding: 0 0 0 0;\n",
              "      width: 32px;\n",
              "    }\n",
              "\n",
              "    .colab-df-convert:hover {\n",
              "      background-color: #E2EBFA;\n",
              "      box-shadow: 0px 1px 2px rgba(60, 64, 67, 0.3), 0px 1px 3px 1px rgba(60, 64, 67, 0.15);\n",
              "      fill: #174EA6;\n",
              "    }\n",
              "\n",
              "    .colab-df-buttons div {\n",
              "      margin-bottom: 4px;\n",
              "    }\n",
              "\n",
              "    [theme=dark] .colab-df-convert {\n",
              "      background-color: #3B4455;\n",
              "      fill: #D2E3FC;\n",
              "    }\n",
              "\n",
              "    [theme=dark] .colab-df-convert:hover {\n",
              "      background-color: #434B5C;\n",
              "      box-shadow: 0px 1px 3px 1px rgba(0, 0, 0, 0.15);\n",
              "      filter: drop-shadow(0px 1px 2px rgba(0, 0, 0, 0.3));\n",
              "      fill: #FFFFFF;\n",
              "    }\n",
              "  </style>\n",
              "\n",
              "    <script>\n",
              "      const buttonEl =\n",
              "        document.querySelector('#df-8ad70338-505e-4efb-b3ee-a021f1c0fb77 button.colab-df-convert');\n",
              "      buttonEl.style.display =\n",
              "        google.colab.kernel.accessAllowed ? 'block' : 'none';\n",
              "\n",
              "      async function convertToInteractive(key) {\n",
              "        const element = document.querySelector('#df-8ad70338-505e-4efb-b3ee-a021f1c0fb77');\n",
              "        const dataTable =\n",
              "          await google.colab.kernel.invokeFunction('convertToInteractive',\n",
              "                                                    [key], {});\n",
              "        if (!dataTable) return;\n",
              "\n",
              "        const docLinkHtml = 'Like what you see? Visit the ' +\n",
              "          '<a target=\"_blank\" href=https://colab.research.google.com/notebooks/data_table.ipynb>data table notebook</a>'\n",
              "          + ' to learn more about interactive tables.';\n",
              "        element.innerHTML = '';\n",
              "        dataTable['output_type'] = 'display_data';\n",
              "        await google.colab.output.renderOutput(dataTable, element);\n",
              "        const docLink = document.createElement('div');\n",
              "        docLink.innerHTML = docLinkHtml;\n",
              "        element.appendChild(docLink);\n",
              "      }\n",
              "    </script>\n",
              "  </div>\n",
              "\n",
              "\n",
              "    <div id=\"df-4efab175-8d0a-40b5-bf3f-ae9561234e97\">\n",
              "      <button class=\"colab-df-quickchart\" onclick=\"quickchart('df-4efab175-8d0a-40b5-bf3f-ae9561234e97')\"\n",
              "                title=\"Suggest charts\"\n",
              "                style=\"display:none;\">\n",
              "\n",
              "<svg xmlns=\"http://www.w3.org/2000/svg\" height=\"24px\"viewBox=\"0 0 24 24\"\n",
              "     width=\"24px\">\n",
              "    <g>\n",
              "        <path d=\"M19 3H5c-1.1 0-2 .9-2 2v14c0 1.1.9 2 2 2h14c1.1 0 2-.9 2-2V5c0-1.1-.9-2-2-2zM9 17H7v-7h2v7zm4 0h-2V7h2v10zm4 0h-2v-4h2v4z\"/>\n",
              "    </g>\n",
              "</svg>\n",
              "      </button>\n",
              "\n",
              "<style>\n",
              "  .colab-df-quickchart {\n",
              "      --bg-color: #E8F0FE;\n",
              "      --fill-color: #1967D2;\n",
              "      --hover-bg-color: #E2EBFA;\n",
              "      --hover-fill-color: #174EA6;\n",
              "      --disabled-fill-color: #AAA;\n",
              "      --disabled-bg-color: #DDD;\n",
              "  }\n",
              "\n",
              "  [theme=dark] .colab-df-quickchart {\n",
              "      --bg-color: #3B4455;\n",
              "      --fill-color: #D2E3FC;\n",
              "      --hover-bg-color: #434B5C;\n",
              "      --hover-fill-color: #FFFFFF;\n",
              "      --disabled-bg-color: #3B4455;\n",
              "      --disabled-fill-color: #666;\n",
              "  }\n",
              "\n",
              "  .colab-df-quickchart {\n",
              "    background-color: var(--bg-color);\n",
              "    border: none;\n",
              "    border-radius: 50%;\n",
              "    cursor: pointer;\n",
              "    display: none;\n",
              "    fill: var(--fill-color);\n",
              "    height: 32px;\n",
              "    padding: 0;\n",
              "    width: 32px;\n",
              "  }\n",
              "\n",
              "  .colab-df-quickchart:hover {\n",
              "    background-color: var(--hover-bg-color);\n",
              "    box-shadow: 0 1px 2px rgba(60, 64, 67, 0.3), 0 1px 3px 1px rgba(60, 64, 67, 0.15);\n",
              "    fill: var(--button-hover-fill-color);\n",
              "  }\n",
              "\n",
              "  .colab-df-quickchart-complete:disabled,\n",
              "  .colab-df-quickchart-complete:disabled:hover {\n",
              "    background-color: var(--disabled-bg-color);\n",
              "    fill: var(--disabled-fill-color);\n",
              "    box-shadow: none;\n",
              "  }\n",
              "\n",
              "  .colab-df-spinner {\n",
              "    border: 2px solid var(--fill-color);\n",
              "    border-color: transparent;\n",
              "    border-bottom-color: var(--fill-color);\n",
              "    animation:\n",
              "      spin 1s steps(1) infinite;\n",
              "  }\n",
              "\n",
              "  @keyframes spin {\n",
              "    0% {\n",
              "      border-color: transparent;\n",
              "      border-bottom-color: var(--fill-color);\n",
              "      border-left-color: var(--fill-color);\n",
              "    }\n",
              "    20% {\n",
              "      border-color: transparent;\n",
              "      border-left-color: var(--fill-color);\n",
              "      border-top-color: var(--fill-color);\n",
              "    }\n",
              "    30% {\n",
              "      border-color: transparent;\n",
              "      border-left-color: var(--fill-color);\n",
              "      border-top-color: var(--fill-color);\n",
              "      border-right-color: var(--fill-color);\n",
              "    }\n",
              "    40% {\n",
              "      border-color: transparent;\n",
              "      border-right-color: var(--fill-color);\n",
              "      border-top-color: var(--fill-color);\n",
              "    }\n",
              "    60% {\n",
              "      border-color: transparent;\n",
              "      border-right-color: var(--fill-color);\n",
              "    }\n",
              "    80% {\n",
              "      border-color: transparent;\n",
              "      border-right-color: var(--fill-color);\n",
              "      border-bottom-color: var(--fill-color);\n",
              "    }\n",
              "    90% {\n",
              "      border-color: transparent;\n",
              "      border-bottom-color: var(--fill-color);\n",
              "    }\n",
              "  }\n",
              "</style>\n",
              "\n",
              "      <script>\n",
              "        async function quickchart(key) {\n",
              "          const quickchartButtonEl =\n",
              "            document.querySelector('#' + key + ' button');\n",
              "          quickchartButtonEl.disabled = true;  // To prevent multiple clicks.\n",
              "          quickchartButtonEl.classList.add('colab-df-spinner');\n",
              "          try {\n",
              "            const charts = await google.colab.kernel.invokeFunction(\n",
              "                'suggestCharts', [key], {});\n",
              "          } catch (error) {\n",
              "            console.error('Error during call to suggestCharts:', error);\n",
              "          }\n",
              "          quickchartButtonEl.classList.remove('colab-df-spinner');\n",
              "          quickchartButtonEl.classList.add('colab-df-quickchart-complete');\n",
              "        }\n",
              "        (() => {\n",
              "          let quickchartButtonEl =\n",
              "            document.querySelector('#df-4efab175-8d0a-40b5-bf3f-ae9561234e97 button');\n",
              "          quickchartButtonEl.style.display =\n",
              "            google.colab.kernel.accessAllowed ? 'block' : 'none';\n",
              "        })();\n",
              "      </script>\n",
              "    </div>\n",
              "\n",
              "  <div id=\"id_3ff7d9ed-6b69-4c4c-9a7e-49bac937e414\">\n",
              "    <style>\n",
              "      .colab-df-generate {\n",
              "        background-color: #E8F0FE;\n",
              "        border: none;\n",
              "        border-radius: 50%;\n",
              "        cursor: pointer;\n",
              "        display: none;\n",
              "        fill: #1967D2;\n",
              "        height: 32px;\n",
              "        padding: 0 0 0 0;\n",
              "        width: 32px;\n",
              "      }\n",
              "\n",
              "      .colab-df-generate:hover {\n",
              "        background-color: #E2EBFA;\n",
              "        box-shadow: 0px 1px 2px rgba(60, 64, 67, 0.3), 0px 1px 3px 1px rgba(60, 64, 67, 0.15);\n",
              "        fill: #174EA6;\n",
              "      }\n",
              "\n",
              "      [theme=dark] .colab-df-generate {\n",
              "        background-color: #3B4455;\n",
              "        fill: #D2E3FC;\n",
              "      }\n",
              "\n",
              "      [theme=dark] .colab-df-generate:hover {\n",
              "        background-color: #434B5C;\n",
              "        box-shadow: 0px 1px 3px 1px rgba(0, 0, 0, 0.15);\n",
              "        filter: drop-shadow(0px 1px 2px rgba(0, 0, 0, 0.3));\n",
              "        fill: #FFFFFF;\n",
              "      }\n",
              "    </style>\n",
              "    <button class=\"colab-df-generate\" onclick=\"generateWithVariable('df_book')\"\n",
              "            title=\"Generate code using this dataframe.\"\n",
              "            style=\"display:none;\">\n",
              "\n",
              "  <svg xmlns=\"http://www.w3.org/2000/svg\" height=\"24px\"viewBox=\"0 0 24 24\"\n",
              "       width=\"24px\">\n",
              "    <path d=\"M7,19H8.4L18.45,9,17,7.55,7,17.6ZM5,21V16.75L18.45,3.32a2,2,0,0,1,2.83,0l1.4,1.43a1.91,1.91,0,0,1,.58,1.4,1.91,1.91,0,0,1-.58,1.4L9.25,21ZM18.45,9,17,7.55Zm-12,3A5.31,5.31,0,0,0,4.9,8.1,5.31,5.31,0,0,0,1,6.5,5.31,5.31,0,0,0,4.9,4.9,5.31,5.31,0,0,0,6.5,1,5.31,5.31,0,0,0,8.1,4.9,5.31,5.31,0,0,0,12,6.5,5.46,5.46,0,0,0,6.5,12Z\"/>\n",
              "  </svg>\n",
              "    </button>\n",
              "    <script>\n",
              "      (() => {\n",
              "      const buttonEl =\n",
              "        document.querySelector('#id_3ff7d9ed-6b69-4c4c-9a7e-49bac937e414 button.colab-df-generate');\n",
              "      buttonEl.style.display =\n",
              "        google.colab.kernel.accessAllowed ? 'block' : 'none';\n",
              "\n",
              "      buttonEl.onclick = () => {\n",
              "        google.colab.notebook.generateWithVariable('df_book');\n",
              "      }\n",
              "      })();\n",
              "    </script>\n",
              "  </div>\n",
              "\n",
              "    </div>\n",
              "  </div>\n"
            ],
            "application/vnd.google.colaboratory.intrinsic+json": {
              "type": "dataframe",
              "variable_name": "df_book"
            }
          },
          "metadata": {},
          "execution_count": 4
        }
      ]
    },
    {
      "cell_type": "markdown",
      "source": [
        "## Membaca Dataset Rating\n",
        "Pada tahap ini, kita melakukan **pembacaan file dataset** berisi data rating buku yang diberikan oleh pengguna.\n",
        "File `Ratings.csv` akan dimuat ke dalam sebuah DataFrame untuk dianalisis pada tahap selanjutnya.\n",
        "\n",
        "---\n"
      ],
      "metadata": {
        "id": "HNdiv_mmkYn8"
      }
    },
    {
      "cell_type": "code",
      "source": [
        "df_rating = pd.read_csv(os.path.join(path, \"Ratings.csv\"))\n",
        "df_rating"
      ],
      "metadata": {
        "colab": {
          "base_uri": "https://localhost:8080/",
          "height": 0
        },
        "id": "E4ZXqi3w2OGC",
        "outputId": "d44ef82a-eef7-4b60-f9ae-d36923bd6301"
      },
      "execution_count": 5,
      "outputs": [
        {
          "output_type": "execute_result",
          "data": {
            "text/plain": [
              "         User-ID         ISBN  Book-Rating\n",
              "0         276725   034545104X            0\n",
              "1         276726   0155061224            5\n",
              "2         276727   0446520802            0\n",
              "3         276729   052165615X            3\n",
              "4         276729   0521795028            6\n",
              "...          ...          ...          ...\n",
              "1149775   276704   1563526298            9\n",
              "1149776   276706   0679447156            0\n",
              "1149777   276709   0515107662           10\n",
              "1149778   276721   0590442449           10\n",
              "1149779   276723  05162443314            8\n",
              "\n",
              "[1149780 rows x 3 columns]"
            ],
            "text/html": [
              "\n",
              "  <div id=\"df-1fcecda5-cd7c-4a79-bfd1-8e5735a23fd9\" class=\"colab-df-container\">\n",
              "    <div>\n",
              "<style scoped>\n",
              "    .dataframe tbody tr th:only-of-type {\n",
              "        vertical-align: middle;\n",
              "    }\n",
              "\n",
              "    .dataframe tbody tr th {\n",
              "        vertical-align: top;\n",
              "    }\n",
              "\n",
              "    .dataframe thead th {\n",
              "        text-align: right;\n",
              "    }\n",
              "</style>\n",
              "<table border=\"1\" class=\"dataframe\">\n",
              "  <thead>\n",
              "    <tr style=\"text-align: right;\">\n",
              "      <th></th>\n",
              "      <th>User-ID</th>\n",
              "      <th>ISBN</th>\n",
              "      <th>Book-Rating</th>\n",
              "    </tr>\n",
              "  </thead>\n",
              "  <tbody>\n",
              "    <tr>\n",
              "      <th>0</th>\n",
              "      <td>276725</td>\n",
              "      <td>034545104X</td>\n",
              "      <td>0</td>\n",
              "    </tr>\n",
              "    <tr>\n",
              "      <th>1</th>\n",
              "      <td>276726</td>\n",
              "      <td>0155061224</td>\n",
              "      <td>5</td>\n",
              "    </tr>\n",
              "    <tr>\n",
              "      <th>2</th>\n",
              "      <td>276727</td>\n",
              "      <td>0446520802</td>\n",
              "      <td>0</td>\n",
              "    </tr>\n",
              "    <tr>\n",
              "      <th>3</th>\n",
              "      <td>276729</td>\n",
              "      <td>052165615X</td>\n",
              "      <td>3</td>\n",
              "    </tr>\n",
              "    <tr>\n",
              "      <th>4</th>\n",
              "      <td>276729</td>\n",
              "      <td>0521795028</td>\n",
              "      <td>6</td>\n",
              "    </tr>\n",
              "    <tr>\n",
              "      <th>...</th>\n",
              "      <td>...</td>\n",
              "      <td>...</td>\n",
              "      <td>...</td>\n",
              "    </tr>\n",
              "    <tr>\n",
              "      <th>1149775</th>\n",
              "      <td>276704</td>\n",
              "      <td>1563526298</td>\n",
              "      <td>9</td>\n",
              "    </tr>\n",
              "    <tr>\n",
              "      <th>1149776</th>\n",
              "      <td>276706</td>\n",
              "      <td>0679447156</td>\n",
              "      <td>0</td>\n",
              "    </tr>\n",
              "    <tr>\n",
              "      <th>1149777</th>\n",
              "      <td>276709</td>\n",
              "      <td>0515107662</td>\n",
              "      <td>10</td>\n",
              "    </tr>\n",
              "    <tr>\n",
              "      <th>1149778</th>\n",
              "      <td>276721</td>\n",
              "      <td>0590442449</td>\n",
              "      <td>10</td>\n",
              "    </tr>\n",
              "    <tr>\n",
              "      <th>1149779</th>\n",
              "      <td>276723</td>\n",
              "      <td>05162443314</td>\n",
              "      <td>8</td>\n",
              "    </tr>\n",
              "  </tbody>\n",
              "</table>\n",
              "<p>1149780 rows × 3 columns</p>\n",
              "</div>\n",
              "    <div class=\"colab-df-buttons\">\n",
              "\n",
              "  <div class=\"colab-df-container\">\n",
              "    <button class=\"colab-df-convert\" onclick=\"convertToInteractive('df-1fcecda5-cd7c-4a79-bfd1-8e5735a23fd9')\"\n",
              "            title=\"Convert this dataframe to an interactive table.\"\n",
              "            style=\"display:none;\">\n",
              "\n",
              "  <svg xmlns=\"http://www.w3.org/2000/svg\" height=\"24px\" viewBox=\"0 -960 960 960\">\n",
              "    <path d=\"M120-120v-720h720v720H120Zm60-500h600v-160H180v160Zm220 220h160v-160H400v160Zm0 220h160v-160H400v160ZM180-400h160v-160H180v160Zm440 0h160v-160H620v160ZM180-180h160v-160H180v160Zm440 0h160v-160H620v160Z\"/>\n",
              "  </svg>\n",
              "    </button>\n",
              "\n",
              "  <style>\n",
              "    .colab-df-container {\n",
              "      display:flex;\n",
              "      gap: 12px;\n",
              "    }\n",
              "\n",
              "    .colab-df-convert {\n",
              "      background-color: #E8F0FE;\n",
              "      border: none;\n",
              "      border-radius: 50%;\n",
              "      cursor: pointer;\n",
              "      display: none;\n",
              "      fill: #1967D2;\n",
              "      height: 32px;\n",
              "      padding: 0 0 0 0;\n",
              "      width: 32px;\n",
              "    }\n",
              "\n",
              "    .colab-df-convert:hover {\n",
              "      background-color: #E2EBFA;\n",
              "      box-shadow: 0px 1px 2px rgba(60, 64, 67, 0.3), 0px 1px 3px 1px rgba(60, 64, 67, 0.15);\n",
              "      fill: #174EA6;\n",
              "    }\n",
              "\n",
              "    .colab-df-buttons div {\n",
              "      margin-bottom: 4px;\n",
              "    }\n",
              "\n",
              "    [theme=dark] .colab-df-convert {\n",
              "      background-color: #3B4455;\n",
              "      fill: #D2E3FC;\n",
              "    }\n",
              "\n",
              "    [theme=dark] .colab-df-convert:hover {\n",
              "      background-color: #434B5C;\n",
              "      box-shadow: 0px 1px 3px 1px rgba(0, 0, 0, 0.15);\n",
              "      filter: drop-shadow(0px 1px 2px rgba(0, 0, 0, 0.3));\n",
              "      fill: #FFFFFF;\n",
              "    }\n",
              "  </style>\n",
              "\n",
              "    <script>\n",
              "      const buttonEl =\n",
              "        document.querySelector('#df-1fcecda5-cd7c-4a79-bfd1-8e5735a23fd9 button.colab-df-convert');\n",
              "      buttonEl.style.display =\n",
              "        google.colab.kernel.accessAllowed ? 'block' : 'none';\n",
              "\n",
              "      async function convertToInteractive(key) {\n",
              "        const element = document.querySelector('#df-1fcecda5-cd7c-4a79-bfd1-8e5735a23fd9');\n",
              "        const dataTable =\n",
              "          await google.colab.kernel.invokeFunction('convertToInteractive',\n",
              "                                                    [key], {});\n",
              "        if (!dataTable) return;\n",
              "\n",
              "        const docLinkHtml = 'Like what you see? Visit the ' +\n",
              "          '<a target=\"_blank\" href=https://colab.research.google.com/notebooks/data_table.ipynb>data table notebook</a>'\n",
              "          + ' to learn more about interactive tables.';\n",
              "        element.innerHTML = '';\n",
              "        dataTable['output_type'] = 'display_data';\n",
              "        await google.colab.output.renderOutput(dataTable, element);\n",
              "        const docLink = document.createElement('div');\n",
              "        docLink.innerHTML = docLinkHtml;\n",
              "        element.appendChild(docLink);\n",
              "      }\n",
              "    </script>\n",
              "  </div>\n",
              "\n",
              "\n",
              "    <div id=\"df-b1e9392a-6435-44ca-b853-b8362c39113b\">\n",
              "      <button class=\"colab-df-quickchart\" onclick=\"quickchart('df-b1e9392a-6435-44ca-b853-b8362c39113b')\"\n",
              "                title=\"Suggest charts\"\n",
              "                style=\"display:none;\">\n",
              "\n",
              "<svg xmlns=\"http://www.w3.org/2000/svg\" height=\"24px\"viewBox=\"0 0 24 24\"\n",
              "     width=\"24px\">\n",
              "    <g>\n",
              "        <path d=\"M19 3H5c-1.1 0-2 .9-2 2v14c0 1.1.9 2 2 2h14c1.1 0 2-.9 2-2V5c0-1.1-.9-2-2-2zM9 17H7v-7h2v7zm4 0h-2V7h2v10zm4 0h-2v-4h2v4z\"/>\n",
              "    </g>\n",
              "</svg>\n",
              "      </button>\n",
              "\n",
              "<style>\n",
              "  .colab-df-quickchart {\n",
              "      --bg-color: #E8F0FE;\n",
              "      --fill-color: #1967D2;\n",
              "      --hover-bg-color: #E2EBFA;\n",
              "      --hover-fill-color: #174EA6;\n",
              "      --disabled-fill-color: #AAA;\n",
              "      --disabled-bg-color: #DDD;\n",
              "  }\n",
              "\n",
              "  [theme=dark] .colab-df-quickchart {\n",
              "      --bg-color: #3B4455;\n",
              "      --fill-color: #D2E3FC;\n",
              "      --hover-bg-color: #434B5C;\n",
              "      --hover-fill-color: #FFFFFF;\n",
              "      --disabled-bg-color: #3B4455;\n",
              "      --disabled-fill-color: #666;\n",
              "  }\n",
              "\n",
              "  .colab-df-quickchart {\n",
              "    background-color: var(--bg-color);\n",
              "    border: none;\n",
              "    border-radius: 50%;\n",
              "    cursor: pointer;\n",
              "    display: none;\n",
              "    fill: var(--fill-color);\n",
              "    height: 32px;\n",
              "    padding: 0;\n",
              "    width: 32px;\n",
              "  }\n",
              "\n",
              "  .colab-df-quickchart:hover {\n",
              "    background-color: var(--hover-bg-color);\n",
              "    box-shadow: 0 1px 2px rgba(60, 64, 67, 0.3), 0 1px 3px 1px rgba(60, 64, 67, 0.15);\n",
              "    fill: var(--button-hover-fill-color);\n",
              "  }\n",
              "\n",
              "  .colab-df-quickchart-complete:disabled,\n",
              "  .colab-df-quickchart-complete:disabled:hover {\n",
              "    background-color: var(--disabled-bg-color);\n",
              "    fill: var(--disabled-fill-color);\n",
              "    box-shadow: none;\n",
              "  }\n",
              "\n",
              "  .colab-df-spinner {\n",
              "    border: 2px solid var(--fill-color);\n",
              "    border-color: transparent;\n",
              "    border-bottom-color: var(--fill-color);\n",
              "    animation:\n",
              "      spin 1s steps(1) infinite;\n",
              "  }\n",
              "\n",
              "  @keyframes spin {\n",
              "    0% {\n",
              "      border-color: transparent;\n",
              "      border-bottom-color: var(--fill-color);\n",
              "      border-left-color: var(--fill-color);\n",
              "    }\n",
              "    20% {\n",
              "      border-color: transparent;\n",
              "      border-left-color: var(--fill-color);\n",
              "      border-top-color: var(--fill-color);\n",
              "    }\n",
              "    30% {\n",
              "      border-color: transparent;\n",
              "      border-left-color: var(--fill-color);\n",
              "      border-top-color: var(--fill-color);\n",
              "      border-right-color: var(--fill-color);\n",
              "    }\n",
              "    40% {\n",
              "      border-color: transparent;\n",
              "      border-right-color: var(--fill-color);\n",
              "      border-top-color: var(--fill-color);\n",
              "    }\n",
              "    60% {\n",
              "      border-color: transparent;\n",
              "      border-right-color: var(--fill-color);\n",
              "    }\n",
              "    80% {\n",
              "      border-color: transparent;\n",
              "      border-right-color: var(--fill-color);\n",
              "      border-bottom-color: var(--fill-color);\n",
              "    }\n",
              "    90% {\n",
              "      border-color: transparent;\n",
              "      border-bottom-color: var(--fill-color);\n",
              "    }\n",
              "  }\n",
              "</style>\n",
              "\n",
              "      <script>\n",
              "        async function quickchart(key) {\n",
              "          const quickchartButtonEl =\n",
              "            document.querySelector('#' + key + ' button');\n",
              "          quickchartButtonEl.disabled = true;  // To prevent multiple clicks.\n",
              "          quickchartButtonEl.classList.add('colab-df-spinner');\n",
              "          try {\n",
              "            const charts = await google.colab.kernel.invokeFunction(\n",
              "                'suggestCharts', [key], {});\n",
              "          } catch (error) {\n",
              "            console.error('Error during call to suggestCharts:', error);\n",
              "          }\n",
              "          quickchartButtonEl.classList.remove('colab-df-spinner');\n",
              "          quickchartButtonEl.classList.add('colab-df-quickchart-complete');\n",
              "        }\n",
              "        (() => {\n",
              "          let quickchartButtonEl =\n",
              "            document.querySelector('#df-b1e9392a-6435-44ca-b853-b8362c39113b button');\n",
              "          quickchartButtonEl.style.display =\n",
              "            google.colab.kernel.accessAllowed ? 'block' : 'none';\n",
              "        })();\n",
              "      </script>\n",
              "    </div>\n",
              "\n",
              "  <div id=\"id_f7612c4f-4e61-4219-bbb8-36674fe704a5\">\n",
              "    <style>\n",
              "      .colab-df-generate {\n",
              "        background-color: #E8F0FE;\n",
              "        border: none;\n",
              "        border-radius: 50%;\n",
              "        cursor: pointer;\n",
              "        display: none;\n",
              "        fill: #1967D2;\n",
              "        height: 32px;\n",
              "        padding: 0 0 0 0;\n",
              "        width: 32px;\n",
              "      }\n",
              "\n",
              "      .colab-df-generate:hover {\n",
              "        background-color: #E2EBFA;\n",
              "        box-shadow: 0px 1px 2px rgba(60, 64, 67, 0.3), 0px 1px 3px 1px rgba(60, 64, 67, 0.15);\n",
              "        fill: #174EA6;\n",
              "      }\n",
              "\n",
              "      [theme=dark] .colab-df-generate {\n",
              "        background-color: #3B4455;\n",
              "        fill: #D2E3FC;\n",
              "      }\n",
              "\n",
              "      [theme=dark] .colab-df-generate:hover {\n",
              "        background-color: #434B5C;\n",
              "        box-shadow: 0px 1px 3px 1px rgba(0, 0, 0, 0.15);\n",
              "        filter: drop-shadow(0px 1px 2px rgba(0, 0, 0, 0.3));\n",
              "        fill: #FFFFFF;\n",
              "      }\n",
              "    </style>\n",
              "    <button class=\"colab-df-generate\" onclick=\"generateWithVariable('df_rating')\"\n",
              "            title=\"Generate code using this dataframe.\"\n",
              "            style=\"display:none;\">\n",
              "\n",
              "  <svg xmlns=\"http://www.w3.org/2000/svg\" height=\"24px\"viewBox=\"0 0 24 24\"\n",
              "       width=\"24px\">\n",
              "    <path d=\"M7,19H8.4L18.45,9,17,7.55,7,17.6ZM5,21V16.75L18.45,3.32a2,2,0,0,1,2.83,0l1.4,1.43a1.91,1.91,0,0,1,.58,1.4,1.91,1.91,0,0,1-.58,1.4L9.25,21ZM18.45,9,17,7.55Zm-12,3A5.31,5.31,0,0,0,4.9,8.1,5.31,5.31,0,0,0,1,6.5,5.31,5.31,0,0,0,4.9,4.9,5.31,5.31,0,0,0,6.5,1,5.31,5.31,0,0,0,8.1,4.9,5.31,5.31,0,0,0,12,6.5,5.46,5.46,0,0,0,6.5,12Z\"/>\n",
              "  </svg>\n",
              "    </button>\n",
              "    <script>\n",
              "      (() => {\n",
              "      const buttonEl =\n",
              "        document.querySelector('#id_f7612c4f-4e61-4219-bbb8-36674fe704a5 button.colab-df-generate');\n",
              "      buttonEl.style.display =\n",
              "        google.colab.kernel.accessAllowed ? 'block' : 'none';\n",
              "\n",
              "      buttonEl.onclick = () => {\n",
              "        google.colab.notebook.generateWithVariable('df_rating');\n",
              "      }\n",
              "      })();\n",
              "    </script>\n",
              "  </div>\n",
              "\n",
              "    </div>\n",
              "  </div>\n"
            ],
            "application/vnd.google.colaboratory.intrinsic+json": {
              "type": "dataframe",
              "variable_name": "df_rating"
            }
          },
          "metadata": {},
          "execution_count": 5
        }
      ]
    },
    {
      "cell_type": "markdown",
      "source": [
        "## Membaca Dataset Pengguna\n",
        "Pada tahap ini, kita melakukan **pembacaan file dataset** berisi data pengguna yang memberikan rating terhadap buku.\n",
        "File `Users.csv` akan dimuat ke dalam sebuah DataFrame untuk analisis lebih lanjut.\n",
        "\n",
        "---\n"
      ],
      "metadata": {
        "id": "TtyHCoemlDMs"
      }
    },
    {
      "cell_type": "code",
      "source": [
        "df_user = pd.read_csv(os.path.join(path, \"Users.csv\"))\n",
        "df_user"
      ],
      "metadata": {
        "colab": {
          "base_uri": "https://localhost:8080/",
          "height": 0
        },
        "id": "kAGARdxy2Wmu",
        "outputId": "ce56e924-adf1-4b43-b000-ae461a5778d8"
      },
      "execution_count": 6,
      "outputs": [
        {
          "output_type": "execute_result",
          "data": {
            "text/plain": [
              "        User-ID                            Location   Age\n",
              "0             1                  nyc, new york, usa   NaN\n",
              "1             2           stockton, california, usa  18.0\n",
              "2             3     moscow, yukon territory, russia   NaN\n",
              "3             4           porto, v.n.gaia, portugal  17.0\n",
              "4             5  farnborough, hants, united kingdom   NaN\n",
              "...         ...                                 ...   ...\n",
              "278853   278854               portland, oregon, usa   NaN\n",
              "278854   278855  tacoma, washington, united kingdom  50.0\n",
              "278855   278856           brampton, ontario, canada   NaN\n",
              "278856   278857           knoxville, tennessee, usa   NaN\n",
              "278857   278858                dublin, n/a, ireland   NaN\n",
              "\n",
              "[278858 rows x 3 columns]"
            ],
            "text/html": [
              "\n",
              "  <div id=\"df-c942b86e-2e73-4de6-8711-84c20f616d51\" class=\"colab-df-container\">\n",
              "    <div>\n",
              "<style scoped>\n",
              "    .dataframe tbody tr th:only-of-type {\n",
              "        vertical-align: middle;\n",
              "    }\n",
              "\n",
              "    .dataframe tbody tr th {\n",
              "        vertical-align: top;\n",
              "    }\n",
              "\n",
              "    .dataframe thead th {\n",
              "        text-align: right;\n",
              "    }\n",
              "</style>\n",
              "<table border=\"1\" class=\"dataframe\">\n",
              "  <thead>\n",
              "    <tr style=\"text-align: right;\">\n",
              "      <th></th>\n",
              "      <th>User-ID</th>\n",
              "      <th>Location</th>\n",
              "      <th>Age</th>\n",
              "    </tr>\n",
              "  </thead>\n",
              "  <tbody>\n",
              "    <tr>\n",
              "      <th>0</th>\n",
              "      <td>1</td>\n",
              "      <td>nyc, new york, usa</td>\n",
              "      <td>NaN</td>\n",
              "    </tr>\n",
              "    <tr>\n",
              "      <th>1</th>\n",
              "      <td>2</td>\n",
              "      <td>stockton, california, usa</td>\n",
              "      <td>18.0</td>\n",
              "    </tr>\n",
              "    <tr>\n",
              "      <th>2</th>\n",
              "      <td>3</td>\n",
              "      <td>moscow, yukon territory, russia</td>\n",
              "      <td>NaN</td>\n",
              "    </tr>\n",
              "    <tr>\n",
              "      <th>3</th>\n",
              "      <td>4</td>\n",
              "      <td>porto, v.n.gaia, portugal</td>\n",
              "      <td>17.0</td>\n",
              "    </tr>\n",
              "    <tr>\n",
              "      <th>4</th>\n",
              "      <td>5</td>\n",
              "      <td>farnborough, hants, united kingdom</td>\n",
              "      <td>NaN</td>\n",
              "    </tr>\n",
              "    <tr>\n",
              "      <th>...</th>\n",
              "      <td>...</td>\n",
              "      <td>...</td>\n",
              "      <td>...</td>\n",
              "    </tr>\n",
              "    <tr>\n",
              "      <th>278853</th>\n",
              "      <td>278854</td>\n",
              "      <td>portland, oregon, usa</td>\n",
              "      <td>NaN</td>\n",
              "    </tr>\n",
              "    <tr>\n",
              "      <th>278854</th>\n",
              "      <td>278855</td>\n",
              "      <td>tacoma, washington, united kingdom</td>\n",
              "      <td>50.0</td>\n",
              "    </tr>\n",
              "    <tr>\n",
              "      <th>278855</th>\n",
              "      <td>278856</td>\n",
              "      <td>brampton, ontario, canada</td>\n",
              "      <td>NaN</td>\n",
              "    </tr>\n",
              "    <tr>\n",
              "      <th>278856</th>\n",
              "      <td>278857</td>\n",
              "      <td>knoxville, tennessee, usa</td>\n",
              "      <td>NaN</td>\n",
              "    </tr>\n",
              "    <tr>\n",
              "      <th>278857</th>\n",
              "      <td>278858</td>\n",
              "      <td>dublin, n/a, ireland</td>\n",
              "      <td>NaN</td>\n",
              "    </tr>\n",
              "  </tbody>\n",
              "</table>\n",
              "<p>278858 rows × 3 columns</p>\n",
              "</div>\n",
              "    <div class=\"colab-df-buttons\">\n",
              "\n",
              "  <div class=\"colab-df-container\">\n",
              "    <button class=\"colab-df-convert\" onclick=\"convertToInteractive('df-c942b86e-2e73-4de6-8711-84c20f616d51')\"\n",
              "            title=\"Convert this dataframe to an interactive table.\"\n",
              "            style=\"display:none;\">\n",
              "\n",
              "  <svg xmlns=\"http://www.w3.org/2000/svg\" height=\"24px\" viewBox=\"0 -960 960 960\">\n",
              "    <path d=\"M120-120v-720h720v720H120Zm60-500h600v-160H180v160Zm220 220h160v-160H400v160Zm0 220h160v-160H400v160ZM180-400h160v-160H180v160Zm440 0h160v-160H620v160ZM180-180h160v-160H180v160Zm440 0h160v-160H620v160Z\"/>\n",
              "  </svg>\n",
              "    </button>\n",
              "\n",
              "  <style>\n",
              "    .colab-df-container {\n",
              "      display:flex;\n",
              "      gap: 12px;\n",
              "    }\n",
              "\n",
              "    .colab-df-convert {\n",
              "      background-color: #E8F0FE;\n",
              "      border: none;\n",
              "      border-radius: 50%;\n",
              "      cursor: pointer;\n",
              "      display: none;\n",
              "      fill: #1967D2;\n",
              "      height: 32px;\n",
              "      padding: 0 0 0 0;\n",
              "      width: 32px;\n",
              "    }\n",
              "\n",
              "    .colab-df-convert:hover {\n",
              "      background-color: #E2EBFA;\n",
              "      box-shadow: 0px 1px 2px rgba(60, 64, 67, 0.3), 0px 1px 3px 1px rgba(60, 64, 67, 0.15);\n",
              "      fill: #174EA6;\n",
              "    }\n",
              "\n",
              "    .colab-df-buttons div {\n",
              "      margin-bottom: 4px;\n",
              "    }\n",
              "\n",
              "    [theme=dark] .colab-df-convert {\n",
              "      background-color: #3B4455;\n",
              "      fill: #D2E3FC;\n",
              "    }\n",
              "\n",
              "    [theme=dark] .colab-df-convert:hover {\n",
              "      background-color: #434B5C;\n",
              "      box-shadow: 0px 1px 3px 1px rgba(0, 0, 0, 0.15);\n",
              "      filter: drop-shadow(0px 1px 2px rgba(0, 0, 0, 0.3));\n",
              "      fill: #FFFFFF;\n",
              "    }\n",
              "  </style>\n",
              "\n",
              "    <script>\n",
              "      const buttonEl =\n",
              "        document.querySelector('#df-c942b86e-2e73-4de6-8711-84c20f616d51 button.colab-df-convert');\n",
              "      buttonEl.style.display =\n",
              "        google.colab.kernel.accessAllowed ? 'block' : 'none';\n",
              "\n",
              "      async function convertToInteractive(key) {\n",
              "        const element = document.querySelector('#df-c942b86e-2e73-4de6-8711-84c20f616d51');\n",
              "        const dataTable =\n",
              "          await google.colab.kernel.invokeFunction('convertToInteractive',\n",
              "                                                    [key], {});\n",
              "        if (!dataTable) return;\n",
              "\n",
              "        const docLinkHtml = 'Like what you see? Visit the ' +\n",
              "          '<a target=\"_blank\" href=https://colab.research.google.com/notebooks/data_table.ipynb>data table notebook</a>'\n",
              "          + ' to learn more about interactive tables.';\n",
              "        element.innerHTML = '';\n",
              "        dataTable['output_type'] = 'display_data';\n",
              "        await google.colab.output.renderOutput(dataTable, element);\n",
              "        const docLink = document.createElement('div');\n",
              "        docLink.innerHTML = docLinkHtml;\n",
              "        element.appendChild(docLink);\n",
              "      }\n",
              "    </script>\n",
              "  </div>\n",
              "\n",
              "\n",
              "    <div id=\"df-a1cf8eb1-d054-4629-b0e7-4cda5cb5b006\">\n",
              "      <button class=\"colab-df-quickchart\" onclick=\"quickchart('df-a1cf8eb1-d054-4629-b0e7-4cda5cb5b006')\"\n",
              "                title=\"Suggest charts\"\n",
              "                style=\"display:none;\">\n",
              "\n",
              "<svg xmlns=\"http://www.w3.org/2000/svg\" height=\"24px\"viewBox=\"0 0 24 24\"\n",
              "     width=\"24px\">\n",
              "    <g>\n",
              "        <path d=\"M19 3H5c-1.1 0-2 .9-2 2v14c0 1.1.9 2 2 2h14c1.1 0 2-.9 2-2V5c0-1.1-.9-2-2-2zM9 17H7v-7h2v7zm4 0h-2V7h2v10zm4 0h-2v-4h2v4z\"/>\n",
              "    </g>\n",
              "</svg>\n",
              "      </button>\n",
              "\n",
              "<style>\n",
              "  .colab-df-quickchart {\n",
              "      --bg-color: #E8F0FE;\n",
              "      --fill-color: #1967D2;\n",
              "      --hover-bg-color: #E2EBFA;\n",
              "      --hover-fill-color: #174EA6;\n",
              "      --disabled-fill-color: #AAA;\n",
              "      --disabled-bg-color: #DDD;\n",
              "  }\n",
              "\n",
              "  [theme=dark] .colab-df-quickchart {\n",
              "      --bg-color: #3B4455;\n",
              "      --fill-color: #D2E3FC;\n",
              "      --hover-bg-color: #434B5C;\n",
              "      --hover-fill-color: #FFFFFF;\n",
              "      --disabled-bg-color: #3B4455;\n",
              "      --disabled-fill-color: #666;\n",
              "  }\n",
              "\n",
              "  .colab-df-quickchart {\n",
              "    background-color: var(--bg-color);\n",
              "    border: none;\n",
              "    border-radius: 50%;\n",
              "    cursor: pointer;\n",
              "    display: none;\n",
              "    fill: var(--fill-color);\n",
              "    height: 32px;\n",
              "    padding: 0;\n",
              "    width: 32px;\n",
              "  }\n",
              "\n",
              "  .colab-df-quickchart:hover {\n",
              "    background-color: var(--hover-bg-color);\n",
              "    box-shadow: 0 1px 2px rgba(60, 64, 67, 0.3), 0 1px 3px 1px rgba(60, 64, 67, 0.15);\n",
              "    fill: var(--button-hover-fill-color);\n",
              "  }\n",
              "\n",
              "  .colab-df-quickchart-complete:disabled,\n",
              "  .colab-df-quickchart-complete:disabled:hover {\n",
              "    background-color: var(--disabled-bg-color);\n",
              "    fill: var(--disabled-fill-color);\n",
              "    box-shadow: none;\n",
              "  }\n",
              "\n",
              "  .colab-df-spinner {\n",
              "    border: 2px solid var(--fill-color);\n",
              "    border-color: transparent;\n",
              "    border-bottom-color: var(--fill-color);\n",
              "    animation:\n",
              "      spin 1s steps(1) infinite;\n",
              "  }\n",
              "\n",
              "  @keyframes spin {\n",
              "    0% {\n",
              "      border-color: transparent;\n",
              "      border-bottom-color: var(--fill-color);\n",
              "      border-left-color: var(--fill-color);\n",
              "    }\n",
              "    20% {\n",
              "      border-color: transparent;\n",
              "      border-left-color: var(--fill-color);\n",
              "      border-top-color: var(--fill-color);\n",
              "    }\n",
              "    30% {\n",
              "      border-color: transparent;\n",
              "      border-left-color: var(--fill-color);\n",
              "      border-top-color: var(--fill-color);\n",
              "      border-right-color: var(--fill-color);\n",
              "    }\n",
              "    40% {\n",
              "      border-color: transparent;\n",
              "      border-right-color: var(--fill-color);\n",
              "      border-top-color: var(--fill-color);\n",
              "    }\n",
              "    60% {\n",
              "      border-color: transparent;\n",
              "      border-right-color: var(--fill-color);\n",
              "    }\n",
              "    80% {\n",
              "      border-color: transparent;\n",
              "      border-right-color: var(--fill-color);\n",
              "      border-bottom-color: var(--fill-color);\n",
              "    }\n",
              "    90% {\n",
              "      border-color: transparent;\n",
              "      border-bottom-color: var(--fill-color);\n",
              "    }\n",
              "  }\n",
              "</style>\n",
              "\n",
              "      <script>\n",
              "        async function quickchart(key) {\n",
              "          const quickchartButtonEl =\n",
              "            document.querySelector('#' + key + ' button');\n",
              "          quickchartButtonEl.disabled = true;  // To prevent multiple clicks.\n",
              "          quickchartButtonEl.classList.add('colab-df-spinner');\n",
              "          try {\n",
              "            const charts = await google.colab.kernel.invokeFunction(\n",
              "                'suggestCharts', [key], {});\n",
              "          } catch (error) {\n",
              "            console.error('Error during call to suggestCharts:', error);\n",
              "          }\n",
              "          quickchartButtonEl.classList.remove('colab-df-spinner');\n",
              "          quickchartButtonEl.classList.add('colab-df-quickchart-complete');\n",
              "        }\n",
              "        (() => {\n",
              "          let quickchartButtonEl =\n",
              "            document.querySelector('#df-a1cf8eb1-d054-4629-b0e7-4cda5cb5b006 button');\n",
              "          quickchartButtonEl.style.display =\n",
              "            google.colab.kernel.accessAllowed ? 'block' : 'none';\n",
              "        })();\n",
              "      </script>\n",
              "    </div>\n",
              "\n",
              "  <div id=\"id_a308c293-7d17-4163-bcb7-1dde65d4707a\">\n",
              "    <style>\n",
              "      .colab-df-generate {\n",
              "        background-color: #E8F0FE;\n",
              "        border: none;\n",
              "        border-radius: 50%;\n",
              "        cursor: pointer;\n",
              "        display: none;\n",
              "        fill: #1967D2;\n",
              "        height: 32px;\n",
              "        padding: 0 0 0 0;\n",
              "        width: 32px;\n",
              "      }\n",
              "\n",
              "      .colab-df-generate:hover {\n",
              "        background-color: #E2EBFA;\n",
              "        box-shadow: 0px 1px 2px rgba(60, 64, 67, 0.3), 0px 1px 3px 1px rgba(60, 64, 67, 0.15);\n",
              "        fill: #174EA6;\n",
              "      }\n",
              "\n",
              "      [theme=dark] .colab-df-generate {\n",
              "        background-color: #3B4455;\n",
              "        fill: #D2E3FC;\n",
              "      }\n",
              "\n",
              "      [theme=dark] .colab-df-generate:hover {\n",
              "        background-color: #434B5C;\n",
              "        box-shadow: 0px 1px 3px 1px rgba(0, 0, 0, 0.15);\n",
              "        filter: drop-shadow(0px 1px 2px rgba(0, 0, 0, 0.3));\n",
              "        fill: #FFFFFF;\n",
              "      }\n",
              "    </style>\n",
              "    <button class=\"colab-df-generate\" onclick=\"generateWithVariable('df_user')\"\n",
              "            title=\"Generate code using this dataframe.\"\n",
              "            style=\"display:none;\">\n",
              "\n",
              "  <svg xmlns=\"http://www.w3.org/2000/svg\" height=\"24px\"viewBox=\"0 0 24 24\"\n",
              "       width=\"24px\">\n",
              "    <path d=\"M7,19H8.4L18.45,9,17,7.55,7,17.6ZM5,21V16.75L18.45,3.32a2,2,0,0,1,2.83,0l1.4,1.43a1.91,1.91,0,0,1,.58,1.4,1.91,1.91,0,0,1-.58,1.4L9.25,21ZM18.45,9,17,7.55Zm-12,3A5.31,5.31,0,0,0,4.9,8.1,5.31,5.31,0,0,0,1,6.5,5.31,5.31,0,0,0,4.9,4.9,5.31,5.31,0,0,0,6.5,1,5.31,5.31,0,0,0,8.1,4.9,5.31,5.31,0,0,0,12,6.5,5.46,5.46,0,0,0,6.5,12Z\"/>\n",
              "  </svg>\n",
              "    </button>\n",
              "    <script>\n",
              "      (() => {\n",
              "      const buttonEl =\n",
              "        document.querySelector('#id_a308c293-7d17-4163-bcb7-1dde65d4707a button.colab-df-generate');\n",
              "      buttonEl.style.display =\n",
              "        google.colab.kernel.accessAllowed ? 'block' : 'none';\n",
              "\n",
              "      buttonEl.onclick = () => {\n",
              "        google.colab.notebook.generateWithVariable('df_user');\n",
              "      }\n",
              "      })();\n",
              "    </script>\n",
              "  </div>\n",
              "\n",
              "    </div>\n",
              "  </div>\n"
            ],
            "application/vnd.google.colaboratory.intrinsic+json": {
              "type": "dataframe",
              "variable_name": "df_user"
            }
          },
          "metadata": {},
          "execution_count": 6
        }
      ]
    },
    {
      "cell_type": "code",
      "source": [
        "print(df_book.shape)\n",
        "print(df_rating.shape)\n",
        "print(df_user.shape)"
      ],
      "metadata": {
        "colab": {
          "base_uri": "https://localhost:8080/"
        },
        "id": "GggtBy632ndr",
        "outputId": "afdfed2d-6d93-4adc-cc8b-c3b198780bd1"
      },
      "execution_count": 7,
      "outputs": [
        {
          "output_type": "stream",
          "name": "stdout",
          "text": [
            "(271360, 8)\n",
            "(1149780, 3)\n",
            "(278858, 3)\n"
          ]
        }
      ]
    },
    {
      "cell_type": "markdown",
      "source": [
        "## Insight\n",
        "\n",
        "Setelah memuat dataset `Books.csv`, `Ratings.csv`, dan `Users.csv`, berikut beberapa wawasan yang dapat diperoleh:\n",
        "\n",
        "1. **Distribusi Buku**:  \n",
        "   Dataset `Books.csv` berisi informasi tentang buku-buku yang terdaftar di platform. Dengan menganalisis dataset ini, kita bisa mengetahui jumlah total buku yang tersedia serta kategori buku yang paling banyak terdaftar. Hal ini dapat membantu kita memahami jenis buku yang populer di platform dan sebaran kategori buku tersebut.\n",
        "\n",
        "2. **Rating Buku**:  \n",
        "   Melalui dataset `Ratings.csv`, kita dapat melihat bagaimana pengguna memberikan rating pada buku-buku yang ada. Dengan menganalisis distribusi rating, kita dapat mengetahui apakah sebagian besar buku mendapatkan rating tinggi atau rendah. Hal ini juga bisa memberikan gambaran tentang kualitas buku yang ada di platform berdasarkan persepsi pengguna.\n",
        "\n",
        "3. **Pengguna Aktif**:  \n",
        "   Dataset `Users.csv` berisi informasi mengenai pengguna yang memberikan rating. Dengan melakukan eksplorasi pada data ini, kita bisa mengetahui jumlah pengguna yang aktif memberikan rating serta pola perilaku mereka dalam memberikan rating pada buku. Apakah ada pengguna yang memberikan rating pada banyak buku atau hanya beberapa saja, serta seberapa banyak variasi rating yang mereka berikan.\n",
        "\n",
        "---\n"
      ],
      "metadata": {
        "id": "zidm9HitlPUO"
      }
    },
    {
      "cell_type": "markdown",
      "source": [
        "# **3. Eksploratory Data Analysis**"
      ],
      "metadata": {
        "id": "r9ScdGs6lqvD"
      }
    },
    {
      "cell_type": "markdown",
      "source": [
        "## Mengecek Struktur Data"
      ],
      "metadata": {
        "id": "pWwfDVSTmIpx"
      }
    },
    {
      "cell_type": "markdown",
      "source": [
        "### Menampilkan Informasi Dataset\n",
        "Pada tahap ini, kita akan memeriksa **informasi umum** dari ketiga dataset yang telah dimuat, yaitu dataset buku, rating, dan pengguna.  \n",
        "Fungsi `info()` akan memberikan detail tentang jumlah entri, kolom, dan tipe data masing-masing.\n",
        "\n",
        "---\n"
      ],
      "metadata": {
        "id": "J0q92DxjmR3f"
      }
    },
    {
      "cell_type": "code",
      "source": [
        "df_book.info()"
      ],
      "metadata": {
        "colab": {
          "base_uri": "https://localhost:8080/"
        },
        "id": "mxhRbWh9jjsL",
        "outputId": "02c412b2-487a-48e6-df78-015114fe9519"
      },
      "execution_count": 8,
      "outputs": [
        {
          "output_type": "stream",
          "name": "stdout",
          "text": [
            "<class 'pandas.core.frame.DataFrame'>\n",
            "RangeIndex: 271360 entries, 0 to 271359\n",
            "Data columns (total 8 columns):\n",
            " #   Column               Non-Null Count   Dtype \n",
            "---  ------               --------------   ----- \n",
            " 0   ISBN                 271360 non-null  object\n",
            " 1   Book-Title           271360 non-null  object\n",
            " 2   Book-Author          271358 non-null  object\n",
            " 3   Year-Of-Publication  271360 non-null  object\n",
            " 4   Publisher            271358 non-null  object\n",
            " 5   Image-URL-S          271360 non-null  object\n",
            " 6   Image-URL-M          271360 non-null  object\n",
            " 7   Image-URL-L          271357 non-null  object\n",
            "dtypes: object(8)\n",
            "memory usage: 16.6+ MB\n"
          ]
        }
      ]
    },
    {
      "cell_type": "code",
      "source": [
        "df_rating.info()"
      ],
      "metadata": {
        "colab": {
          "base_uri": "https://localhost:8080/"
        },
        "id": "gFkEpPMI6T6j",
        "outputId": "f123e65f-2097-4933-f95f-61173ed423f3"
      },
      "execution_count": 9,
      "outputs": [
        {
          "output_type": "stream",
          "name": "stdout",
          "text": [
            "<class 'pandas.core.frame.DataFrame'>\n",
            "RangeIndex: 1149780 entries, 0 to 1149779\n",
            "Data columns (total 3 columns):\n",
            " #   Column       Non-Null Count    Dtype \n",
            "---  ------       --------------    ----- \n",
            " 0   User-ID      1149780 non-null  int64 \n",
            " 1   ISBN         1149780 non-null  object\n",
            " 2   Book-Rating  1149780 non-null  int64 \n",
            "dtypes: int64(2), object(1)\n",
            "memory usage: 26.3+ MB\n"
          ]
        }
      ]
    },
    {
      "cell_type": "code",
      "source": [
        "df_user.info()"
      ],
      "metadata": {
        "colab": {
          "base_uri": "https://localhost:8080/"
        },
        "id": "z7QLGpXY6i5u",
        "outputId": "67763774-9649-4241-b7bd-39ac0f3c4b1f"
      },
      "execution_count": 10,
      "outputs": [
        {
          "output_type": "stream",
          "name": "stdout",
          "text": [
            "<class 'pandas.core.frame.DataFrame'>\n",
            "RangeIndex: 278858 entries, 0 to 278857\n",
            "Data columns (total 3 columns):\n",
            " #   Column    Non-Null Count   Dtype  \n",
            "---  ------    --------------   -----  \n",
            " 0   User-ID   278858 non-null  int64  \n",
            " 1   Location  278858 non-null  object \n",
            " 2   Age       168096 non-null  float64\n",
            "dtypes: float64(1), int64(1), object(1)\n",
            "memory usage: 6.4+ MB\n"
          ]
        }
      ]
    },
    {
      "cell_type": "markdown",
      "source": [
        "### Menampilkan Statistik Deskriptif Dataset\n",
        "Pada tahap ini, kita menggunakan fungsi **`describe()`** untuk menampilkan statistik deskriptif dari kedua dataset:\n",
        "- **df_rating**: Dataset yang berisi data rating dari pengguna terhadap buku.\n",
        "- **df_user**: Dataset yang berisi data pengguna, termasuk usia dan ID pengguna.\n",
        "\n",
        "Fungsi `describe()` memberikan informasi seperti:\n",
        "- Jumlah nilai (count)\n",
        "- Rata-rata (mean)\n",
        "- Nilai minimum (min)\n",
        "- Nilai maksimum (max)\n",
        "- Kuartil (25%, 50%, 75%)\n",
        "- Standar deviasi (std)\n",
        "\n",
        "Hal ini akan membantu kita untuk mendapatkan gambaran umum tentang distribusi data dalam kedua dataset tersebut.\n",
        "\n",
        "---\n"
      ],
      "metadata": {
        "id": "yXB1khuArqd_"
      }
    },
    {
      "cell_type": "code",
      "source": [
        "df_rating.describe()"
      ],
      "metadata": {
        "colab": {
          "base_uri": "https://localhost:8080/",
          "height": 0
        },
        "id": "M5-eCEuPrrpR",
        "outputId": "5ec09f8a-890e-4389-a5fc-4486808764bb"
      },
      "execution_count": 11,
      "outputs": [
        {
          "output_type": "execute_result",
          "data": {
            "text/plain": [
              "            User-ID   Book-Rating\n",
              "count  1.149780e+06  1.149780e+06\n",
              "mean   1.403864e+05  2.866950e+00\n",
              "std    8.056228e+04  3.854184e+00\n",
              "min    2.000000e+00  0.000000e+00\n",
              "25%    7.034500e+04  0.000000e+00\n",
              "50%    1.410100e+05  0.000000e+00\n",
              "75%    2.110280e+05  7.000000e+00\n",
              "max    2.788540e+05  1.000000e+01"
            ],
            "text/html": [
              "\n",
              "  <div id=\"df-6f66c2ff-c2dd-417a-9c02-7c82e7668079\" class=\"colab-df-container\">\n",
              "    <div>\n",
              "<style scoped>\n",
              "    .dataframe tbody tr th:only-of-type {\n",
              "        vertical-align: middle;\n",
              "    }\n",
              "\n",
              "    .dataframe tbody tr th {\n",
              "        vertical-align: top;\n",
              "    }\n",
              "\n",
              "    .dataframe thead th {\n",
              "        text-align: right;\n",
              "    }\n",
              "</style>\n",
              "<table border=\"1\" class=\"dataframe\">\n",
              "  <thead>\n",
              "    <tr style=\"text-align: right;\">\n",
              "      <th></th>\n",
              "      <th>User-ID</th>\n",
              "      <th>Book-Rating</th>\n",
              "    </tr>\n",
              "  </thead>\n",
              "  <tbody>\n",
              "    <tr>\n",
              "      <th>count</th>\n",
              "      <td>1.149780e+06</td>\n",
              "      <td>1.149780e+06</td>\n",
              "    </tr>\n",
              "    <tr>\n",
              "      <th>mean</th>\n",
              "      <td>1.403864e+05</td>\n",
              "      <td>2.866950e+00</td>\n",
              "    </tr>\n",
              "    <tr>\n",
              "      <th>std</th>\n",
              "      <td>8.056228e+04</td>\n",
              "      <td>3.854184e+00</td>\n",
              "    </tr>\n",
              "    <tr>\n",
              "      <th>min</th>\n",
              "      <td>2.000000e+00</td>\n",
              "      <td>0.000000e+00</td>\n",
              "    </tr>\n",
              "    <tr>\n",
              "      <th>25%</th>\n",
              "      <td>7.034500e+04</td>\n",
              "      <td>0.000000e+00</td>\n",
              "    </tr>\n",
              "    <tr>\n",
              "      <th>50%</th>\n",
              "      <td>1.410100e+05</td>\n",
              "      <td>0.000000e+00</td>\n",
              "    </tr>\n",
              "    <tr>\n",
              "      <th>75%</th>\n",
              "      <td>2.110280e+05</td>\n",
              "      <td>7.000000e+00</td>\n",
              "    </tr>\n",
              "    <tr>\n",
              "      <th>max</th>\n",
              "      <td>2.788540e+05</td>\n",
              "      <td>1.000000e+01</td>\n",
              "    </tr>\n",
              "  </tbody>\n",
              "</table>\n",
              "</div>\n",
              "    <div class=\"colab-df-buttons\">\n",
              "\n",
              "  <div class=\"colab-df-container\">\n",
              "    <button class=\"colab-df-convert\" onclick=\"convertToInteractive('df-6f66c2ff-c2dd-417a-9c02-7c82e7668079')\"\n",
              "            title=\"Convert this dataframe to an interactive table.\"\n",
              "            style=\"display:none;\">\n",
              "\n",
              "  <svg xmlns=\"http://www.w3.org/2000/svg\" height=\"24px\" viewBox=\"0 -960 960 960\">\n",
              "    <path d=\"M120-120v-720h720v720H120Zm60-500h600v-160H180v160Zm220 220h160v-160H400v160Zm0 220h160v-160H400v160ZM180-400h160v-160H180v160Zm440 0h160v-160H620v160ZM180-180h160v-160H180v160Zm440 0h160v-160H620v160Z\"/>\n",
              "  </svg>\n",
              "    </button>\n",
              "\n",
              "  <style>\n",
              "    .colab-df-container {\n",
              "      display:flex;\n",
              "      gap: 12px;\n",
              "    }\n",
              "\n",
              "    .colab-df-convert {\n",
              "      background-color: #E8F0FE;\n",
              "      border: none;\n",
              "      border-radius: 50%;\n",
              "      cursor: pointer;\n",
              "      display: none;\n",
              "      fill: #1967D2;\n",
              "      height: 32px;\n",
              "      padding: 0 0 0 0;\n",
              "      width: 32px;\n",
              "    }\n",
              "\n",
              "    .colab-df-convert:hover {\n",
              "      background-color: #E2EBFA;\n",
              "      box-shadow: 0px 1px 2px rgba(60, 64, 67, 0.3), 0px 1px 3px 1px rgba(60, 64, 67, 0.15);\n",
              "      fill: #174EA6;\n",
              "    }\n",
              "\n",
              "    .colab-df-buttons div {\n",
              "      margin-bottom: 4px;\n",
              "    }\n",
              "\n",
              "    [theme=dark] .colab-df-convert {\n",
              "      background-color: #3B4455;\n",
              "      fill: #D2E3FC;\n",
              "    }\n",
              "\n",
              "    [theme=dark] .colab-df-convert:hover {\n",
              "      background-color: #434B5C;\n",
              "      box-shadow: 0px 1px 3px 1px rgba(0, 0, 0, 0.15);\n",
              "      filter: drop-shadow(0px 1px 2px rgba(0, 0, 0, 0.3));\n",
              "      fill: #FFFFFF;\n",
              "    }\n",
              "  </style>\n",
              "\n",
              "    <script>\n",
              "      const buttonEl =\n",
              "        document.querySelector('#df-6f66c2ff-c2dd-417a-9c02-7c82e7668079 button.colab-df-convert');\n",
              "      buttonEl.style.display =\n",
              "        google.colab.kernel.accessAllowed ? 'block' : 'none';\n",
              "\n",
              "      async function convertToInteractive(key) {\n",
              "        const element = document.querySelector('#df-6f66c2ff-c2dd-417a-9c02-7c82e7668079');\n",
              "        const dataTable =\n",
              "          await google.colab.kernel.invokeFunction('convertToInteractive',\n",
              "                                                    [key], {});\n",
              "        if (!dataTable) return;\n",
              "\n",
              "        const docLinkHtml = 'Like what you see? Visit the ' +\n",
              "          '<a target=\"_blank\" href=https://colab.research.google.com/notebooks/data_table.ipynb>data table notebook</a>'\n",
              "          + ' to learn more about interactive tables.';\n",
              "        element.innerHTML = '';\n",
              "        dataTable['output_type'] = 'display_data';\n",
              "        await google.colab.output.renderOutput(dataTable, element);\n",
              "        const docLink = document.createElement('div');\n",
              "        docLink.innerHTML = docLinkHtml;\n",
              "        element.appendChild(docLink);\n",
              "      }\n",
              "    </script>\n",
              "  </div>\n",
              "\n",
              "\n",
              "    <div id=\"df-e0ade48d-0f4c-4f34-85e3-6e52d0f3f541\">\n",
              "      <button class=\"colab-df-quickchart\" onclick=\"quickchart('df-e0ade48d-0f4c-4f34-85e3-6e52d0f3f541')\"\n",
              "                title=\"Suggest charts\"\n",
              "                style=\"display:none;\">\n",
              "\n",
              "<svg xmlns=\"http://www.w3.org/2000/svg\" height=\"24px\"viewBox=\"0 0 24 24\"\n",
              "     width=\"24px\">\n",
              "    <g>\n",
              "        <path d=\"M19 3H5c-1.1 0-2 .9-2 2v14c0 1.1.9 2 2 2h14c1.1 0 2-.9 2-2V5c0-1.1-.9-2-2-2zM9 17H7v-7h2v7zm4 0h-2V7h2v10zm4 0h-2v-4h2v4z\"/>\n",
              "    </g>\n",
              "</svg>\n",
              "      </button>\n",
              "\n",
              "<style>\n",
              "  .colab-df-quickchart {\n",
              "      --bg-color: #E8F0FE;\n",
              "      --fill-color: #1967D2;\n",
              "      --hover-bg-color: #E2EBFA;\n",
              "      --hover-fill-color: #174EA6;\n",
              "      --disabled-fill-color: #AAA;\n",
              "      --disabled-bg-color: #DDD;\n",
              "  }\n",
              "\n",
              "  [theme=dark] .colab-df-quickchart {\n",
              "      --bg-color: #3B4455;\n",
              "      --fill-color: #D2E3FC;\n",
              "      --hover-bg-color: #434B5C;\n",
              "      --hover-fill-color: #FFFFFF;\n",
              "      --disabled-bg-color: #3B4455;\n",
              "      --disabled-fill-color: #666;\n",
              "  }\n",
              "\n",
              "  .colab-df-quickchart {\n",
              "    background-color: var(--bg-color);\n",
              "    border: none;\n",
              "    border-radius: 50%;\n",
              "    cursor: pointer;\n",
              "    display: none;\n",
              "    fill: var(--fill-color);\n",
              "    height: 32px;\n",
              "    padding: 0;\n",
              "    width: 32px;\n",
              "  }\n",
              "\n",
              "  .colab-df-quickchart:hover {\n",
              "    background-color: var(--hover-bg-color);\n",
              "    box-shadow: 0 1px 2px rgba(60, 64, 67, 0.3), 0 1px 3px 1px rgba(60, 64, 67, 0.15);\n",
              "    fill: var(--button-hover-fill-color);\n",
              "  }\n",
              "\n",
              "  .colab-df-quickchart-complete:disabled,\n",
              "  .colab-df-quickchart-complete:disabled:hover {\n",
              "    background-color: var(--disabled-bg-color);\n",
              "    fill: var(--disabled-fill-color);\n",
              "    box-shadow: none;\n",
              "  }\n",
              "\n",
              "  .colab-df-spinner {\n",
              "    border: 2px solid var(--fill-color);\n",
              "    border-color: transparent;\n",
              "    border-bottom-color: var(--fill-color);\n",
              "    animation:\n",
              "      spin 1s steps(1) infinite;\n",
              "  }\n",
              "\n",
              "  @keyframes spin {\n",
              "    0% {\n",
              "      border-color: transparent;\n",
              "      border-bottom-color: var(--fill-color);\n",
              "      border-left-color: var(--fill-color);\n",
              "    }\n",
              "    20% {\n",
              "      border-color: transparent;\n",
              "      border-left-color: var(--fill-color);\n",
              "      border-top-color: var(--fill-color);\n",
              "    }\n",
              "    30% {\n",
              "      border-color: transparent;\n",
              "      border-left-color: var(--fill-color);\n",
              "      border-top-color: var(--fill-color);\n",
              "      border-right-color: var(--fill-color);\n",
              "    }\n",
              "    40% {\n",
              "      border-color: transparent;\n",
              "      border-right-color: var(--fill-color);\n",
              "      border-top-color: var(--fill-color);\n",
              "    }\n",
              "    60% {\n",
              "      border-color: transparent;\n",
              "      border-right-color: var(--fill-color);\n",
              "    }\n",
              "    80% {\n",
              "      border-color: transparent;\n",
              "      border-right-color: var(--fill-color);\n",
              "      border-bottom-color: var(--fill-color);\n",
              "    }\n",
              "    90% {\n",
              "      border-color: transparent;\n",
              "      border-bottom-color: var(--fill-color);\n",
              "    }\n",
              "  }\n",
              "</style>\n",
              "\n",
              "      <script>\n",
              "        async function quickchart(key) {\n",
              "          const quickchartButtonEl =\n",
              "            document.querySelector('#' + key + ' button');\n",
              "          quickchartButtonEl.disabled = true;  // To prevent multiple clicks.\n",
              "          quickchartButtonEl.classList.add('colab-df-spinner');\n",
              "          try {\n",
              "            const charts = await google.colab.kernel.invokeFunction(\n",
              "                'suggestCharts', [key], {});\n",
              "          } catch (error) {\n",
              "            console.error('Error during call to suggestCharts:', error);\n",
              "          }\n",
              "          quickchartButtonEl.classList.remove('colab-df-spinner');\n",
              "          quickchartButtonEl.classList.add('colab-df-quickchart-complete');\n",
              "        }\n",
              "        (() => {\n",
              "          let quickchartButtonEl =\n",
              "            document.querySelector('#df-e0ade48d-0f4c-4f34-85e3-6e52d0f3f541 button');\n",
              "          quickchartButtonEl.style.display =\n",
              "            google.colab.kernel.accessAllowed ? 'block' : 'none';\n",
              "        })();\n",
              "      </script>\n",
              "    </div>\n",
              "\n",
              "    </div>\n",
              "  </div>\n"
            ],
            "application/vnd.google.colaboratory.intrinsic+json": {
              "type": "dataframe",
              "summary": "{\n  \"name\": \"df_rating\",\n  \"rows\": 8,\n  \"fields\": [\n    {\n      \"column\": \"User-ID\",\n      \"properties\": {\n        \"dtype\": \"number\",\n        \"std\": 370074.5144065263,\n        \"min\": 2.0,\n        \"max\": 1149780.0,\n        \"num_unique_values\": 8,\n        \"samples\": [\n          140386.39512602412,\n          141010.0,\n          1149780.0\n        ],\n        \"semantic_type\": \"\",\n        \"description\": \"\"\n      }\n    },\n    {\n      \"column\": \"Book-Rating\",\n      \"properties\": {\n        \"dtype\": \"number\",\n        \"std\": 406507.41935424885,\n        \"min\": 0.0,\n        \"max\": 1149780.0,\n        \"num_unique_values\": 6,\n        \"samples\": [\n          1149780.0,\n          2.8669501991685364,\n          10.0\n        ],\n        \"semantic_type\": \"\",\n        \"description\": \"\"\n      }\n    }\n  ]\n}"
            }
          },
          "metadata": {},
          "execution_count": 11
        }
      ]
    },
    {
      "cell_type": "code",
      "source": [
        "df_user.describe()"
      ],
      "metadata": {
        "colab": {
          "base_uri": "https://localhost:8080/",
          "height": 0
        },
        "id": "ghemHJYyr8fa",
        "outputId": "5bb874b2-d209-4ec1-e6c7-ffa150897ca8"
      },
      "execution_count": 12,
      "outputs": [
        {
          "output_type": "execute_result",
          "data": {
            "text/plain": [
              "            User-ID            Age\n",
              "count  278858.00000  168096.000000\n",
              "mean   139429.50000      34.751434\n",
              "std     80499.51502      14.428097\n",
              "min         1.00000       0.000000\n",
              "25%     69715.25000      24.000000\n",
              "50%    139429.50000      32.000000\n",
              "75%    209143.75000      44.000000\n",
              "max    278858.00000     244.000000"
            ],
            "text/html": [
              "\n",
              "  <div id=\"df-4b40ff8c-4ebf-4045-8f79-1bbb941c43b4\" class=\"colab-df-container\">\n",
              "    <div>\n",
              "<style scoped>\n",
              "    .dataframe tbody tr th:only-of-type {\n",
              "        vertical-align: middle;\n",
              "    }\n",
              "\n",
              "    .dataframe tbody tr th {\n",
              "        vertical-align: top;\n",
              "    }\n",
              "\n",
              "    .dataframe thead th {\n",
              "        text-align: right;\n",
              "    }\n",
              "</style>\n",
              "<table border=\"1\" class=\"dataframe\">\n",
              "  <thead>\n",
              "    <tr style=\"text-align: right;\">\n",
              "      <th></th>\n",
              "      <th>User-ID</th>\n",
              "      <th>Age</th>\n",
              "    </tr>\n",
              "  </thead>\n",
              "  <tbody>\n",
              "    <tr>\n",
              "      <th>count</th>\n",
              "      <td>278858.00000</td>\n",
              "      <td>168096.000000</td>\n",
              "    </tr>\n",
              "    <tr>\n",
              "      <th>mean</th>\n",
              "      <td>139429.50000</td>\n",
              "      <td>34.751434</td>\n",
              "    </tr>\n",
              "    <tr>\n",
              "      <th>std</th>\n",
              "      <td>80499.51502</td>\n",
              "      <td>14.428097</td>\n",
              "    </tr>\n",
              "    <tr>\n",
              "      <th>min</th>\n",
              "      <td>1.00000</td>\n",
              "      <td>0.000000</td>\n",
              "    </tr>\n",
              "    <tr>\n",
              "      <th>25%</th>\n",
              "      <td>69715.25000</td>\n",
              "      <td>24.000000</td>\n",
              "    </tr>\n",
              "    <tr>\n",
              "      <th>50%</th>\n",
              "      <td>139429.50000</td>\n",
              "      <td>32.000000</td>\n",
              "    </tr>\n",
              "    <tr>\n",
              "      <th>75%</th>\n",
              "      <td>209143.75000</td>\n",
              "      <td>44.000000</td>\n",
              "    </tr>\n",
              "    <tr>\n",
              "      <th>max</th>\n",
              "      <td>278858.00000</td>\n",
              "      <td>244.000000</td>\n",
              "    </tr>\n",
              "  </tbody>\n",
              "</table>\n",
              "</div>\n",
              "    <div class=\"colab-df-buttons\">\n",
              "\n",
              "  <div class=\"colab-df-container\">\n",
              "    <button class=\"colab-df-convert\" onclick=\"convertToInteractive('df-4b40ff8c-4ebf-4045-8f79-1bbb941c43b4')\"\n",
              "            title=\"Convert this dataframe to an interactive table.\"\n",
              "            style=\"display:none;\">\n",
              "\n",
              "  <svg xmlns=\"http://www.w3.org/2000/svg\" height=\"24px\" viewBox=\"0 -960 960 960\">\n",
              "    <path d=\"M120-120v-720h720v720H120Zm60-500h600v-160H180v160Zm220 220h160v-160H400v160Zm0 220h160v-160H400v160ZM180-400h160v-160H180v160Zm440 0h160v-160H620v160ZM180-180h160v-160H180v160Zm440 0h160v-160H620v160Z\"/>\n",
              "  </svg>\n",
              "    </button>\n",
              "\n",
              "  <style>\n",
              "    .colab-df-container {\n",
              "      display:flex;\n",
              "      gap: 12px;\n",
              "    }\n",
              "\n",
              "    .colab-df-convert {\n",
              "      background-color: #E8F0FE;\n",
              "      border: none;\n",
              "      border-radius: 50%;\n",
              "      cursor: pointer;\n",
              "      display: none;\n",
              "      fill: #1967D2;\n",
              "      height: 32px;\n",
              "      padding: 0 0 0 0;\n",
              "      width: 32px;\n",
              "    }\n",
              "\n",
              "    .colab-df-convert:hover {\n",
              "      background-color: #E2EBFA;\n",
              "      box-shadow: 0px 1px 2px rgba(60, 64, 67, 0.3), 0px 1px 3px 1px rgba(60, 64, 67, 0.15);\n",
              "      fill: #174EA6;\n",
              "    }\n",
              "\n",
              "    .colab-df-buttons div {\n",
              "      margin-bottom: 4px;\n",
              "    }\n",
              "\n",
              "    [theme=dark] .colab-df-convert {\n",
              "      background-color: #3B4455;\n",
              "      fill: #D2E3FC;\n",
              "    }\n",
              "\n",
              "    [theme=dark] .colab-df-convert:hover {\n",
              "      background-color: #434B5C;\n",
              "      box-shadow: 0px 1px 3px 1px rgba(0, 0, 0, 0.15);\n",
              "      filter: drop-shadow(0px 1px 2px rgba(0, 0, 0, 0.3));\n",
              "      fill: #FFFFFF;\n",
              "    }\n",
              "  </style>\n",
              "\n",
              "    <script>\n",
              "      const buttonEl =\n",
              "        document.querySelector('#df-4b40ff8c-4ebf-4045-8f79-1bbb941c43b4 button.colab-df-convert');\n",
              "      buttonEl.style.display =\n",
              "        google.colab.kernel.accessAllowed ? 'block' : 'none';\n",
              "\n",
              "      async function convertToInteractive(key) {\n",
              "        const element = document.querySelector('#df-4b40ff8c-4ebf-4045-8f79-1bbb941c43b4');\n",
              "        const dataTable =\n",
              "          await google.colab.kernel.invokeFunction('convertToInteractive',\n",
              "                                                    [key], {});\n",
              "        if (!dataTable) return;\n",
              "\n",
              "        const docLinkHtml = 'Like what you see? Visit the ' +\n",
              "          '<a target=\"_blank\" href=https://colab.research.google.com/notebooks/data_table.ipynb>data table notebook</a>'\n",
              "          + ' to learn more about interactive tables.';\n",
              "        element.innerHTML = '';\n",
              "        dataTable['output_type'] = 'display_data';\n",
              "        await google.colab.output.renderOutput(dataTable, element);\n",
              "        const docLink = document.createElement('div');\n",
              "        docLink.innerHTML = docLinkHtml;\n",
              "        element.appendChild(docLink);\n",
              "      }\n",
              "    </script>\n",
              "  </div>\n",
              "\n",
              "\n",
              "    <div id=\"df-fce38e9e-e2f8-42b2-afcd-621bd266852c\">\n",
              "      <button class=\"colab-df-quickchart\" onclick=\"quickchart('df-fce38e9e-e2f8-42b2-afcd-621bd266852c')\"\n",
              "                title=\"Suggest charts\"\n",
              "                style=\"display:none;\">\n",
              "\n",
              "<svg xmlns=\"http://www.w3.org/2000/svg\" height=\"24px\"viewBox=\"0 0 24 24\"\n",
              "     width=\"24px\">\n",
              "    <g>\n",
              "        <path d=\"M19 3H5c-1.1 0-2 .9-2 2v14c0 1.1.9 2 2 2h14c1.1 0 2-.9 2-2V5c0-1.1-.9-2-2-2zM9 17H7v-7h2v7zm4 0h-2V7h2v10zm4 0h-2v-4h2v4z\"/>\n",
              "    </g>\n",
              "</svg>\n",
              "      </button>\n",
              "\n",
              "<style>\n",
              "  .colab-df-quickchart {\n",
              "      --bg-color: #E8F0FE;\n",
              "      --fill-color: #1967D2;\n",
              "      --hover-bg-color: #E2EBFA;\n",
              "      --hover-fill-color: #174EA6;\n",
              "      --disabled-fill-color: #AAA;\n",
              "      --disabled-bg-color: #DDD;\n",
              "  }\n",
              "\n",
              "  [theme=dark] .colab-df-quickchart {\n",
              "      --bg-color: #3B4455;\n",
              "      --fill-color: #D2E3FC;\n",
              "      --hover-bg-color: #434B5C;\n",
              "      --hover-fill-color: #FFFFFF;\n",
              "      --disabled-bg-color: #3B4455;\n",
              "      --disabled-fill-color: #666;\n",
              "  }\n",
              "\n",
              "  .colab-df-quickchart {\n",
              "    background-color: var(--bg-color);\n",
              "    border: none;\n",
              "    border-radius: 50%;\n",
              "    cursor: pointer;\n",
              "    display: none;\n",
              "    fill: var(--fill-color);\n",
              "    height: 32px;\n",
              "    padding: 0;\n",
              "    width: 32px;\n",
              "  }\n",
              "\n",
              "  .colab-df-quickchart:hover {\n",
              "    background-color: var(--hover-bg-color);\n",
              "    box-shadow: 0 1px 2px rgba(60, 64, 67, 0.3), 0 1px 3px 1px rgba(60, 64, 67, 0.15);\n",
              "    fill: var(--button-hover-fill-color);\n",
              "  }\n",
              "\n",
              "  .colab-df-quickchart-complete:disabled,\n",
              "  .colab-df-quickchart-complete:disabled:hover {\n",
              "    background-color: var(--disabled-bg-color);\n",
              "    fill: var(--disabled-fill-color);\n",
              "    box-shadow: none;\n",
              "  }\n",
              "\n",
              "  .colab-df-spinner {\n",
              "    border: 2px solid var(--fill-color);\n",
              "    border-color: transparent;\n",
              "    border-bottom-color: var(--fill-color);\n",
              "    animation:\n",
              "      spin 1s steps(1) infinite;\n",
              "  }\n",
              "\n",
              "  @keyframes spin {\n",
              "    0% {\n",
              "      border-color: transparent;\n",
              "      border-bottom-color: var(--fill-color);\n",
              "      border-left-color: var(--fill-color);\n",
              "    }\n",
              "    20% {\n",
              "      border-color: transparent;\n",
              "      border-left-color: var(--fill-color);\n",
              "      border-top-color: var(--fill-color);\n",
              "    }\n",
              "    30% {\n",
              "      border-color: transparent;\n",
              "      border-left-color: var(--fill-color);\n",
              "      border-top-color: var(--fill-color);\n",
              "      border-right-color: var(--fill-color);\n",
              "    }\n",
              "    40% {\n",
              "      border-color: transparent;\n",
              "      border-right-color: var(--fill-color);\n",
              "      border-top-color: var(--fill-color);\n",
              "    }\n",
              "    60% {\n",
              "      border-color: transparent;\n",
              "      border-right-color: var(--fill-color);\n",
              "    }\n",
              "    80% {\n",
              "      border-color: transparent;\n",
              "      border-right-color: var(--fill-color);\n",
              "      border-bottom-color: var(--fill-color);\n",
              "    }\n",
              "    90% {\n",
              "      border-color: transparent;\n",
              "      border-bottom-color: var(--fill-color);\n",
              "    }\n",
              "  }\n",
              "</style>\n",
              "\n",
              "      <script>\n",
              "        async function quickchart(key) {\n",
              "          const quickchartButtonEl =\n",
              "            document.querySelector('#' + key + ' button');\n",
              "          quickchartButtonEl.disabled = true;  // To prevent multiple clicks.\n",
              "          quickchartButtonEl.classList.add('colab-df-spinner');\n",
              "          try {\n",
              "            const charts = await google.colab.kernel.invokeFunction(\n",
              "                'suggestCharts', [key], {});\n",
              "          } catch (error) {\n",
              "            console.error('Error during call to suggestCharts:', error);\n",
              "          }\n",
              "          quickchartButtonEl.classList.remove('colab-df-spinner');\n",
              "          quickchartButtonEl.classList.add('colab-df-quickchart-complete');\n",
              "        }\n",
              "        (() => {\n",
              "          let quickchartButtonEl =\n",
              "            document.querySelector('#df-fce38e9e-e2f8-42b2-afcd-621bd266852c button');\n",
              "          quickchartButtonEl.style.display =\n",
              "            google.colab.kernel.accessAllowed ? 'block' : 'none';\n",
              "        })();\n",
              "      </script>\n",
              "    </div>\n",
              "\n",
              "    </div>\n",
              "  </div>\n"
            ],
            "application/vnd.google.colaboratory.intrinsic+json": {
              "type": "dataframe",
              "summary": "{\n  \"name\": \"df_user\",\n  \"rows\": 8,\n  \"fields\": [\n    {\n      \"column\": \"User-ID\",\n      \"properties\": {\n        \"dtype\": \"number\",\n        \"std\": 100501.4675852522,\n        \"min\": 1.0,\n        \"max\": 278858.0,\n        \"num_unique_values\": 6,\n        \"samples\": [\n          278858.0,\n          139429.5,\n          209143.75\n        ],\n        \"semantic_type\": \"\",\n        \"description\": \"\"\n      }\n    },\n    {\n      \"column\": \"Age\",\n      \"properties\": {\n        \"dtype\": \"number\",\n        \"std\": 59411.10316076062,\n        \"min\": 0.0,\n        \"max\": 168096.0,\n        \"num_unique_values\": 8,\n        \"samples\": [\n          34.75143370454978,\n          32.0,\n          168096.0\n        ],\n        \"semantic_type\": \"\",\n        \"description\": \"\"\n      }\n    }\n  ]\n}"
            }
          },
          "metadata": {},
          "execution_count": 12
        }
      ]
    },
    {
      "cell_type": "markdown",
      "source": [
        "### 📊 **Insight Struktur Data**\n",
        "\n",
        "1. **Kualitas Data Buku**\n",
        "   - Kolom **Year-Of-Publication** masih bertipe `object`, yang menunjukkan kemungkinan adanya data tidak valid atau data yang perlu dikonversi menjadi tipe numerik (misalnya tahun publikasi buku).\n",
        "   - Terdapat nilai kosong pada beberapa kolom:\n",
        "     - **Book-Author**: 2 entri kosong\n",
        "     - **Publisher**: 2 entri kosong\n",
        "     - **Image-URL-L**: 3 entri kosong  \n",
        "   Hal ini perlu ditangani dengan mengisi atau menghapus entri yang kosong untuk menjaga integritas data.\n",
        "   - Memilih beberapa fitur relevan dari dataset `Books.csv` yang akan digunakan untuk analisis lebih lanjut karena ada beberapa fitur yang kurang relevant contohnya, seperti **Image-URL-L**.\n",
        "\n",
        "\n",
        "2. **Data Rating Lengkap tapi Perlu Validasi**\n",
        "   - Dataset **Rating** tampak lengkap karena tidak ada nilai yang hilang (missing values) pada kolom-kolom utama (`User-ID`, `Book-Rating`).\n",
        "   - Namun, distribusi nilai **Book-Rating** menunjukkan bahwa terdapat nilai `0`, yang kemungkinan berarti pengguna tidak memberikan rating (misalnya tidak menyukai atau tidak menilai buku tersebut). Hal ini perlu divalidasi untuk memastikan apakah nilai `0` memang tidak seharusnya dihitung sebagai rating.\n",
        "\n",
        "   **Deskripsi Rating**:\n",
        "   - **Rata-rata Rating**: 2.87, menunjukkan mayoritas rating berada di bawah nilai 5 (dari rentang 0–10).\n",
        "   - **Sebaran Rating**: Banyak rating yang diberikan bernilai 0, 7, dan 10, yang dapat menunjukkan pola tertentu (misalnya rating ekstrem lebih sering diberikan).\n",
        "   - **Minimum Rating**: 0, yang mungkin berarti \"tidak memberikan rating\" atau \"rating tidak sah\".\n",
        "   - **Maksimum Rating**: 10, menunjukkan nilai rating tertinggi yang dapat diberikan.\n",
        "\n",
        "3. **Data Pengguna Tidak Lengkap & Perlu Pembersihan**\n",
        "   - Kolom **Age** pada dataset pengguna memiliki banyak nilai kosong (sekitar 40% kosong), yang perlu ditangani dengan mengisi atau menghapus baris yang relevan.\n",
        "   - **Outlier Usia**: Ditemukan usia pengguna yang tidak realistis, seperti usia `0` dan usia hingga `244`, yang perlu diverifikasi lebih lanjut apakah ini adalah kesalahan input data atau memang data pengguna yang sah.\n",
        "   - **Lokasi**: Kolom **Location** bisa dipecah menjadi komponen geografis yang lebih spesifik (seperti kota dan negara), yang akan memungkinkan analisis demografis lebih lanjut.\n",
        "\n",
        "   **Deskripsi Pengguna**:\n",
        "   - **Rata-rata Usia**: 34.75 tahun, dengan standar deviasi yang cukup besar (14.43), menunjukkan variabilitas yang cukup tinggi dalam usia pengguna.\n",
        "   - **Usia Minimum**: 0, yang kemungkinan adalah nilai yang salah atau outlier.\n",
        "   - **Usia Maksimum**: 244, yang juga menunjukkan outlier yang perlu diperiksa.\n",
        "\n",
        "4. **Koneksi Antar Dataset Jelas**\n",
        "   - Dataset **Books**, **Ratings**, dan **Users** dapat di-join dengan menggunakan **ISBN** antara dataset buku dan rating, serta **User-ID** antara dataset pengguna dan rating.\n",
        "   - Ini membuka peluang analisis lanjutan, seperti:\n",
        "     - **Sistem Rekomendasi**: Menggunakan data rating dan buku untuk merekomendasikan buku berdasarkan preferensi pengguna.\n",
        "     - **Analisis Perilaku Pengguna**: Memahami pola rating berdasarkan demografi pengguna, misalnya melihat apakah usia atau lokasi mempengaruhi rating yang diberikan.\n",
        "     - **Tren Berdasarkan Demografi**: Menganalisis rating buku berdasarkan kelompok usia atau lokasi pengguna untuk mengidentifikasi tren atau preferensi tertentu.\n",
        "\n",
        "---\n",
        "\n"
      ],
      "metadata": {
        "id": "UIPASKzHOgWS"
      }
    },
    {
      "cell_type": "markdown",
      "source": [
        "## Megecek Missing Values dan Duplikat Data"
      ],
      "metadata": {
        "id": "r83tBPJj1i1V"
      }
    },
    {
      "cell_type": "markdown",
      "source": [
        "Pada tahap ini, kita mendefinisikan sebuah **fungsi** bernama `check_missing_values` yang bertujuan untuk memeriksa **nilai yang hilang (missing values)** pada dataset.  \n",
        "Fungsi ini menerima dua argumen:\n",
        "1. `df`: DataFrame yang ingin diperiksa.\n",
        "2. `name`: Nama dataset yang digunakan sebagai label output.\n",
        "\n",
        "Fungsi ini akan menampilkan jumlah missing values serta persentase nilai yang hilang pada setiap kolom dalam dataset.\n",
        "\n",
        "---\n"
      ],
      "metadata": {
        "id": "_M29-MCSm_Wh"
      }
    },
    {
      "cell_type": "code",
      "source": [
        "def check_missing_values(df, name):\n",
        "    print(f\"Missing Values for {name}:\")\n",
        "    missing_values = df.isnull().sum()\n",
        "    missing_percent = (missing_values / len(df)) * 100\n",
        "    missing_df = pd.DataFrame({\n",
        "        'Missing Values': missing_values,\n",
        "        'Percentage (%)': missing_percent\n",
        "    })\n",
        "    print(missing_df)\n",
        "    print(\"\\n\")"
      ],
      "metadata": {
        "id": "cX-A5ZvHmC4_"
      },
      "execution_count": 13,
      "outputs": []
    },
    {
      "cell_type": "code",
      "source": [
        "check_missing_values(df_book, \"Books.csv\")\n",
        "check_missing_values(df_rating, \"Ratings.csv\")\n",
        "check_missing_values(df_user, \"Users.csv\")"
      ],
      "metadata": {
        "colab": {
          "base_uri": "https://localhost:8080/"
        },
        "id": "MIWG3Rt6Cd-0",
        "outputId": "b1953738-b989-48ce-af2f-faa86c892a58"
      },
      "execution_count": 14,
      "outputs": [
        {
          "output_type": "stream",
          "name": "stdout",
          "text": [
            "Missing Values for Books.csv:\n",
            "                     Missing Values  Percentage (%)\n",
            "ISBN                              0        0.000000\n",
            "Book-Title                        0        0.000000\n",
            "Book-Author                       2        0.000737\n",
            "Year-Of-Publication               0        0.000000\n",
            "Publisher                         2        0.000737\n",
            "Image-URL-S                       0        0.000000\n",
            "Image-URL-M                       0        0.000000\n",
            "Image-URL-L                       3        0.001106\n",
            "\n",
            "\n",
            "Missing Values for Ratings.csv:\n",
            "             Missing Values  Percentage (%)\n",
            "User-ID                   0             0.0\n",
            "ISBN                      0             0.0\n",
            "Book-Rating               0             0.0\n",
            "\n",
            "\n",
            "Missing Values for Users.csv:\n",
            "          Missing Values  Percentage (%)\n",
            "User-ID                0        0.000000\n",
            "Location               0        0.000000\n",
            "Age               110762       39.719857\n",
            "\n",
            "\n"
          ]
        }
      ]
    },
    {
      "cell_type": "code",
      "source": [
        "df_book.duplicated().sum()"
      ],
      "metadata": {
        "colab": {
          "base_uri": "https://localhost:8080/"
        },
        "id": "HJiuwjeGt4R4",
        "outputId": "fa4c6190-6a72-4c53-f44a-2d260a6957d0"
      },
      "execution_count": 15,
      "outputs": [
        {
          "output_type": "execute_result",
          "data": {
            "text/plain": [
              "np.int64(0)"
            ]
          },
          "metadata": {},
          "execution_count": 15
        }
      ]
    },
    {
      "cell_type": "code",
      "source": [
        "df_rating.duplicated().sum()"
      ],
      "metadata": {
        "colab": {
          "base_uri": "https://localhost:8080/"
        },
        "id": "P3Q9h_72ukTz",
        "outputId": "a900e9b5-4ec1-43a9-df33-fa441667fa99"
      },
      "execution_count": 16,
      "outputs": [
        {
          "output_type": "execute_result",
          "data": {
            "text/plain": [
              "np.int64(0)"
            ]
          },
          "metadata": {},
          "execution_count": 16
        }
      ]
    },
    {
      "cell_type": "code",
      "source": [
        "df_user.duplicated().sum()"
      ],
      "metadata": {
        "colab": {
          "base_uri": "https://localhost:8080/"
        },
        "id": "X-4MtPTXum8z",
        "outputId": "f6a808bb-f5b2-41fe-d3fc-c64350ffcd62"
      },
      "execution_count": 17,
      "outputs": [
        {
          "output_type": "execute_result",
          "data": {
            "text/plain": [
              "np.int64(0)"
            ]
          },
          "metadata": {},
          "execution_count": 17
        }
      ]
    },
    {
      "cell_type": "markdown",
      "source": [
        "#### 📊 **Insight Penanganan Missing Values dan Duplukasi Data**\n",
        "\n",
        "1. **Penanganan Data Buku dengan Nilai 'Unknown'**\n",
        "   - Kolom **Book-Author**, **Publisher**, dan **Image-URL-L** pada dataset `Books.csv` memiliki jumlah missing values yang sangat kecil (kurang dari 0.001%).\n",
        "   - Oleh karena itu, nilai yang hilang diisi dengan string `'Unknown'`. Ini dilakukan untuk memastikan bahwa analisis kategorikal dapat dilakukan tanpa kehilangan baris data. Dengan cara ini, data tetap utuh dan tetap dapat digunakan dalam analisis yang melibatkan kategori buku atau penerbit.\n",
        "   - Akan ada pemilihan fitur yang relevant untuk pelatihan pada model rekomendasi nanti.\n",
        "   \n",
        "   **Detail Missing Values**:\n",
        "   - **Book-Author**: 2 entri (0.000737%)\n",
        "   - **Publisher**: 2 entri (0.000737%)\n",
        "   - **Image-URL-L**: 3 entri (0.001106%)\n",
        "\n",
        "   **Detail Duplikasi Data** --> Tidak ada Duplikasi Data\n",
        "\n",
        "2. **Pengisian Usia Pengguna dengan Median**\n",
        "   - Kolom **Age** pada dataset `Users.csv` memiliki sekitar 40% nilai kosong, yang cukup signifikan untuk mempengaruhi distribusi data jika tidak ditangani dengan benar.\n",
        "   - Untuk mengatasi hal ini, nilai kosong di kolom **Age** diisi dengan **median** dari usia yang ada. Pengisian dengan median lebih tahan terhadap outlier dibandingkan menggunakan rata-rata, sehingga distribusi usia pengguna tetap realistis dan representatif.\n",
        "   \n",
        "   **Detail Missing Values**:\n",
        "   - **Age**: 110,762 entri kosong (sekitar 39.72%)\n",
        "\n",
        "   **Detail Duplikasi Data** --> Tidak ada Duplikasi Data\n",
        "\n",
        "3. **Data Rating Sudah Bersih**\n",
        "   - Dataset **Ratings.csv** tidak mengandung missing values, baik pada kolom **User-ID**, **ISBN**, maupun **Book-Rating**.\n",
        "   - Oleh karena itu, dataset rating tidak memerlukan penanganan lebih lanjut terkait missing values.\n",
        "\n",
        "   **Detail Duplikasi Data** --> Tidak ada Duplikasi Data\n",
        "\n",
        "---\n"
      ],
      "metadata": {
        "id": "RJTP_wmO-Mly"
      }
    },
    {
      "cell_type": "markdown",
      "source": [
        "## Univariate Analysis"
      ],
      "metadata": {
        "id": "8rYZg2eieAZX"
      }
    },
    {
      "cell_type": "markdown",
      "source": [
        "### Dataset Books.csv"
      ],
      "metadata": {
        "id": "jMy44q4qeGs4"
      }
    },
    {
      "cell_type": "markdown",
      "source": [
        "Cek jumlah buku unik"
      ],
      "metadata": {
        "id": "HZI18aiaJh5j"
      }
    },
    {
      "cell_type": "code",
      "source": [
        "print(f\"Jumlah buku unik: {df_book['Book-Title'].nunique()}\")"
      ],
      "metadata": {
        "id": "pN5nNjWZVQdn",
        "colab": {
          "base_uri": "https://localhost:8080/"
        },
        "outputId": "4134d9dc-e8d7-4ad8-e209-cf099a97a59e"
      },
      "execution_count": 18,
      "outputs": [
        {
          "output_type": "stream",
          "name": "stdout",
          "text": [
            "Jumlah buku unik: 242135\n"
          ]
        }
      ]
    },
    {
      "cell_type": "markdown",
      "source": [
        "Top 10 penulis paling produktif"
      ],
      "metadata": {
        "id": "B2LNA8TJJlyi"
      }
    },
    {
      "cell_type": "code",
      "source": [
        "top_authors = df_book['Book-Author'].value_counts().head(10)\n",
        "print(\"\\nTop 10 penulis dengan jumlah buku terbanyak:\")\n",
        "print(top_authors)"
      ],
      "metadata": {
        "colab": {
          "base_uri": "https://localhost:8080/"
        },
        "id": "RZWlXirCebDB",
        "outputId": "8c2aa661-2023-43da-f252-4bf9b4d89e22"
      },
      "execution_count": 19,
      "outputs": [
        {
          "output_type": "stream",
          "name": "stdout",
          "text": [
            "\n",
            "Top 10 penulis dengan jumlah buku terbanyak:\n",
            "Book-Author\n",
            "Agatha Christie        632\n",
            "William Shakespeare    567\n",
            "Stephen King           524\n",
            "Ann M. Martin          423\n",
            "Carolyn Keene          373\n",
            "Francine Pascal        372\n",
            "Isaac Asimov           330\n",
            "Nora Roberts           315\n",
            "Barbara Cartland       307\n",
            "Charles Dickens        302\n",
            "Name: count, dtype: int64\n"
          ]
        }
      ]
    },
    {
      "cell_type": "code",
      "source": [
        "plt.figure(figsize=(10, 5))\n",
        "sns.barplot(y=top_authors.index, x=top_authors.values, palette=\"viridis\")\n",
        "plt.title(\"Top 10 Penulis dengan Buku Terbanyak\")\n",
        "plt.xlabel(\"Jumlah Buku\")\n",
        "plt.ylabel(\"Penulis\")\n",
        "plt.show()"
      ],
      "metadata": {
        "colab": {
          "base_uri": "https://localhost:8080/",
          "height": 0
        },
        "id": "7_Xap9k2JuPR",
        "outputId": "5637458d-f54e-46ef-f3ef-26376417f643"
      },
      "execution_count": 20,
      "outputs": [
        {
          "output_type": "stream",
          "name": "stderr",
          "text": [
            "<ipython-input-20-1c5bb6e3ee92>:2: FutureWarning: \n",
            "\n",
            "Passing `palette` without assigning `hue` is deprecated and will be removed in v0.14.0. Assign the `y` variable to `hue` and set `legend=False` for the same effect.\n",
            "\n",
            "  sns.barplot(y=top_authors.index, x=top_authors.values, palette=\"viridis\")\n"
          ]
        },
        {
          "output_type": "display_data",
          "data": {
            "text/plain": [
              "<Figure size 1000x500 with 1 Axes>"
            ],
            "image/png": "[encoded data removed]"
          },
          "metadata": {}
        }
      ]
    },
    {
      "cell_type": "markdown",
      "source": [
        " Visualisasi Distribusi Tahun Terbit"
      ],
      "metadata": {
        "id": "6lPQYKR-njqd"
      }
    },
    {
      "cell_type": "code",
      "source": [
        "df_book['Year-Of-Publication'] = pd.to_numeric(df_book['Year-Of-Publication'], errors='coerce')\n",
        "book = df_book[(df_book['Year-Of-Publication'] >= 1900) & (df_book['Year-Of-Publication'] <= 2025)]\n",
        "\n",
        "plt.figure(figsize=(12, 4))\n",
        "sns.histplot(book['Year-Of-Publication'], bins=30, kde=False, color=\"skyblue\")\n",
        "plt.title(\"Distribusi Tahun Terbit Buku\")\n",
        "plt.xlabel(\"Tahun Terbit\")\n",
        "plt.ylabel(\"Jumlah Buku\")\n",
        "plt.show()"
      ],
      "metadata": {
        "colab": {
          "base_uri": "https://localhost:8080/",
          "height": 0
        },
        "id": "k1vbCktJei72",
        "outputId": "93589a17-96be-4745-f447-ebb964ce1027"
      },
      "execution_count": 21,
      "outputs": [
        {
          "output_type": "display_data",
          "data": {
            "text/plain": [
              "<Figure size 1200x400 with 1 Axes>"
            ],
            "image/png": "[encoded data removed]"
          },
          "metadata": {}
        }
      ]
    },
    {
      "cell_type": "markdown",
      "source": [
        "Top 10 Publisher"
      ],
      "metadata": {
        "id": "_JoL4LpLKcDq"
      }
    },
    {
      "cell_type": "code",
      "source": [
        "top_publishers = df_book['Publisher'].value_counts().head(10)\n",
        "\n",
        "plt.figure(figsize=(10, 5))\n",
        "sns.barplot(y=top_publishers.index, x=top_publishers.values, palette=\"magma\")\n",
        "plt.title(\"Top 10 Publisher\")\n",
        "plt.xlabel(\"Jumlah Buku\")\n",
        "plt.ylabel(\"Publisher\")\n",
        "plt.show()"
      ],
      "metadata": {
        "colab": {
          "base_uri": "https://localhost:8080/",
          "height": 0
        },
        "id": "rpWECMCme-CN",
        "outputId": "82c38b65-a93d-42fd-bd6c-5f7bce2b11bf"
      },
      "execution_count": 22,
      "outputs": [
        {
          "output_type": "stream",
          "name": "stderr",
          "text": [
            "<ipython-input-22-eb3294fe04d3>:4: FutureWarning: \n",
            "\n",
            "Passing `palette` without assigning `hue` is deprecated and will be removed in v0.14.0. Assign the `y` variable to `hue` and set `legend=False` for the same effect.\n",
            "\n",
            "  sns.barplot(y=top_publishers.index, x=top_publishers.values, palette=\"magma\")\n"
          ]
        },
        {
          "output_type": "display_data",
          "data": {
            "text/plain": [
              "<Figure size 1000x500 with 1 Axes>"
            ],
            "image/png": "[encoded data removed]"
          },
          "metadata": {}
        }
      ]
    },
    {
      "cell_type": "markdown",
      "source": [
        "### Dataset Ratings.csv"
      ],
      "metadata": {
        "id": "S4SgONHmsaUB"
      }
    },
    {
      "cell_type": "markdown",
      "source": [
        "Mengecek Distribusi Nilai Rating"
      ],
      "metadata": {
        "id": "K5Kxrj7InY_F"
      }
    },
    {
      "cell_type": "code",
      "source": [
        "plt.figure(figsize=(10, 5))\n",
        "sns.countplot(x='Book-Rating', data=df_rating, palette=\"coolwarm\")\n",
        "plt.title(\"Distribusi Rating Buku\")\n",
        "plt.xlabel(\"Rating\")\n",
        "plt.ylabel(\"Jumlah\")\n",
        "plt.show()\n",
        "\n",
        "# Jumlah rating unik\n",
        "print(f\"Jumlah kombinasi User-ISBN yang unik (interaksi): {df_rating.drop_duplicates(['User-ID', 'ISBN']).shape[0]}\")\n"
      ],
      "metadata": {
        "colab": {
          "base_uri": "https://localhost:8080/",
          "height": 0
        },
        "id": "TrM-Dy9Ng5bU",
        "outputId": "dec59baf-7197-4ad8-af46-345e734f5433"
      },
      "execution_count": 23,
      "outputs": [
        {
          "output_type": "stream",
          "name": "stderr",
          "text": [
            "<ipython-input-23-77453dc65f00>:2: FutureWarning: \n",
            "\n",
            "Passing `palette` without assigning `hue` is deprecated and will be removed in v0.14.0. Assign the `x` variable to `hue` and set `legend=False` for the same effect.\n",
            "\n",
            "  sns.countplot(x='Book-Rating', data=df_rating, palette=\"coolwarm\")\n"
          ]
        },
        {
          "output_type": "display_data",
          "data": {
            "text/plain": [
              "<Figure size 1000x500 with 1 Axes>"
            ],
            "image/png": "[encoded data removed]"
          },
          "metadata": {}
        },
        {
          "output_type": "stream",
          "name": "stdout",
          "text": [
            "Jumlah kombinasi User-ISBN yang unik (interaksi): 1149780\n"
          ]
        }
      ]
    },
    {
      "cell_type": "markdown",
      "source": [
        "### Dataset Users.csv"
      ],
      "metadata": {
        "id": "gAbgb69JszyY"
      }
    },
    {
      "cell_type": "markdown",
      "source": [
        "Plot distribusi umur"
      ],
      "metadata": {
        "id": "Dcw55XZrnE4L"
      }
    },
    {
      "cell_type": "code",
      "source": [
        "plt.figure(figsize=(10, 5))\n",
        "sns.histplot(df_user['Age'], bins=30, kde=True, color=\"coral\")\n",
        "plt.title(\"Distribusi Umur Pengguna\")\n",
        "plt.xlabel(\"Umur\")\n",
        "plt.ylabel(\"Jumlah Pengguna\")\n",
        "plt.show()"
      ],
      "metadata": {
        "colab": {
          "base_uri": "https://localhost:8080/",
          "height": 0
        },
        "id": "zQPF9mAEsifn",
        "outputId": "7318a303-f919-417e-8754-882be177052e"
      },
      "execution_count": 24,
      "outputs": [
        {
          "output_type": "display_data",
          "data": {
            "text/plain": [
              "<Figure size 1000x500 with 1 Axes>"
            ],
            "image/png": "[encoded data removed]"
          },
          "metadata": {}
        }
      ]
    },
    {
      "cell_type": "code",
      "source": [
        "print(\"Umur minimum:\", df_user['Age'].min())\n",
        "print(\"Umur maksimum:\", df_user['Age'].max())"
      ],
      "metadata": {
        "colab": {
          "base_uri": "https://localhost:8080/"
        },
        "id": "HiOJdEahLpAg",
        "outputId": "fa686ef7-63a2-459b-bc53-1803ad4d9b45"
      },
      "execution_count": 25,
      "outputs": [
        {
          "output_type": "stream",
          "name": "stdout",
          "text": [
            "Umur minimum: 0.0\n",
            "Umur maksimum: 244.0\n"
          ]
        }
      ]
    },
    {
      "cell_type": "markdown",
      "source": [
        " Top 10 lokasi pengguna"
      ],
      "metadata": {
        "id": "dhqvdlGUnKKY"
      }
    },
    {
      "cell_type": "code",
      "source": [
        "top_locations = df_user['Location'].value_counts().head(10)"
      ],
      "metadata": {
        "id": "nO7CUNFKtFNo"
      },
      "execution_count": 26,
      "outputs": []
    },
    {
      "cell_type": "code",
      "source": [
        "print(\"\\nTop 10 lokasi pengguna:\")\n",
        "print(top_locations)"
      ],
      "metadata": {
        "colab": {
          "base_uri": "https://localhost:8080/"
        },
        "id": "2iyZQgt2NeL9",
        "outputId": "9d4b40ab-909d-43f8-bef0-4eb2a33303c0"
      },
      "execution_count": 27,
      "outputs": [
        {
          "output_type": "stream",
          "name": "stdout",
          "text": [
            "\n",
            "Top 10 lokasi pengguna:\n",
            "Location\n",
            "london, england, united kingdom        2506\n",
            "toronto, ontario, canada               2250\n",
            "sydney, new south wales, australia     1744\n",
            "melbourne, victoria, australia         1708\n",
            "portland, oregon, usa                  1629\n",
            "chicago, illinois, usa                 1526\n",
            "seattle, washington, usa               1484\n",
            "new york, new york, usa                1411\n",
            "madrid, madrid, spain                  1400\n",
            "vancouver, british columbia, canada    1359\n",
            "Name: count, dtype: int64\n"
          ]
        }
      ]
    },
    {
      "cell_type": "code",
      "source": [
        "plt.figure(figsize=(10, 5))\n",
        "sns.barplot(y=top_locations.index, x=top_locations.values, palette=\"viridis\")\n",
        "plt.title(\"Top 10 Lokasi Pengguna\")\n",
        "plt.xlabel(\"Jumlah Pengguna\")\n",
        "plt.ylabel(\"Lokasi\")\n",
        "plt.show()"
      ],
      "metadata": {
        "colab": {
          "base_uri": "https://localhost:8080/",
          "height": 0
        },
        "id": "rWCH8gzLuwYR",
        "outputId": "faa52822-0273-4b45-a3a7-e997e221ffe2"
      },
      "execution_count": 28,
      "outputs": [
        {
          "output_type": "stream",
          "name": "stderr",
          "text": [
            "<ipython-input-28-339e76394875>:2: FutureWarning: \n",
            "\n",
            "Passing `palette` without assigning `hue` is deprecated and will be removed in v0.14.0. Assign the `y` variable to `hue` and set `legend=False` for the same effect.\n",
            "\n",
            "  sns.barplot(y=top_locations.index, x=top_locations.values, palette=\"viridis\")\n"
          ]
        },
        {
          "output_type": "display_data",
          "data": {
            "text/plain": [
              "<Figure size 1000x500 with 1 Axes>"
            ],
            "image/png": "[encoded data removed]"
          },
          "metadata": {}
        }
      ]
    },
    {
      "cell_type": "markdown",
      "source": [
        "### ✅ Kesimpulan Pemilihan Dataset\n",
        "\n",
        "1. Ratings.csv menunjukkan dominasi rating bernilai 0 (lebih dari 50%), yang mengindikasikan adanya banyak data yang tidak valid atau berupa implicit feedback. Meskipun begitu, data ini tetap akan digunakan setelah dilakukan seleksi data dan pembersihan untuk menjaga kualitas input sistem rekomendasi. Hanya data dengan rating eksplisit (1–10) yang akan dipertimbangkan untuk digunakan dalam model rekomendasi, sementara data dengan rating 0 akan dihapus atau diperlakukan sebagai data yang tidak relevan. Rating eksplisit yang valid akan menjadi basis utama untuk membangun hubungan antar pengguna dalam item untuk model Collaborative Filtering.\n",
        "\n",
        "2. Users.csv mengandung lebih dari 39% data usia yang hilang dan juga banyak nilai outlier ekstrem. Untuk itu, data pengguna akan dibersihkan terlebih dahulu, dan nilai usia yang hilang akan ditangani menggunakan teknik imputasi atau dengan menghapus entri yang tidak lengkap. Selain itu, informasi lokasi yang tersedia dalam dataset juga akan dipertimbangkan untuk mengidentifikasi pola preferensi berdasarkan wilayah, meskipun fokus utama tetap pada data rating dan interaksi pengguna.\n",
        "\n",
        "3. Books.csv berisi metadata penting seperti judul, penulis, penerbit, dan tahun terbit buku. Namun, karena pendekatan yang digunakan dalam sistem rekomendasi ini lebih berfokus pada interaksi pengguna dan bukan pada fitur konten buku, sebagian besar metadata dalam dataset ini tidak akan digunakan secara langsung. Namun, informasi ini tetap akan berguna dalam tahap evaluasi untuk memahami karakteristik buku yang direkomendasikan.\n",
        "\n",
        "4. Mengingat keterbatasan memori, hanya sekitar 10.000 entri dari masing-masing dataset (Books.csv, Ratings.csv, Users.csv) yang akan dipertimbangkan untuk meminimalkan penggunaan sumber daya dan memastikan bahwa proses modeling tetap efisien. Gabungan antara data dari ketiga file ini akan dilakukan dengan mencocokkan User-ID dari Ratings.csv dengan User-ID di Users.csv, serta mencocokkan ISBN dari Ratings.csv dengan ISBN di Books.csv.\n",
        "\n",
        "Kesimpulan : Berdasarkan evaluasi tersebut, sistem rekomendasi akan dibangun dengan menggabungkan informasi dari Ratings.csv dan Users.csv, menggunakan pendekatan Content-Based Filtering dan Collaborative Filtering. Fokus utama akan diberikan pada analisis interaksi pengguna dengan buku, untuk menentukan pola preferensi antar pengguna yang dapat digunakan untuk memberikan rekomendasi buku yang relevan berdasarkan perilaku pengguna serupa.\n"
      ],
      "metadata": {
        "id": "8-TuScolMSDJ"
      }
    },
    {
      "cell_type": "markdown",
      "source": [
        "# **4. Data Preparation**"
      ],
      "metadata": {
        "id": "EFtpb_Ol9FnW"
      }
    },
    {
      "cell_type": "markdown",
      "source": [
        "## Pembersihan Data"
      ],
      "metadata": {
        "id": "HkxfylmkcK9C"
      }
    },
    {
      "cell_type": "markdown",
      "source": [
        "### Books.csv"
      ],
      "metadata": {
        "id": "uoIE3HzIvJ16"
      }
    },
    {
      "cell_type": "markdown",
      "source": [
        "#### Mengonversi Tipe Data Year-Of-Publication\n",
        "Pada tahap ini, kita melakukan **konversi tipe data** pada kolom **Year-Of-Publication** di dataset `df_book` menjadi tipe numerik.  \n",
        "Jika terdapat data yang tidak dapat dikonversi menjadi angka (misalnya karena format tidak valid), maka nilai tersebut akan otomatis diubah menjadi `NaN` menggunakan parameter `errors='coerce'`.\n",
        "\n",
        "Langkah ini penting agar kolom tahun publikasi dapat diproses dengan benar pada tahap analisis data numerik berikutnya.\n",
        "\n",
        "---\n"
      ],
      "metadata": {
        "id": "vb7sgpYnpQH-"
      }
    },
    {
      "cell_type": "code",
      "source": [
        "df_book['Year-Of-Publication'] = pd.to_numeric(df_book['Year-Of-Publication'], errors='coerce')"
      ],
      "metadata": {
        "id": "2E2PG1yepTmd"
      },
      "execution_count": 29,
      "outputs": []
    },
    {
      "cell_type": "code",
      "source": [
        "df_book.info()"
      ],
      "metadata": {
        "colab": {
          "base_uri": "https://localhost:8080/"
        },
        "id": "yxwV4Bp7q-6k",
        "outputId": "42b09306-61b0-4297-f60b-373d94b1ed88"
      },
      "execution_count": 30,
      "outputs": [
        {
          "output_type": "stream",
          "name": "stdout",
          "text": [
            "<class 'pandas.core.frame.DataFrame'>\n",
            "RangeIndex: 271360 entries, 0 to 271359\n",
            "Data columns (total 8 columns):\n",
            " #   Column               Non-Null Count   Dtype  \n",
            "---  ------               --------------   -----  \n",
            " 0   ISBN                 271360 non-null  object \n",
            " 1   Book-Title           271360 non-null  object \n",
            " 2   Book-Author          271358 non-null  object \n",
            " 3   Year-Of-Publication  271357 non-null  float64\n",
            " 4   Publisher            271358 non-null  object \n",
            " 5   Image-URL-S          271360 non-null  object \n",
            " 6   Image-URL-M          271360 non-null  object \n",
            " 7   Image-URL-L          271357 non-null  object \n",
            "dtypes: float64(1), object(7)\n",
            "memory usage: 16.6+ MB\n"
          ]
        }
      ]
    },
    {
      "cell_type": "markdown",
      "source": [
        "#### Mengisi Missing Values pada Dataset Buku\n",
        "Pada tahap ini, kita melakukan pengisian missing values dengan nilai `'Unknown'` pada beberapa kolom dalam dataset `df_book`.  \n",
        "Kolom-kolom yang diisi adalah:\n",
        "- **Book-Author**: Mengisi nilai kosong pada kolom penulis buku dengan `'Unknown'`.\n",
        "- **Publisher**: Mengisi nilai kosong pada kolom penerbit dengan `'Unknown'`.\n",
        "- **Year-Of-Publication**: Mengisi nilai kosong pada kolom tahun publikasi dengan `'Unknown'`.\n",
        "- **Image-URL-L**: Mengisi nilai kosong pada kolom URL gambar buku dengan `'Unknown'`.\n",
        "\n",
        "Hal ini dilakukan untuk memastikan tidak ada data yang hilang pada kolom-kolom tersebut dan mencegah error pada tahap analisis selanjutnya.\n",
        "\n",
        "---\n"
      ],
      "metadata": {
        "id": "xl41y4Zcppj1"
      }
    },
    {
      "cell_type": "code",
      "source": [
        "df_book['Book-Author'].fillna('Unknown', inplace=True)\n",
        "df_book['Publisher'].fillna('Unknown', inplace=True)\n",
        "df_book['Year-Of-Publication'].fillna('Unknown', inplace=True)\n",
        "df_book['Image-URL-L'].fillna('Unknown', inplace=True)"
      ],
      "metadata": {
        "colab": {
          "base_uri": "https://localhost:8080/"
        },
        "id": "sicOrQlQptu0",
        "outputId": "7448c6e1-7b8e-450a-e72f-ef8227b02626"
      },
      "execution_count": 31,
      "outputs": [
        {
          "output_type": "stream",
          "name": "stderr",
          "text": [
            "<ipython-input-31-ab135a0c437e>:1: FutureWarning: A value is trying to be set on a copy of a DataFrame or Series through chained assignment using an inplace method.\n",
            "The behavior will change in pandas 3.0. This inplace method will never work because the intermediate object on which we are setting values always behaves as a copy.\n",
            "\n",
            "For example, when doing 'df[col].method(value, inplace=True)', try using 'df.method({col: value}, inplace=True)' or df[col] = df[col].method(value) instead, to perform the operation inplace on the original object.\n",
            "\n",
            "\n",
            "  df_book['Book-Author'].fillna('Unknown', inplace=True)\n",
            "<ipython-input-31-ab135a0c437e>:2: FutureWarning: A value is trying to be set on a copy of a DataFrame or Series through chained assignment using an inplace method.\n",
            "The behavior will change in pandas 3.0. This inplace method will never work because the intermediate object on which we are setting values always behaves as a copy.\n",
            "\n",
            "For example, when doing 'df[col].method(value, inplace=True)', try using 'df.method({col: value}, inplace=True)' or df[col] = df[col].method(value) instead, to perform the operation inplace on the original object.\n",
            "\n",
            "\n",
            "  df_book['Publisher'].fillna('Unknown', inplace=True)\n",
            "<ipython-input-31-ab135a0c437e>:3: FutureWarning: A value is trying to be set on a copy of a DataFrame or Series through chained assignment using an inplace method.\n",
            "The behavior will change in pandas 3.0. This inplace method will never work because the intermediate object on which we are setting values always behaves as a copy.\n",
            "\n",
            "For example, when doing 'df[col].method(value, inplace=True)', try using 'df.method({col: value}, inplace=True)' or df[col] = df[col].method(value) instead, to perform the operation inplace on the original object.\n",
            "\n",
            "\n",
            "  df_book['Year-Of-Publication'].fillna('Unknown', inplace=True)\n",
            "<ipython-input-31-ab135a0c437e>:3: FutureWarning: Setting an item of incompatible dtype is deprecated and will raise an error in a future version of pandas. Value 'Unknown' has dtype incompatible with float64, please explicitly cast to a compatible dtype first.\n",
            "  df_book['Year-Of-Publication'].fillna('Unknown', inplace=True)\n",
            "<ipython-input-31-ab135a0c437e>:4: FutureWarning: A value is trying to be set on a copy of a DataFrame or Series through chained assignment using an inplace method.\n",
            "The behavior will change in pandas 3.0. This inplace method will never work because the intermediate object on which we are setting values always behaves as a copy.\n",
            "\n",
            "For example, when doing 'df[col].method(value, inplace=True)', try using 'df.method({col: value}, inplace=True)' or df[col] = df[col].method(value) instead, to perform the operation inplace on the original object.\n",
            "\n",
            "\n",
            "  df_book['Image-URL-L'].fillna('Unknown', inplace=True)\n"
          ]
        }
      ]
    },
    {
      "cell_type": "markdown",
      "source": [
        "####  Seleksi dan Reduksi Fitur\n",
        "Pada tahap ini, kita membuat **subset** dari dataset `df_book` dengan hanya memilih kolom-kolom yang dianggap relevan untuk analisis lebih lanjut.  \n",
        "Kolom yang dipilih adalah:\n",
        "- **ISBN**: Nomor identifikasi unik untuk setiap buku.\n",
        "- **Book-Title**: Judul buku.\n",
        "- **Book-Author**: Nama penulis buku.\n",
        "- **Publisher**: Nama penerbit buku.\n",
        "\n",
        "Dengan subset ini, kita dapat lebih fokus pada informasi penting tanpa terganggu oleh kolom lain yang kurang relevan.\n",
        "\n",
        "---\n"
      ],
      "metadata": {
        "id": "7A2b-ABGPbXH"
      }
    },
    {
      "cell_type": "code",
      "source": [
        "df_books_relevant = df_book[['ISBN', 'Book-Title', 'Book-Author', 'Publisher']]"
      ],
      "metadata": {
        "id": "64gZ9BlY8_wL"
      },
      "execution_count": 32,
      "outputs": []
    },
    {
      "cell_type": "markdown",
      "source": [
        "cek kembali apabila ada missing values"
      ],
      "metadata": {
        "id": "5-zO-PBcr2sR"
      }
    },
    {
      "cell_type": "code",
      "source": [
        "df_books_relevant.isnull().sum()"
      ],
      "metadata": {
        "colab": {
          "base_uri": "https://localhost:8080/",
          "height": 0
        },
        "id": "_Lj0niJNu78t",
        "outputId": "957ad030-fdf5-4228-8e77-b27c8ddc086d"
      },
      "execution_count": 33,
      "outputs": [
        {
          "output_type": "execute_result",
          "data": {
            "text/plain": [
              "ISBN           0\n",
              "Book-Title     0\n",
              "Book-Author    0\n",
              "Publisher      0\n",
              "dtype: int64"
            ],
            "text/html": [
              "<div>\n",
              "<style scoped>\n",
              "    .dataframe tbody tr th:only-of-type {\n",
              "        vertical-align: middle;\n",
              "    }\n",
              "\n",
              "    .dataframe tbody tr th {\n",
              "        vertical-align: top;\n",
              "    }\n",
              "\n",
              "    .dataframe thead th {\n",
              "        text-align: right;\n",
              "    }\n",
              "</style>\n",
              "<table border=\"1\" class=\"dataframe\">\n",
              "  <thead>\n",
              "    <tr style=\"text-align: right;\">\n",
              "      <th></th>\n",
              "      <th>0</th>\n",
              "    </tr>\n",
              "  </thead>\n",
              "  <tbody>\n",
              "    <tr>\n",
              "      <th>ISBN</th>\n",
              "      <td>0</td>\n",
              "    </tr>\n",
              "    <tr>\n",
              "      <th>Book-Title</th>\n",
              "      <td>0</td>\n",
              "    </tr>\n",
              "    <tr>\n",
              "      <th>Book-Author</th>\n",
              "      <td>0</td>\n",
              "    </tr>\n",
              "    <tr>\n",
              "      <th>Publisher</th>\n",
              "      <td>0</td>\n",
              "    </tr>\n",
              "  </tbody>\n",
              "</table>\n",
              "</div><br><label><b>dtype:</b> int64</label>"
            ]
          },
          "metadata": {},
          "execution_count": 33
        }
      ]
    },
    {
      "cell_type": "markdown",
      "source": [
        "Cek kembali struktur datanya"
      ],
      "metadata": {
        "id": "UUGSiUm9r7r5"
      }
    },
    {
      "cell_type": "code",
      "source": [
        "df_books_relevant.info()"
      ],
      "metadata": {
        "id": "cDF6WmdQPwYz",
        "colab": {
          "base_uri": "https://localhost:8080/"
        },
        "outputId": "62598d03-3414-4140-87d2-35ffb48196ce"
      },
      "execution_count": 34,
      "outputs": [
        {
          "output_type": "stream",
          "name": "stdout",
          "text": [
            "<class 'pandas.core.frame.DataFrame'>\n",
            "RangeIndex: 271360 entries, 0 to 271359\n",
            "Data columns (total 4 columns):\n",
            " #   Column       Non-Null Count   Dtype \n",
            "---  ------       --------------   ----- \n",
            " 0   ISBN         271360 non-null  object\n",
            " 1   Book-Title   271360 non-null  object\n",
            " 2   Book-Author  271360 non-null  object\n",
            " 3   Publisher    271360 non-null  object\n",
            "dtypes: object(4)\n",
            "memory usage: 8.3+ MB\n"
          ]
        }
      ]
    },
    {
      "cell_type": "code",
      "source": [
        "df_books_relevant.head()"
      ],
      "metadata": {
        "colab": {
          "base_uri": "https://localhost:8080/",
          "height": 0
        },
        "id": "mJOUsF1VQ6iS",
        "outputId": "cfb4db76-6394-48fc-ea20-bb1232038af2"
      },
      "execution_count": 35,
      "outputs": [
        {
          "output_type": "execute_result",
          "data": {
            "text/plain": [
              "         ISBN                                         Book-Title  \\\n",
              "0  0195153448                                Classical Mythology   \n",
              "1  0002005018                                       Clara Callan   \n",
              "2  0060973129                               Decision in Normandy   \n",
              "3  0374157065  Flu: The Story of the Great Influenza Pandemic...   \n",
              "4  0393045218                             The Mummies of Urumchi   \n",
              "\n",
              "            Book-Author                   Publisher  \n",
              "0    Mark P. O. Morford     Oxford University Press  \n",
              "1  Richard Bruce Wright       HarperFlamingo Canada  \n",
              "2          Carlo D'Este             HarperPerennial  \n",
              "3      Gina Bari Kolata        Farrar Straus Giroux  \n",
              "4       E. J. W. Barber  W. W. Norton &amp; Company  "
            ],
            "text/html": [
              "\n",
              "  <div id=\"df-36c67345-7293-4963-a2e6-b9d7d74b204a\" class=\"colab-df-container\">\n",
              "    <div>\n",
              "<style scoped>\n",
              "    .dataframe tbody tr th:only-of-type {\n",
              "        vertical-align: middle;\n",
              "    }\n",
              "\n",
              "    .dataframe tbody tr th {\n",
              "        vertical-align: top;\n",
              "    }\n",
              "\n",
              "    .dataframe thead th {\n",
              "        text-align: right;\n",
              "    }\n",
              "</style>\n",
              "<table border=\"1\" class=\"dataframe\">\n",
              "  <thead>\n",
              "    <tr style=\"text-align: right;\">\n",
              "      <th></th>\n",
              "      <th>ISBN</th>\n",
              "      <th>Book-Title</th>\n",
              "      <th>Book-Author</th>\n",
              "      <th>Publisher</th>\n",
              "    </tr>\n",
              "  </thead>\n",
              "  <tbody>\n",
              "    <tr>\n",
              "      <th>0</th>\n",
              "      <td>0195153448</td>\n",
              "      <td>Classical Mythology</td>\n",
              "      <td>Mark P. O. Morford</td>\n",
              "      <td>Oxford University Press</td>\n",
              "    </tr>\n",
              "    <tr>\n",
              "      <th>1</th>\n",
              "      <td>0002005018</td>\n",
              "      <td>Clara Callan</td>\n",
              "      <td>Richard Bruce Wright</td>\n",
              "      <td>HarperFlamingo Canada</td>\n",
              "    </tr>\n",
              "    <tr>\n",
              "      <th>2</th>\n",
              "      <td>0060973129</td>\n",
              "      <td>Decision in Normandy</td>\n",
              "      <td>Carlo D'Este</td>\n",
              "      <td>HarperPerennial</td>\n",
              "    </tr>\n",
              "    <tr>\n",
              "      <th>3</th>\n",
              "      <td>0374157065</td>\n",
              "      <td>Flu: The Story of the Great Influenza Pandemic...</td>\n",
              "      <td>Gina Bari Kolata</td>\n",
              "      <td>Farrar Straus Giroux</td>\n",
              "    </tr>\n",
              "    <tr>\n",
              "      <th>4</th>\n",
              "      <td>0393045218</td>\n",
              "      <td>The Mummies of Urumchi</td>\n",
              "      <td>E. J. W. Barber</td>\n",
              "      <td>W. W. Norton &amp;amp; Company</td>\n",
              "    </tr>\n",
              "  </tbody>\n",
              "</table>\n",
              "</div>\n",
              "    <div class=\"colab-df-buttons\">\n",
              "\n",
              "  <div class=\"colab-df-container\">\n",
              "    <button class=\"colab-df-convert\" onclick=\"convertToInteractive('df-36c67345-7293-4963-a2e6-b9d7d74b204a')\"\n",
              "            title=\"Convert this dataframe to an interactive table.\"\n",
              "            style=\"display:none;\">\n",
              "\n",
              "  <svg xmlns=\"http://www.w3.org/2000/svg\" height=\"24px\" viewBox=\"0 -960 960 960\">\n",
              "    <path d=\"M120-120v-720h720v720H120Zm60-500h600v-160H180v160Zm220 220h160v-160H400v160Zm0 220h160v-160H400v160ZM180-400h160v-160H180v160Zm440 0h160v-160H620v160ZM180-180h160v-160H180v160Zm440 0h160v-160H620v160Z\"/>\n",
              "  </svg>\n",
              "    </button>\n",
              "\n",
              "  <style>\n",
              "    .colab-df-container {\n",
              "      display:flex;\n",
              "      gap: 12px;\n",
              "    }\n",
              "\n",
              "    .colab-df-convert {\n",
              "      background-color: #E8F0FE;\n",
              "      border: none;\n",
              "      border-radius: 50%;\n",
              "      cursor: pointer;\n",
              "      display: none;\n",
              "      fill: #1967D2;\n",
              "      height: 32px;\n",
              "      padding: 0 0 0 0;\n",
              "      width: 32px;\n",
              "    }\n",
              "\n",
              "    .colab-df-convert:hover {\n",
              "      background-color: #E2EBFA;\n",
              "      box-shadow: 0px 1px 2px rgba(60, 64, 67, 0.3), 0px 1px 3px 1px rgba(60, 64, 67, 0.15);\n",
              "      fill: #174EA6;\n",
              "    }\n",
              "\n",
              "    .colab-df-buttons div {\n",
              "      margin-bottom: 4px;\n",
              "    }\n",
              "\n",
              "    [theme=dark] .colab-df-convert {\n",
              "      background-color: #3B4455;\n",
              "      fill: #D2E3FC;\n",
              "    }\n",
              "\n",
              "    [theme=dark] .colab-df-convert:hover {\n",
              "      background-color: #434B5C;\n",
              "      box-shadow: 0px 1px 3px 1px rgba(0, 0, 0, 0.15);\n",
              "      filter: drop-shadow(0px 1px 2px rgba(0, 0, 0, 0.3));\n",
              "      fill: #FFFFFF;\n",
              "    }\n",
              "  </style>\n",
              "\n",
              "    <script>\n",
              "      const buttonEl =\n",
              "        document.querySelector('#df-36c67345-7293-4963-a2e6-b9d7d74b204a button.colab-df-convert');\n",
              "      buttonEl.style.display =\n",
              "        google.colab.kernel.accessAllowed ? 'block' : 'none';\n",
              "\n",
              "      async function convertToInteractive(key) {\n",
              "        const element = document.querySelector('#df-36c67345-7293-4963-a2e6-b9d7d74b204a');\n",
              "        const dataTable =\n",
              "          await google.colab.kernel.invokeFunction('convertToInteractive',\n",
              "                                                    [key], {});\n",
              "        if (!dataTable) return;\n",
              "\n",
              "        const docLinkHtml = 'Like what you see? Visit the ' +\n",
              "          '<a target=\"_blank\" href=https://colab.research.google.com/notebooks/data_table.ipynb>data table notebook</a>'\n",
              "          + ' to learn more about interactive tables.';\n",
              "        element.innerHTML = '';\n",
              "        dataTable['output_type'] = 'display_data';\n",
              "        await google.colab.output.renderOutput(dataTable, element);\n",
              "        const docLink = document.createElement('div');\n",
              "        docLink.innerHTML = docLinkHtml;\n",
              "        element.appendChild(docLink);\n",
              "      }\n",
              "    </script>\n",
              "  </div>\n",
              "\n",
              "\n",
              "    <div id=\"df-fcce698a-b9b4-4a85-b73c-6766a2501d2d\">\n",
              "      <button class=\"colab-df-quickchart\" onclick=\"quickchart('df-fcce698a-b9b4-4a85-b73c-6766a2501d2d')\"\n",
              "                title=\"Suggest charts\"\n",
              "                style=\"display:none;\">\n",
              "\n",
              "<svg xmlns=\"http://www.w3.org/2000/svg\" height=\"24px\"viewBox=\"0 0 24 24\"\n",
              "     width=\"24px\">\n",
              "    <g>\n",
              "        <path d=\"M19 3H5c-1.1 0-2 .9-2 2v14c0 1.1.9 2 2 2h14c1.1 0 2-.9 2-2V5c0-1.1-.9-2-2-2zM9 17H7v-7h2v7zm4 0h-2V7h2v10zm4 0h-2v-4h2v4z\"/>\n",
              "    </g>\n",
              "</svg>\n",
              "      </button>\n",
              "\n",
              "<style>\n",
              "  .colab-df-quickchart {\n",
              "      --bg-color: #E8F0FE;\n",
              "      --fill-color: #1967D2;\n",
              "      --hover-bg-color: #E2EBFA;\n",
              "      --hover-fill-color: #174EA6;\n",
              "      --disabled-fill-color: #AAA;\n",
              "      --disabled-bg-color: #DDD;\n",
              "  }\n",
              "\n",
              "  [theme=dark] .colab-df-quickchart {\n",
              "      --bg-color: #3B4455;\n",
              "      --fill-color: #D2E3FC;\n",
              "      --hover-bg-color: #434B5C;\n",
              "      --hover-fill-color: #FFFFFF;\n",
              "      --disabled-bg-color: #3B4455;\n",
              "      --disabled-fill-color: #666;\n",
              "  }\n",
              "\n",
              "  .colab-df-quickchart {\n",
              "    background-color: var(--bg-color);\n",
              "    border: none;\n",
              "    border-radius: 50%;\n",
              "    cursor: pointer;\n",
              "    display: none;\n",
              "    fill: var(--fill-color);\n",
              "    height: 32px;\n",
              "    padding: 0;\n",
              "    width: 32px;\n",
              "  }\n",
              "\n",
              "  .colab-df-quickchart:hover {\n",
              "    background-color: var(--hover-bg-color);\n",
              "    box-shadow: 0 1px 2px rgba(60, 64, 67, 0.3), 0 1px 3px 1px rgba(60, 64, 67, 0.15);\n",
              "    fill: var(--button-hover-fill-color);\n",
              "  }\n",
              "\n",
              "  .colab-df-quickchart-complete:disabled,\n",
              "  .colab-df-quickchart-complete:disabled:hover {\n",
              "    background-color: var(--disabled-bg-color);\n",
              "    fill: var(--disabled-fill-color);\n",
              "    box-shadow: none;\n",
              "  }\n",
              "\n",
              "  .colab-df-spinner {\n",
              "    border: 2px solid var(--fill-color);\n",
              "    border-color: transparent;\n",
              "    border-bottom-color: var(--fill-color);\n",
              "    animation:\n",
              "      spin 1s steps(1) infinite;\n",
              "  }\n",
              "\n",
              "  @keyframes spin {\n",
              "    0% {\n",
              "      border-color: transparent;\n",
              "      border-bottom-color: var(--fill-color);\n",
              "      border-left-color: var(--fill-color);\n",
              "    }\n",
              "    20% {\n",
              "      border-color: transparent;\n",
              "      border-left-color: var(--fill-color);\n",
              "      border-top-color: var(--fill-color);\n",
              "    }\n",
              "    30% {\n",
              "      border-color: transparent;\n",
              "      border-left-color: var(--fill-color);\n",
              "      border-top-color: var(--fill-color);\n",
              "      border-right-color: var(--fill-color);\n",
              "    }\n",
              "    40% {\n",
              "      border-color: transparent;\n",
              "      border-right-color: var(--fill-color);\n",
              "      border-top-color: var(--fill-color);\n",
              "    }\n",
              "    60% {\n",
              "      border-color: transparent;\n",
              "      border-right-color: var(--fill-color);\n",
              "    }\n",
              "    80% {\n",
              "      border-color: transparent;\n",
              "      border-right-color: var(--fill-color);\n",
              "      border-bottom-color: var(--fill-color);\n",
              "    }\n",
              "    90% {\n",
              "      border-color: transparent;\n",
              "      border-bottom-color: var(--fill-color);\n",
              "    }\n",
              "  }\n",
              "</style>\n",
              "\n",
              "      <script>\n",
              "        async function quickchart(key) {\n",
              "          const quickchartButtonEl =\n",
              "            document.querySelector('#' + key + ' button');\n",
              "          quickchartButtonEl.disabled = true;  // To prevent multiple clicks.\n",
              "          quickchartButtonEl.classList.add('colab-df-spinner');\n",
              "          try {\n",
              "            const charts = await google.colab.kernel.invokeFunction(\n",
              "                'suggestCharts', [key], {});\n",
              "          } catch (error) {\n",
              "            console.error('Error during call to suggestCharts:', error);\n",
              "          }\n",
              "          quickchartButtonEl.classList.remove('colab-df-spinner');\n",
              "          quickchartButtonEl.classList.add('colab-df-quickchart-complete');\n",
              "        }\n",
              "        (() => {\n",
              "          let quickchartButtonEl =\n",
              "            document.querySelector('#df-fcce698a-b9b4-4a85-b73c-6766a2501d2d button');\n",
              "          quickchartButtonEl.style.display =\n",
              "            google.colab.kernel.accessAllowed ? 'block' : 'none';\n",
              "        })();\n",
              "      </script>\n",
              "    </div>\n",
              "\n",
              "    </div>\n",
              "  </div>\n"
            ],
            "application/vnd.google.colaboratory.intrinsic+json": {
              "type": "dataframe",
              "variable_name": "df_books_relevant"
            }
          },
          "metadata": {},
          "execution_count": 35
        }
      ]
    },
    {
      "cell_type": "markdown",
      "source": [
        "### Ratings.csv"
      ],
      "metadata": {
        "id": "0GAsya2AqeTa"
      }
    },
    {
      "cell_type": "markdown",
      "source": [
        "📌 Tahapan Pembersihan Data Rating\n",
        "\n",
        "Pada tahap ini, dilakukan proses *data cleaning* untuk menghilangkan rating buku yang bernilai nol (`0`). Rating dengan nilai 0 biasanya menandakan bahwa pengguna tidak memberikan rating yang valid atau hanya sekadar melakukan interaksi tanpa memberikan penilaian sebenarnya.\n",
        "\n",
        "---"
      ],
      "metadata": {
        "id": "1Ngkg7DoLR7L"
      }
    },
    {
      "cell_type": "code",
      "source": [
        "df_ratings_clean = df_rating[df_rating['Book-Rating'] > 0]"
      ],
      "metadata": {
        "id": "CQBamsKJcLhJ"
      },
      "execution_count": 36,
      "outputs": []
    },
    {
      "cell_type": "markdown",
      "source": [
        "Mengecek kembali struktur data untuk memastikan data sudah bersih"
      ],
      "metadata": {
        "id": "Xvh4sYg1LcLy"
      }
    },
    {
      "cell_type": "code",
      "source": [
        "df_ratings_clean.info()"
      ],
      "metadata": {
        "colab": {
          "base_uri": "https://localhost:8080/"
        },
        "id": "X6D-pb5kcyE5",
        "outputId": "8ee726f5-a945-4858-ef34-579ec966d800"
      },
      "execution_count": 37,
      "outputs": [
        {
          "output_type": "stream",
          "name": "stdout",
          "text": [
            "<class 'pandas.core.frame.DataFrame'>\n",
            "Index: 433671 entries, 1 to 1149779\n",
            "Data columns (total 3 columns):\n",
            " #   Column       Non-Null Count   Dtype \n",
            "---  ------       --------------   ----- \n",
            " 0   User-ID      433671 non-null  int64 \n",
            " 1   ISBN         433671 non-null  object\n",
            " 2   Book-Rating  433671 non-null  int64 \n",
            "dtypes: int64(2), object(1)\n",
            "memory usage: 13.2+ MB\n"
          ]
        }
      ]
    },
    {
      "cell_type": "code",
      "source": [
        "df_ratings_clean.head()"
      ],
      "metadata": {
        "colab": {
          "base_uri": "https://localhost:8080/",
          "height": 0
        },
        "id": "WjhSb-Feccn0",
        "outputId": "4a98d31e-1d52-46d9-ab7e-82f909118992"
      },
      "execution_count": 38,
      "outputs": [
        {
          "output_type": "execute_result",
          "data": {
            "text/plain": [
              "   User-ID        ISBN  Book-Rating\n",
              "1   276726  0155061224            5\n",
              "3   276729  052165615X            3\n",
              "4   276729  0521795028            6\n",
              "6   276736  3257224281            8\n",
              "7   276737  0600570967            6"
            ],
            "text/html": [
              "\n",
              "  <div id=\"df-b61c9df3-e3e8-4eea-9855-1d4e9f759a27\" class=\"colab-df-container\">\n",
              "    <div>\n",
              "<style scoped>\n",
              "    .dataframe tbody tr th:only-of-type {\n",
              "        vertical-align: middle;\n",
              "    }\n",
              "\n",
              "    .dataframe tbody tr th {\n",
              "        vertical-align: top;\n",
              "    }\n",
              "\n",
              "    .dataframe thead th {\n",
              "        text-align: right;\n",
              "    }\n",
              "</style>\n",
              "<table border=\"1\" class=\"dataframe\">\n",
              "  <thead>\n",
              "    <tr style=\"text-align: right;\">\n",
              "      <th></th>\n",
              "      <th>User-ID</th>\n",
              "      <th>ISBN</th>\n",
              "      <th>Book-Rating</th>\n",
              "    </tr>\n",
              "  </thead>\n",
              "  <tbody>\n",
              "    <tr>\n",
              "      <th>1</th>\n",
              "      <td>276726</td>\n",
              "      <td>0155061224</td>\n",
              "      <td>5</td>\n",
              "    </tr>\n",
              "    <tr>\n",
              "      <th>3</th>\n",
              "      <td>276729</td>\n",
              "      <td>052165615X</td>\n",
              "      <td>3</td>\n",
              "    </tr>\n",
              "    <tr>\n",
              "      <th>4</th>\n",
              "      <td>276729</td>\n",
              "      <td>0521795028</td>\n",
              "      <td>6</td>\n",
              "    </tr>\n",
              "    <tr>\n",
              "      <th>6</th>\n",
              "      <td>276736</td>\n",
              "      <td>3257224281</td>\n",
              "      <td>8</td>\n",
              "    </tr>\n",
              "    <tr>\n",
              "      <th>7</th>\n",
              "      <td>276737</td>\n",
              "      <td>0600570967</td>\n",
              "      <td>6</td>\n",
              "    </tr>\n",
              "  </tbody>\n",
              "</table>\n",
              "</div>\n",
              "    <div class=\"colab-df-buttons\">\n",
              "\n",
              "  <div class=\"colab-df-container\">\n",
              "    <button class=\"colab-df-convert\" onclick=\"convertToInteractive('df-b61c9df3-e3e8-4eea-9855-1d4e9f759a27')\"\n",
              "            title=\"Convert this dataframe to an interactive table.\"\n",
              "            style=\"display:none;\">\n",
              "\n",
              "  <svg xmlns=\"http://www.w3.org/2000/svg\" height=\"24px\" viewBox=\"0 -960 960 960\">\n",
              "    <path d=\"M120-120v-720h720v720H120Zm60-500h600v-160H180v160Zm220 220h160v-160H400v160Zm0 220h160v-160H400v160ZM180-400h160v-160H180v160Zm440 0h160v-160H620v160ZM180-180h160v-160H180v160Zm440 0h160v-160H620v160Z\"/>\n",
              "  </svg>\n",
              "    </button>\n",
              "\n",
              "  <style>\n",
              "    .colab-df-container {\n",
              "      display:flex;\n",
              "      gap: 12px;\n",
              "    }\n",
              "\n",
              "    .colab-df-convert {\n",
              "      background-color: #E8F0FE;\n",
              "      border: none;\n",
              "      border-radius: 50%;\n",
              "      cursor: pointer;\n",
              "      display: none;\n",
              "      fill: #1967D2;\n",
              "      height: 32px;\n",
              "      padding: 0 0 0 0;\n",
              "      width: 32px;\n",
              "    }\n",
              "\n",
              "    .colab-df-convert:hover {\n",
              "      background-color: #E2EBFA;\n",
              "      box-shadow: 0px 1px 2px rgba(60, 64, 67, 0.3), 0px 1px 3px 1px rgba(60, 64, 67, 0.15);\n",
              "      fill: #174EA6;\n",
              "    }\n",
              "\n",
              "    .colab-df-buttons div {\n",
              "      margin-bottom: 4px;\n",
              "    }\n",
              "\n",
              "    [theme=dark] .colab-df-convert {\n",
              "      background-color: #3B4455;\n",
              "      fill: #D2E3FC;\n",
              "    }\n",
              "\n",
              "    [theme=dark] .colab-df-convert:hover {\n",
              "      background-color: #434B5C;\n",
              "      box-shadow: 0px 1px 3px 1px rgba(0, 0, 0, 0.15);\n",
              "      filter: drop-shadow(0px 1px 2px rgba(0, 0, 0, 0.3));\n",
              "      fill: #FFFFFF;\n",
              "    }\n",
              "  </style>\n",
              "\n",
              "    <script>\n",
              "      const buttonEl =\n",
              "        document.querySelector('#df-b61c9df3-e3e8-4eea-9855-1d4e9f759a27 button.colab-df-convert');\n",
              "      buttonEl.style.display =\n",
              "        google.colab.kernel.accessAllowed ? 'block' : 'none';\n",
              "\n",
              "      async function convertToInteractive(key) {\n",
              "        const element = document.querySelector('#df-b61c9df3-e3e8-4eea-9855-1d4e9f759a27');\n",
              "        const dataTable =\n",
              "          await google.colab.kernel.invokeFunction('convertToInteractive',\n",
              "                                                    [key], {});\n",
              "        if (!dataTable) return;\n",
              "\n",
              "        const docLinkHtml = 'Like what you see? Visit the ' +\n",
              "          '<a target=\"_blank\" href=https://colab.research.google.com/notebooks/data_table.ipynb>data table notebook</a>'\n",
              "          + ' to learn more about interactive tables.';\n",
              "        element.innerHTML = '';\n",
              "        dataTable['output_type'] = 'display_data';\n",
              "        await google.colab.output.renderOutput(dataTable, element);\n",
              "        const docLink = document.createElement('div');\n",
              "        docLink.innerHTML = docLinkHtml;\n",
              "        element.appendChild(docLink);\n",
              "      }\n",
              "    </script>\n",
              "  </div>\n",
              "\n",
              "\n",
              "    <div id=\"df-dffd4c87-3e98-4a82-a71c-8005046f3ceb\">\n",
              "      <button class=\"colab-df-quickchart\" onclick=\"quickchart('df-dffd4c87-3e98-4a82-a71c-8005046f3ceb')\"\n",
              "                title=\"Suggest charts\"\n",
              "                style=\"display:none;\">\n",
              "\n",
              "<svg xmlns=\"http://www.w3.org/2000/svg\" height=\"24px\"viewBox=\"0 0 24 24\"\n",
              "     width=\"24px\">\n",
              "    <g>\n",
              "        <path d=\"M19 3H5c-1.1 0-2 .9-2 2v14c0 1.1.9 2 2 2h14c1.1 0 2-.9 2-2V5c0-1.1-.9-2-2-2zM9 17H7v-7h2v7zm4 0h-2V7h2v10zm4 0h-2v-4h2v4z\"/>\n",
              "    </g>\n",
              "</svg>\n",
              "      </button>\n",
              "\n",
              "<style>\n",
              "  .colab-df-quickchart {\n",
              "      --bg-color: #E8F0FE;\n",
              "      --fill-color: #1967D2;\n",
              "      --hover-bg-color: #E2EBFA;\n",
              "      --hover-fill-color: #174EA6;\n",
              "      --disabled-fill-color: #AAA;\n",
              "      --disabled-bg-color: #DDD;\n",
              "  }\n",
              "\n",
              "  [theme=dark] .colab-df-quickchart {\n",
              "      --bg-color: #3B4455;\n",
              "      --fill-color: #D2E3FC;\n",
              "      --hover-bg-color: #434B5C;\n",
              "      --hover-fill-color: #FFFFFF;\n",
              "      --disabled-bg-color: #3B4455;\n",
              "      --disabled-fill-color: #666;\n",
              "  }\n",
              "\n",
              "  .colab-df-quickchart {\n",
              "    background-color: var(--bg-color);\n",
              "    border: none;\n",
              "    border-radius: 50%;\n",
              "    cursor: pointer;\n",
              "    display: none;\n",
              "    fill: var(--fill-color);\n",
              "    height: 32px;\n",
              "    padding: 0;\n",
              "    width: 32px;\n",
              "  }\n",
              "\n",
              "  .colab-df-quickchart:hover {\n",
              "    background-color: var(--hover-bg-color);\n",
              "    box-shadow: 0 1px 2px rgba(60, 64, 67, 0.3), 0 1px 3px 1px rgba(60, 64, 67, 0.15);\n",
              "    fill: var(--button-hover-fill-color);\n",
              "  }\n",
              "\n",
              "  .colab-df-quickchart-complete:disabled,\n",
              "  .colab-df-quickchart-complete:disabled:hover {\n",
              "    background-color: var(--disabled-bg-color);\n",
              "    fill: var(--disabled-fill-color);\n",
              "    box-shadow: none;\n",
              "  }\n",
              "\n",
              "  .colab-df-spinner {\n",
              "    border: 2px solid var(--fill-color);\n",
              "    border-color: transparent;\n",
              "    border-bottom-color: var(--fill-color);\n",
              "    animation:\n",
              "      spin 1s steps(1) infinite;\n",
              "  }\n",
              "\n",
              "  @keyframes spin {\n",
              "    0% {\n",
              "      border-color: transparent;\n",
              "      border-bottom-color: var(--fill-color);\n",
              "      border-left-color: var(--fill-color);\n",
              "    }\n",
              "    20% {\n",
              "      border-color: transparent;\n",
              "      border-left-color: var(--fill-color);\n",
              "      border-top-color: var(--fill-color);\n",
              "    }\n",
              "    30% {\n",
              "      border-color: transparent;\n",
              "      border-left-color: var(--fill-color);\n",
              "      border-top-color: var(--fill-color);\n",
              "      border-right-color: var(--fill-color);\n",
              "    }\n",
              "    40% {\n",
              "      border-color: transparent;\n",
              "      border-right-color: var(--fill-color);\n",
              "      border-top-color: var(--fill-color);\n",
              "    }\n",
              "    60% {\n",
              "      border-color: transparent;\n",
              "      border-right-color: var(--fill-color);\n",
              "    }\n",
              "    80% {\n",
              "      border-color: transparent;\n",
              "      border-right-color: var(--fill-color);\n",
              "      border-bottom-color: var(--fill-color);\n",
              "    }\n",
              "    90% {\n",
              "      border-color: transparent;\n",
              "      border-bottom-color: var(--fill-color);\n",
              "    }\n",
              "  }\n",
              "</style>\n",
              "\n",
              "      <script>\n",
              "        async function quickchart(key) {\n",
              "          const quickchartButtonEl =\n",
              "            document.querySelector('#' + key + ' button');\n",
              "          quickchartButtonEl.disabled = true;  // To prevent multiple clicks.\n",
              "          quickchartButtonEl.classList.add('colab-df-spinner');\n",
              "          try {\n",
              "            const charts = await google.colab.kernel.invokeFunction(\n",
              "                'suggestCharts', [key], {});\n",
              "          } catch (error) {\n",
              "            console.error('Error during call to suggestCharts:', error);\n",
              "          }\n",
              "          quickchartButtonEl.classList.remove('colab-df-spinner');\n",
              "          quickchartButtonEl.classList.add('colab-df-quickchart-complete');\n",
              "        }\n",
              "        (() => {\n",
              "          let quickchartButtonEl =\n",
              "            document.querySelector('#df-dffd4c87-3e98-4a82-a71c-8005046f3ceb button');\n",
              "          quickchartButtonEl.style.display =\n",
              "            google.colab.kernel.accessAllowed ? 'block' : 'none';\n",
              "        })();\n",
              "      </script>\n",
              "    </div>\n",
              "\n",
              "    </div>\n",
              "  </div>\n"
            ],
            "application/vnd.google.colaboratory.intrinsic+json": {
              "type": "dataframe",
              "variable_name": "df_ratings_clean"
            }
          },
          "metadata": {},
          "execution_count": 38
        }
      ]
    },
    {
      "cell_type": "markdown",
      "source": [
        "### Users.csv"
      ],
      "metadata": {
        "id": "RcM7n_F9vTN_"
      }
    },
    {
      "cell_type": "markdown",
      "source": [
        "#### Mengisi Missing Values Dataset Users.csv pada Kolom Age\n",
        "Pada tahap ini, kita mengisi missing values pada kolom **Age** dalam dataset `df_user`.  \n",
        "Metode yang digunakan adalah dengan mengganti nilai yang hilang pada kolom ini dengan **nilai median** dari kolom tersebut.  \n",
        "Menggunakan median adalah pilihan yang baik untuk kolom numerik seperti ini, karena median lebih tahan terhadap outlier dibandingkan dengan rata-rata (mean).\n",
        "\n",
        "\n",
        "---\n"
      ],
      "metadata": {
        "id": "atQulYzFqATe"
      }
    },
    {
      "cell_type": "code",
      "source": [
        "median_age = df_user['Age'].median()\n",
        "df_user['Age'].fillna(median_age, inplace=True)"
      ],
      "metadata": {
        "colab": {
          "base_uri": "https://localhost:8080/"
        },
        "id": "jKKGph9uqB-8",
        "outputId": "02e01e04-e188-465f-e24c-ca072255d4c3"
      },
      "execution_count": 39,
      "outputs": [
        {
          "output_type": "stream",
          "name": "stderr",
          "text": [
            "<ipython-input-39-331ec5b520ef>:2: FutureWarning: A value is trying to be set on a copy of a DataFrame or Series through chained assignment using an inplace method.\n",
            "The behavior will change in pandas 3.0. This inplace method will never work because the intermediate object on which we are setting values always behaves as a copy.\n",
            "\n",
            "For example, when doing 'df[col].method(value, inplace=True)', try using 'df.method({col: value}, inplace=True)' or df[col] = df[col].method(value) instead, to perform the operation inplace on the original object.\n",
            "\n",
            "\n",
            "  df_user['Age'].fillna(median_age, inplace=True)\n"
          ]
        }
      ]
    },
    {
      "cell_type": "markdown",
      "source": [
        "Selanjutnya:\n",
        "- **Filter Usia**: Hanya memilih pengguna yang berusia antara **10 hingga 99 tahun**. Pengguna di luar rentang ini dianggap tidak valid dan dihapus.\n",
        "- **Mengisi Missing Values pada Location**:  \n",
        "  Missing values pada kolom **Location** diisi dengan label **'Unknown'** untuk menjaga konsistensi data lokasi pengguna.\n",
        "\n",
        "---\n"
      ],
      "metadata": {
        "id": "q1xTS89buSge"
      }
    },
    {
      "cell_type": "code",
      "source": [
        "df_user_clean = df_user[(df_user['Age'] >= 10) & (df_user['Age'] < 100)]\n",
        "\n",
        "# Mengisi nilai yang hilang pada kolom 'Location' dengan 'Unknown'\n",
        "df_user_clean['Location'].fillna('Unknown', inplace=True)"
      ],
      "metadata": {
        "colab": {
          "base_uri": "https://localhost:8080/"
        },
        "id": "hc0DZU5It0W6",
        "outputId": "993cfc56-9386-4aa2-b9a4-8427fb580db6"
      },
      "execution_count": 40,
      "outputs": [
        {
          "output_type": "stream",
          "name": "stderr",
          "text": [
            "<ipython-input-40-6b990d55e091>:4: FutureWarning: A value is trying to be set on a copy of a DataFrame or Series through chained assignment using an inplace method.\n",
            "The behavior will change in pandas 3.0. This inplace method will never work because the intermediate object on which we are setting values always behaves as a copy.\n",
            "\n",
            "For example, when doing 'df[col].method(value, inplace=True)', try using 'df.method({col: value}, inplace=True)' or df[col] = df[col].method(value) instead, to perform the operation inplace on the original object.\n",
            "\n",
            "\n",
            "  df_user_clean['Location'].fillna('Unknown', inplace=True)\n",
            "<ipython-input-40-6b990d55e091>:4: SettingWithCopyWarning: \n",
            "A value is trying to be set on a copy of a slice from a DataFrame\n",
            "\n",
            "See the caveats in the documentation: https://pandas.pydata.org/pandas-docs/stable/user_guide/indexing.html#returning-a-view-versus-a-copy\n",
            "  df_user_clean['Location'].fillna('Unknown', inplace=True)\n"
          ]
        }
      ]
    },
    {
      "cell_type": "markdown",
      "source": [
        "### Cek kembali missing values semua data"
      ],
      "metadata": {
        "id": "-bNxKQF8qQsN"
      }
    },
    {
      "cell_type": "code",
      "source": [
        "check_missing_values(df_book, \"Books.csv\")\n",
        "check_missing_values(df_rating, \"Ratings.csv\")\n",
        "check_missing_values(df_user, \"Users.csv\")"
      ],
      "metadata": {
        "colab": {
          "base_uri": "https://localhost:8080/"
        },
        "id": "phl4G2xaqU_w",
        "outputId": "7c013703-bc34-4f59-fafa-783716920cbd"
      },
      "execution_count": 41,
      "outputs": [
        {
          "output_type": "stream",
          "name": "stdout",
          "text": [
            "Missing Values for Books.csv:\n",
            "                     Missing Values  Percentage (%)\n",
            "ISBN                              0             0.0\n",
            "Book-Title                        0             0.0\n",
            "Book-Author                       0             0.0\n",
            "Year-Of-Publication               0             0.0\n",
            "Publisher                         0             0.0\n",
            "Image-URL-S                       0             0.0\n",
            "Image-URL-M                       0             0.0\n",
            "Image-URL-L                       0             0.0\n",
            "\n",
            "\n",
            "Missing Values for Ratings.csv:\n",
            "             Missing Values  Percentage (%)\n",
            "User-ID                   0             0.0\n",
            "ISBN                      0             0.0\n",
            "Book-Rating               0             0.0\n",
            "\n",
            "\n",
            "Missing Values for Users.csv:\n",
            "          Missing Values  Percentage (%)\n",
            "User-ID                0             0.0\n",
            "Location               0             0.0\n",
            "Age                    0             0.0\n",
            "\n",
            "\n"
          ]
        }
      ]
    },
    {
      "cell_type": "markdown",
      "source": [
        "### Insight\n",
        "Semua data sudah bersih dan siap untuk digunakan untuk proses selanjutnya dalam data preparation"
      ],
      "metadata": {
        "id": "UqYj2dwHLxdA"
      }
    },
    {
      "cell_type": "markdown",
      "source": [
        "## Seleksi Data Buku Berdasarkan Data Rating"
      ],
      "metadata": {
        "id": "Mo5XuYg6c317"
      }
    },
    {
      "cell_type": "markdown",
      "source": [
        "### 📌 Menyeleksi ISBN Unik dari Dataset Rating yang Telah Dibersihkan\n",
        "\n",
        "Setelah data rating dibersihkan dari nilai yang tidak valid (rating = 0), langkah selanjutnya adalah mengidentifikasi semua buku unik yang telah diberi rating oleh pengguna.\n",
        "\n",
        "----"
      ],
      "metadata": {
        "id": "1rbFqn_MMX2b"
      }
    },
    {
      "cell_type": "code",
      "source": [
        "isbn_selected = df_ratings_clean['ISBN'].unique()"
      ],
      "metadata": {
        "id": "lPEcDKyrc4uZ"
      },
      "execution_count": 42,
      "outputs": []
    },
    {
      "cell_type": "markdown",
      "source": [
        "Menyaring Data Buku Berdasarkan ISBN yang Memiliki Rating Valid\n",
        "\n",
        "Setelah kita memperoleh daftar ISBN unik dari data rating yang telah dibersihkan, tahap selanjutnya adalah menyaring dataset buku agar hanya mencakup buku-buku yang memiliki rating valid."
      ],
      "metadata": {
        "id": "cfYZ33UDMhBB"
      }
    },
    {
      "cell_type": "code",
      "source": [
        "df_books_selected = df_book[df_book['ISBN'].isin(isbn_selected)]"
      ],
      "metadata": {
        "id": "9wPBWH6QdF26"
      },
      "execution_count": 43,
      "outputs": []
    },
    {
      "cell_type": "code",
      "source": [
        "df_books_selected.info()"
      ],
      "metadata": {
        "colab": {
          "base_uri": "https://localhost:8080/"
        },
        "id": "FTRIy9Q1dKze",
        "outputId": "e70204a6-dc9d-447a-ae03-bfb93182b6ed"
      },
      "execution_count": 44,
      "outputs": [
        {
          "output_type": "stream",
          "name": "stdout",
          "text": [
            "<class 'pandas.core.frame.DataFrame'>\n",
            "Index: 149836 entries, 1 to 271356\n",
            "Data columns (total 8 columns):\n",
            " #   Column               Non-Null Count   Dtype \n",
            "---  ------               --------------   ----- \n",
            " 0   ISBN                 149836 non-null  object\n",
            " 1   Book-Title           149836 non-null  object\n",
            " 2   Book-Author          149836 non-null  object\n",
            " 3   Year-Of-Publication  149836 non-null  object\n",
            " 4   Publisher            149836 non-null  object\n",
            " 5   Image-URL-S          149836 non-null  object\n",
            " 6   Image-URL-M          149836 non-null  object\n",
            " 7   Image-URL-L          149836 non-null  object\n",
            "dtypes: object(8)\n",
            "memory usage: 10.3+ MB\n"
          ]
        }
      ]
    },
    {
      "cell_type": "markdown",
      "source": [
        "### 📊 Insight dari Data Buku yang Telah Digabungkan\n",
        "\n",
        "Dataset `df_books_selected` berisi 149.836 entri buku yang telah memiliki rating valid dari pengguna. Mayoritas kolom memiliki data yang lengkap, namun terdapat satu nilai kosong pada kolom `Year-Of-Publication`, yang perlu ditangani pada tahap pembersihan selanjutnya. Informasi metadata seperti judul, penulis, dan penerbit sudah tersedia dan dapat dimanfaatkan untuk analisis konten buku atau sebagai fitur dalam sistem rekomendasi.\n"
      ],
      "metadata": {
        "id": "qtL9d4fzM0PZ"
      }
    },
    {
      "cell_type": "markdown",
      "source": [
        "## Penggabungan Data Pengguna dengan Rating"
      ],
      "metadata": {
        "id": "u6D6x6uDdX-_"
      }
    },
    {
      "cell_type": "markdown",
      "source": [
        "### 👥 Menggabungkan Data Rating dengan Informasi Pengguna\n",
        "\n",
        "Langkah ini bertujuan untuk memperkaya data rating dengan informasi demografis dari pengguna, seperti lokasi dan usia, agar analisis menjadi lebih kontekstual dan relevan."
      ],
      "metadata": {
        "id": "2F_XgGYUNUnd"
      }
    },
    {
      "cell_type": "code",
      "source": [
        "df_ratings_user = pd.merge(df_ratings_clean, df_user[['User-ID', 'Location', 'Age']], on='User-ID', how='left')"
      ],
      "metadata": {
        "id": "gm8nWkE-dYur"
      },
      "execution_count": 45,
      "outputs": []
    },
    {
      "cell_type": "code",
      "source": [
        "df_ratings_user.info()"
      ],
      "metadata": {
        "colab": {
          "base_uri": "https://localhost:8080/"
        },
        "id": "JJ5Jnyl6dePd",
        "outputId": "b38a282e-1b19-49d5-e787-7d01687691ff"
      },
      "execution_count": 46,
      "outputs": [
        {
          "output_type": "stream",
          "name": "stdout",
          "text": [
            "<class 'pandas.core.frame.DataFrame'>\n",
            "RangeIndex: 433671 entries, 0 to 433670\n",
            "Data columns (total 5 columns):\n",
            " #   Column       Non-Null Count   Dtype  \n",
            "---  ------       --------------   -----  \n",
            " 0   User-ID      433671 non-null  int64  \n",
            " 1   ISBN         433671 non-null  object \n",
            " 2   Book-Rating  433671 non-null  int64  \n",
            " 3   Location     433671 non-null  object \n",
            " 4   Age          433671 non-null  float64\n",
            "dtypes: float64(1), int64(2), object(2)\n",
            "memory usage: 16.5+ MB\n"
          ]
        }
      ]
    },
    {
      "cell_type": "code",
      "source": [
        "df_ratings_user.head()"
      ],
      "metadata": {
        "colab": {
          "base_uri": "https://localhost:8080/",
          "height": 0
        },
        "id": "5BfIVFSXdxqw",
        "outputId": "5d09cae5-65bf-4182-9c76-2cadba834609"
      },
      "execution_count": 47,
      "outputs": [
        {
          "output_type": "execute_result",
          "data": {
            "text/plain": [
              "   User-ID        ISBN  Book-Rating                            Location   Age\n",
              "0   276726  0155061224            5            seattle, washington, usa  32.0\n",
              "1   276729  052165615X            3                rijeka, n/a, croatia  16.0\n",
              "2   276729  0521795028            6                rijeka, n/a, croatia  16.0\n",
              "3   276736  3257224281            8         salzburg, salzburg, austria  32.0\n",
              "4   276737  0600570967            6  sydney, new south wales, australia  14.0"
            ],
            "text/html": [
              "\n",
              "  <div id=\"df-dfa37d3d-1009-41f0-96d4-2e732c650f32\" class=\"colab-df-container\">\n",
              "    <div>\n",
              "<style scoped>\n",
              "    .dataframe tbody tr th:only-of-type {\n",
              "        vertical-align: middle;\n",
              "    }\n",
              "\n",
              "    .dataframe tbody tr th {\n",
              "        vertical-align: top;\n",
              "    }\n",
              "\n",
              "    .dataframe thead th {\n",
              "        text-align: right;\n",
              "    }\n",
              "</style>\n",
              "<table border=\"1\" class=\"dataframe\">\n",
              "  <thead>\n",
              "    <tr style=\"text-align: right;\">\n",
              "      <th></th>\n",
              "      <th>User-ID</th>\n",
              "      <th>ISBN</th>\n",
              "      <th>Book-Rating</th>\n",
              "      <th>Location</th>\n",
              "      <th>Age</th>\n",
              "    </tr>\n",
              "  </thead>\n",
              "  <tbody>\n",
              "    <tr>\n",
              "      <th>0</th>\n",
              "      <td>276726</td>\n",
              "      <td>0155061224</td>\n",
              "      <td>5</td>\n",
              "      <td>seattle, washington, usa</td>\n",
              "      <td>32.0</td>\n",
              "    </tr>\n",
              "    <tr>\n",
              "      <th>1</th>\n",
              "      <td>276729</td>\n",
              "      <td>052165615X</td>\n",
              "      <td>3</td>\n",
              "      <td>rijeka, n/a, croatia</td>\n",
              "      <td>16.0</td>\n",
              "    </tr>\n",
              "    <tr>\n",
              "      <th>2</th>\n",
              "      <td>276729</td>\n",
              "      <td>0521795028</td>\n",
              "      <td>6</td>\n",
              "      <td>rijeka, n/a, croatia</td>\n",
              "      <td>16.0</td>\n",
              "    </tr>\n",
              "    <tr>\n",
              "      <th>3</th>\n",
              "      <td>276736</td>\n",
              "      <td>3257224281</td>\n",
              "      <td>8</td>\n",
              "      <td>salzburg, salzburg, austria</td>\n",
              "      <td>32.0</td>\n",
              "    </tr>\n",
              "    <tr>\n",
              "      <th>4</th>\n",
              "      <td>276737</td>\n",
              "      <td>0600570967</td>\n",
              "      <td>6</td>\n",
              "      <td>sydney, new south wales, australia</td>\n",
              "      <td>14.0</td>\n",
              "    </tr>\n",
              "  </tbody>\n",
              "</table>\n",
              "</div>\n",
              "    <div class=\"colab-df-buttons\">\n",
              "\n",
              "  <div class=\"colab-df-container\">\n",
              "    <button class=\"colab-df-convert\" onclick=\"convertToInteractive('df-dfa37d3d-1009-41f0-96d4-2e732c650f32')\"\n",
              "            title=\"Convert this dataframe to an interactive table.\"\n",
              "            style=\"display:none;\">\n",
              "\n",
              "  <svg xmlns=\"http://www.w3.org/2000/svg\" height=\"24px\" viewBox=\"0 -960 960 960\">\n",
              "    <path d=\"M120-120v-720h720v720H120Zm60-500h600v-160H180v160Zm220 220h160v-160H400v160Zm0 220h160v-160H400v160ZM180-400h160v-160H180v160Zm440 0h160v-160H620v160ZM180-180h160v-160H180v160Zm440 0h160v-160H620v160Z\"/>\n",
              "  </svg>\n",
              "    </button>\n",
              "\n",
              "  <style>\n",
              "    .colab-df-container {\n",
              "      display:flex;\n",
              "      gap: 12px;\n",
              "    }\n",
              "\n",
              "    .colab-df-convert {\n",
              "      background-color: #E8F0FE;\n",
              "      border: none;\n",
              "      border-radius: 50%;\n",
              "      cursor: pointer;\n",
              "      display: none;\n",
              "      fill: #1967D2;\n",
              "      height: 32px;\n",
              "      padding: 0 0 0 0;\n",
              "      width: 32px;\n",
              "    }\n",
              "\n",
              "    .colab-df-convert:hover {\n",
              "      background-color: #E2EBFA;\n",
              "      box-shadow: 0px 1px 2px rgba(60, 64, 67, 0.3), 0px 1px 3px 1px rgba(60, 64, 67, 0.15);\n",
              "      fill: #174EA6;\n",
              "    }\n",
              "\n",
              "    .colab-df-buttons div {\n",
              "      margin-bottom: 4px;\n",
              "    }\n",
              "\n",
              "    [theme=dark] .colab-df-convert {\n",
              "      background-color: #3B4455;\n",
              "      fill: #D2E3FC;\n",
              "    }\n",
              "\n",
              "    [theme=dark] .colab-df-convert:hover {\n",
              "      background-color: #434B5C;\n",
              "      box-shadow: 0px 1px 3px 1px rgba(0, 0, 0, 0.15);\n",
              "      filter: drop-shadow(0px 1px 2px rgba(0, 0, 0, 0.3));\n",
              "      fill: #FFFFFF;\n",
              "    }\n",
              "  </style>\n",
              "\n",
              "    <script>\n",
              "      const buttonEl =\n",
              "        document.querySelector('#df-dfa37d3d-1009-41f0-96d4-2e732c650f32 button.colab-df-convert');\n",
              "      buttonEl.style.display =\n",
              "        google.colab.kernel.accessAllowed ? 'block' : 'none';\n",
              "\n",
              "      async function convertToInteractive(key) {\n",
              "        const element = document.querySelector('#df-dfa37d3d-1009-41f0-96d4-2e732c650f32');\n",
              "        const dataTable =\n",
              "          await google.colab.kernel.invokeFunction('convertToInteractive',\n",
              "                                                    [key], {});\n",
              "        if (!dataTable) return;\n",
              "\n",
              "        const docLinkHtml = 'Like what you see? Visit the ' +\n",
              "          '<a target=\"_blank\" href=https://colab.research.google.com/notebooks/data_table.ipynb>data table notebook</a>'\n",
              "          + ' to learn more about interactive tables.';\n",
              "        element.innerHTML = '';\n",
              "        dataTable['output_type'] = 'display_data';\n",
              "        await google.colab.output.renderOutput(dataTable, element);\n",
              "        const docLink = document.createElement('div');\n",
              "        docLink.innerHTML = docLinkHtml;\n",
              "        element.appendChild(docLink);\n",
              "      }\n",
              "    </script>\n",
              "  </div>\n",
              "\n",
              "\n",
              "    <div id=\"df-82aee2cf-5a6b-4b8e-8f1f-07b98d827a5e\">\n",
              "      <button class=\"colab-df-quickchart\" onclick=\"quickchart('df-82aee2cf-5a6b-4b8e-8f1f-07b98d827a5e')\"\n",
              "                title=\"Suggest charts\"\n",
              "                style=\"display:none;\">\n",
              "\n",
              "<svg xmlns=\"http://www.w3.org/2000/svg\" height=\"24px\"viewBox=\"0 0 24 24\"\n",
              "     width=\"24px\">\n",
              "    <g>\n",
              "        <path d=\"M19 3H5c-1.1 0-2 .9-2 2v14c0 1.1.9 2 2 2h14c1.1 0 2-.9 2-2V5c0-1.1-.9-2-2-2zM9 17H7v-7h2v7zm4 0h-2V7h2v10zm4 0h-2v-4h2v4z\"/>\n",
              "    </g>\n",
              "</svg>\n",
              "      </button>\n",
              "\n",
              "<style>\n",
              "  .colab-df-quickchart {\n",
              "      --bg-color: #E8F0FE;\n",
              "      --fill-color: #1967D2;\n",
              "      --hover-bg-color: #E2EBFA;\n",
              "      --hover-fill-color: #174EA6;\n",
              "      --disabled-fill-color: #AAA;\n",
              "      --disabled-bg-color: #DDD;\n",
              "  }\n",
              "\n",
              "  [theme=dark] .colab-df-quickchart {\n",
              "      --bg-color: #3B4455;\n",
              "      --fill-color: #D2E3FC;\n",
              "      --hover-bg-color: #434B5C;\n",
              "      --hover-fill-color: #FFFFFF;\n",
              "      --disabled-bg-color: #3B4455;\n",
              "      --disabled-fill-color: #666;\n",
              "  }\n",
              "\n",
              "  .colab-df-quickchart {\n",
              "    background-color: var(--bg-color);\n",
              "    border: none;\n",
              "    border-radius: 50%;\n",
              "    cursor: pointer;\n",
              "    display: none;\n",
              "    fill: var(--fill-color);\n",
              "    height: 32px;\n",
              "    padding: 0;\n",
              "    width: 32px;\n",
              "  }\n",
              "\n",
              "  .colab-df-quickchart:hover {\n",
              "    background-color: var(--hover-bg-color);\n",
              "    box-shadow: 0 1px 2px rgba(60, 64, 67, 0.3), 0 1px 3px 1px rgba(60, 64, 67, 0.15);\n",
              "    fill: var(--button-hover-fill-color);\n",
              "  }\n",
              "\n",
              "  .colab-df-quickchart-complete:disabled,\n",
              "  .colab-df-quickchart-complete:disabled:hover {\n",
              "    background-color: var(--disabled-bg-color);\n",
              "    fill: var(--disabled-fill-color);\n",
              "    box-shadow: none;\n",
              "  }\n",
              "\n",
              "  .colab-df-spinner {\n",
              "    border: 2px solid var(--fill-color);\n",
              "    border-color: transparent;\n",
              "    border-bottom-color: var(--fill-color);\n",
              "    animation:\n",
              "      spin 1s steps(1) infinite;\n",
              "  }\n",
              "\n",
              "  @keyframes spin {\n",
              "    0% {\n",
              "      border-color: transparent;\n",
              "      border-bottom-color: var(--fill-color);\n",
              "      border-left-color: var(--fill-color);\n",
              "    }\n",
              "    20% {\n",
              "      border-color: transparent;\n",
              "      border-left-color: var(--fill-color);\n",
              "      border-top-color: var(--fill-color);\n",
              "    }\n",
              "    30% {\n",
              "      border-color: transparent;\n",
              "      border-left-color: var(--fill-color);\n",
              "      border-top-color: var(--fill-color);\n",
              "      border-right-color: var(--fill-color);\n",
              "    }\n",
              "    40% {\n",
              "      border-color: transparent;\n",
              "      border-right-color: var(--fill-color);\n",
              "      border-top-color: var(--fill-color);\n",
              "    }\n",
              "    60% {\n",
              "      border-color: transparent;\n",
              "      border-right-color: var(--fill-color);\n",
              "    }\n",
              "    80% {\n",
              "      border-color: transparent;\n",
              "      border-right-color: var(--fill-color);\n",
              "      border-bottom-color: var(--fill-color);\n",
              "    }\n",
              "    90% {\n",
              "      border-color: transparent;\n",
              "      border-bottom-color: var(--fill-color);\n",
              "    }\n",
              "  }\n",
              "</style>\n",
              "\n",
              "      <script>\n",
              "        async function quickchart(key) {\n",
              "          const quickchartButtonEl =\n",
              "            document.querySelector('#' + key + ' button');\n",
              "          quickchartButtonEl.disabled = true;  // To prevent multiple clicks.\n",
              "          quickchartButtonEl.classList.add('colab-df-spinner');\n",
              "          try {\n",
              "            const charts = await google.colab.kernel.invokeFunction(\n",
              "                'suggestCharts', [key], {});\n",
              "          } catch (error) {\n",
              "            console.error('Error during call to suggestCharts:', error);\n",
              "          }\n",
              "          quickchartButtonEl.classList.remove('colab-df-spinner');\n",
              "          quickchartButtonEl.classList.add('colab-df-quickchart-complete');\n",
              "        }\n",
              "        (() => {\n",
              "          let quickchartButtonEl =\n",
              "            document.querySelector('#df-82aee2cf-5a6b-4b8e-8f1f-07b98d827a5e button');\n",
              "          quickchartButtonEl.style.display =\n",
              "            google.colab.kernel.accessAllowed ? 'block' : 'none';\n",
              "        })();\n",
              "      </script>\n",
              "    </div>\n",
              "\n",
              "    </div>\n",
              "  </div>\n"
            ],
            "application/vnd.google.colaboratory.intrinsic+json": {
              "type": "dataframe",
              "variable_name": "df_ratings_user"
            }
          },
          "metadata": {},
          "execution_count": 47
        }
      ]
    },
    {
      "cell_type": "markdown",
      "source": [
        "### 📊 Insight dari Data Rating yang Telah Digabungkan dengan Informasi Pengguna\n",
        "\n",
        "Dataset `df_ratings_user` berisi 433.671 entri rating yang kini telah dilengkapi dengan informasi demografis pengguna. Seluruh entri memiliki data lokasi yang lengkap, namun terdapat nilai kosong atau tidak valid pada kolom usia (`Age`) yang akan perlu diproses lebih lanjut. Dengan tambahan data lokasi dan usia, analisis preferensi pengguna berdasarkan wilayah geografis atau kelompok umur dapat dilakukan untuk menghasilkan insight yang lebih mendalam.\n"
      ],
      "metadata": {
        "id": "08NJyzivOFZp"
      }
    },
    {
      "cell_type": "markdown",
      "source": [
        "## Penggabungan Ketiga Dataset untuk Persiapan Final"
      ],
      "metadata": {
        "id": "a1lVesMRSXyY"
      }
    },
    {
      "cell_type": "markdown",
      "source": [
        "### 📚 Menggabungkan Data Rating dengan Metadata Buku\n",
        "\n",
        "Langkah ini bertujuan untuk memperkaya data rating yang sudah mencakup informasi pengguna dengan metadata buku, seperti judul, penulis, dan penerbit, agar analisis menjadi lebih lengkap dan berguna."
      ],
      "metadata": {
        "id": "Ac8j7UsBOepg"
      }
    },
    {
      "cell_type": "code",
      "source": [
        "df_final = df_ratings_user.merge(df_books_relevant, on='ISBN', how='left')"
      ],
      "metadata": {
        "id": "SpFNfU13HMCx"
      },
      "execution_count": 48,
      "outputs": []
    },
    {
      "cell_type": "code",
      "source": [
        "df_final.info()"
      ],
      "metadata": {
        "colab": {
          "base_uri": "https://localhost:8080/"
        },
        "id": "la18FrXEoD80",
        "outputId": "9ceed193-dc6d-4115-bdfd-142241c93901"
      },
      "execution_count": 49,
      "outputs": [
        {
          "output_type": "stream",
          "name": "stdout",
          "text": [
            "<class 'pandas.core.frame.DataFrame'>\n",
            "RangeIndex: 433671 entries, 0 to 433670\n",
            "Data columns (total 8 columns):\n",
            " #   Column       Non-Null Count   Dtype  \n",
            "---  ------       --------------   -----  \n",
            " 0   User-ID      433671 non-null  int64  \n",
            " 1   ISBN         433671 non-null  object \n",
            " 2   Book-Rating  433671 non-null  int64  \n",
            " 3   Location     433671 non-null  object \n",
            " 4   Age          433671 non-null  float64\n",
            " 5   Book-Title   383842 non-null  object \n",
            " 6   Book-Author  383842 non-null  object \n",
            " 7   Publisher    383842 non-null  object \n",
            "dtypes: float64(1), int64(2), object(5)\n",
            "memory usage: 26.5+ MB\n"
          ]
        }
      ]
    },
    {
      "cell_type": "markdown",
      "source": [
        "⚠️ Memeriksa Baris dengan Nilai Kosong pada Dataset Gabungan\n",
        "\n",
        "Pada tahap ini, kita memeriksa apakah ada baris dalam dataset `df_final` yang memiliki nilai kosong (missing values) di salah satu kolom.\n"
      ],
      "metadata": {
        "id": "jnSXDIjUOoQo"
      }
    },
    {
      "cell_type": "code",
      "source": [
        "df_final[df_final.isnull().any(axis=1)]"
      ],
      "metadata": {
        "colab": {
          "base_uri": "https://localhost:8080/",
          "height": 0
        },
        "id": "fjLlm4TcqD3e",
        "outputId": "cfda61c3-1678-4f83-ee2f-e42649b4fcb9"
      },
      "execution_count": 50,
      "outputs": [
        {
          "output_type": "execute_result",
          "data": {
            "text/plain": [
              "        User-ID         ISBN  Book-Rating  \\\n",
              "3        276736   3257224281            8   \n",
              "4        276737   0600570967            6   \n",
              "6        276745    342310538           10   \n",
              "16       276760   8440682697           10   \n",
              "19       276762   3453213025            3   \n",
              "...         ...          ...          ...   \n",
              "433518   276670  15655122046            6   \n",
              "433522   276670     55305663            6   \n",
              "433527   276679   8804413530            8   \n",
              "433597   276680   0679781587            9   \n",
              "433670   276723  05162443314            8   \n",
              "\n",
              "                                       Location   Age Book-Title Book-Author  \\\n",
              "3                   salzburg, salzburg, austria  32.0        NaN         NaN   \n",
              "4            sydney, new south wales, australia  14.0        NaN         NaN   \n",
              "6                       berlin, berlin, germany  27.0        NaN         NaN   \n",
              "16                        santander, n/a, spain  25.0        NaN         NaN   \n",
              "19       duisburg, nordrhein-westfalen, germany  25.0        NaN         NaN   \n",
              "...                                         ...   ...        ...         ...   \n",
              "433518                 toronto, ontario, canada  30.0        NaN         NaN   \n",
              "433522                 toronto, ontario, canada  30.0        NaN         NaN   \n",
              "433527  beverly hills, yukon territory, vietnam  32.0        NaN         NaN   \n",
              "433597         hopewell junction, new york, usa  55.0        NaN         NaN   \n",
              "433670                  san antonio, texas, usa  12.0        NaN         NaN   \n",
              "\n",
              "       Publisher  \n",
              "3            NaN  \n",
              "4            NaN  \n",
              "6            NaN  \n",
              "16           NaN  \n",
              "19           NaN  \n",
              "...          ...  \n",
              "433518       NaN  \n",
              "433522       NaN  \n",
              "433527       NaN  \n",
              "433597       NaN  \n",
              "433670       NaN  \n",
              "\n",
              "[49829 rows x 8 columns]"
            ],
            "text/html": [
              "\n",
              "  <div id=\"df-8556e2a8-ebf3-4117-a45e-9ca6c327aedd\" class=\"colab-df-container\">\n",
              "    <div>\n",
              "<style scoped>\n",
              "    .dataframe tbody tr th:only-of-type {\n",
              "        vertical-align: middle;\n",
              "    }\n",
              "\n",
              "    .dataframe tbody tr th {\n",
              "        vertical-align: top;\n",
              "    }\n",
              "\n",
              "    .dataframe thead th {\n",
              "        text-align: right;\n",
              "    }\n",
              "</style>\n",
              "<table border=\"1\" class=\"dataframe\">\n",
              "  <thead>\n",
              "    <tr style=\"text-align: right;\">\n",
              "      <th></th>\n",
              "      <th>User-ID</th>\n",
              "      <th>ISBN</th>\n",
              "      <th>Book-Rating</th>\n",
              "      <th>Location</th>\n",
              "      <th>Age</th>\n",
              "      <th>Book-Title</th>\n",
              "      <th>Book-Author</th>\n",
              "      <th>Publisher</th>\n",
              "    </tr>\n",
              "  </thead>\n",
              "  <tbody>\n",
              "    <tr>\n",
              "      <th>3</th>\n",
              "      <td>276736</td>\n",
              "      <td>3257224281</td>\n",
              "      <td>8</td>\n",
              "      <td>salzburg, salzburg, austria</td>\n",
              "      <td>32.0</td>\n",
              "      <td>NaN</td>\n",
              "      <td>NaN</td>\n",
              "      <td>NaN</td>\n",
              "    </tr>\n",
              "    <tr>\n",
              "      <th>4</th>\n",
              "      <td>276737</td>\n",
              "      <td>0600570967</td>\n",
              "      <td>6</td>\n",
              "      <td>sydney, new south wales, australia</td>\n",
              "      <td>14.0</td>\n",
              "      <td>NaN</td>\n",
              "      <td>NaN</td>\n",
              "      <td>NaN</td>\n",
              "    </tr>\n",
              "    <tr>\n",
              "      <th>6</th>\n",
              "      <td>276745</td>\n",
              "      <td>342310538</td>\n",
              "      <td>10</td>\n",
              "      <td>berlin, berlin, germany</td>\n",
              "      <td>27.0</td>\n",
              "      <td>NaN</td>\n",
              "      <td>NaN</td>\n",
              "      <td>NaN</td>\n",
              "    </tr>\n",
              "    <tr>\n",
              "      <th>16</th>\n",
              "      <td>276760</td>\n",
              "      <td>8440682697</td>\n",
              "      <td>10</td>\n",
              "      <td>santander, n/a, spain</td>\n",
              "      <td>25.0</td>\n",
              "      <td>NaN</td>\n",
              "      <td>NaN</td>\n",
              "      <td>NaN</td>\n",
              "    </tr>\n",
              "    <tr>\n",
              "      <th>19</th>\n",
              "      <td>276762</td>\n",
              "      <td>3453213025</td>\n",
              "      <td>3</td>\n",
              "      <td>duisburg, nordrhein-westfalen, germany</td>\n",
              "      <td>25.0</td>\n",
              "      <td>NaN</td>\n",
              "      <td>NaN</td>\n",
              "      <td>NaN</td>\n",
              "    </tr>\n",
              "    <tr>\n",
              "      <th>...</th>\n",
              "      <td>...</td>\n",
              "      <td>...</td>\n",
              "      <td>...</td>\n",
              "      <td>...</td>\n",
              "      <td>...</td>\n",
              "      <td>...</td>\n",
              "      <td>...</td>\n",
              "      <td>...</td>\n",
              "    </tr>\n",
              "    <tr>\n",
              "      <th>433518</th>\n",
              "      <td>276670</td>\n",
              "      <td>15655122046</td>\n",
              "      <td>6</td>\n",
              "      <td>toronto, ontario, canada</td>\n",
              "      <td>30.0</td>\n",
              "      <td>NaN</td>\n",
              "      <td>NaN</td>\n",
              "      <td>NaN</td>\n",
              "    </tr>\n",
              "    <tr>\n",
              "      <th>433522</th>\n",
              "      <td>276670</td>\n",
              "      <td>55305663</td>\n",
              "      <td>6</td>\n",
              "      <td>toronto, ontario, canada</td>\n",
              "      <td>30.0</td>\n",
              "      <td>NaN</td>\n",
              "      <td>NaN</td>\n",
              "      <td>NaN</td>\n",
              "    </tr>\n",
              "    <tr>\n",
              "      <th>433527</th>\n",
              "      <td>276679</td>\n",
              "      <td>8804413530</td>\n",
              "      <td>8</td>\n",
              "      <td>beverly hills, yukon territory, vietnam</td>\n",
              "      <td>32.0</td>\n",
              "      <td>NaN</td>\n",
              "      <td>NaN</td>\n",
              "      <td>NaN</td>\n",
              "    </tr>\n",
              "    <tr>\n",
              "      <th>433597</th>\n",
              "      <td>276680</td>\n",
              "      <td>0679781587</td>\n",
              "      <td>9</td>\n",
              "      <td>hopewell junction, new york, usa</td>\n",
              "      <td>55.0</td>\n",
              "      <td>NaN</td>\n",
              "      <td>NaN</td>\n",
              "      <td>NaN</td>\n",
              "    </tr>\n",
              "    <tr>\n",
              "      <th>433670</th>\n",
              "      <td>276723</td>\n",
              "      <td>05162443314</td>\n",
              "      <td>8</td>\n",
              "      <td>san antonio, texas, usa</td>\n",
              "      <td>12.0</td>\n",
              "      <td>NaN</td>\n",
              "      <td>NaN</td>\n",
              "      <td>NaN</td>\n",
              "    </tr>\n",
              "  </tbody>\n",
              "</table>\n",
              "<p>49829 rows × 8 columns</p>\n",
              "</div>\n",
              "    <div class=\"colab-df-buttons\">\n",
              "\n",
              "  <div class=\"colab-df-container\">\n",
              "    <button class=\"colab-df-convert\" onclick=\"convertToInteractive('df-8556e2a8-ebf3-4117-a45e-9ca6c327aedd')\"\n",
              "            title=\"Convert this dataframe to an interactive table.\"\n",
              "            style=\"display:none;\">\n",
              "\n",
              "  <svg xmlns=\"http://www.w3.org/2000/svg\" height=\"24px\" viewBox=\"0 -960 960 960\">\n",
              "    <path d=\"M120-120v-720h720v720H120Zm60-500h600v-160H180v160Zm220 220h160v-160H400v160Zm0 220h160v-160H400v160ZM180-400h160v-160H180v160Zm440 0h160v-160H620v160ZM180-180h160v-160H180v160Zm440 0h160v-160H620v160Z\"/>\n",
              "  </svg>\n",
              "    </button>\n",
              "\n",
              "  <style>\n",
              "    .colab-df-container {\n",
              "      display:flex;\n",
              "      gap: 12px;\n",
              "    }\n",
              "\n",
              "    .colab-df-convert {\n",
              "      background-color: #E8F0FE;\n",
              "      border: none;\n",
              "      border-radius: 50%;\n",
              "      cursor: pointer;\n",
              "      display: none;\n",
              "      fill: #1967D2;\n",
              "      height: 32px;\n",
              "      padding: 0 0 0 0;\n",
              "      width: 32px;\n",
              "    }\n",
              "\n",
              "    .colab-df-convert:hover {\n",
              "      background-color: #E2EBFA;\n",
              "      box-shadow: 0px 1px 2px rgba(60, 64, 67, 0.3), 0px 1px 3px 1px rgba(60, 64, 67, 0.15);\n",
              "      fill: #174EA6;\n",
              "    }\n",
              "\n",
              "    .colab-df-buttons div {\n",
              "      margin-bottom: 4px;\n",
              "    }\n",
              "\n",
              "    [theme=dark] .colab-df-convert {\n",
              "      background-color: #3B4455;\n",
              "      fill: #D2E3FC;\n",
              "    }\n",
              "\n",
              "    [theme=dark] .colab-df-convert:hover {\n",
              "      background-color: #434B5C;\n",
              "      box-shadow: 0px 1px 3px 1px rgba(0, 0, 0, 0.15);\n",
              "      filter: drop-shadow(0px 1px 2px rgba(0, 0, 0, 0.3));\n",
              "      fill: #FFFFFF;\n",
              "    }\n",
              "  </style>\n",
              "\n",
              "    <script>\n",
              "      const buttonEl =\n",
              "        document.querySelector('#df-8556e2a8-ebf3-4117-a45e-9ca6c327aedd button.colab-df-convert');\n",
              "      buttonEl.style.display =\n",
              "        google.colab.kernel.accessAllowed ? 'block' : 'none';\n",
              "\n",
              "      async function convertToInteractive(key) {\n",
              "        const element = document.querySelector('#df-8556e2a8-ebf3-4117-a45e-9ca6c327aedd');\n",
              "        const dataTable =\n",
              "          await google.colab.kernel.invokeFunction('convertToInteractive',\n",
              "                                                    [key], {});\n",
              "        if (!dataTable) return;\n",
              "\n",
              "        const docLinkHtml = 'Like what you see? Visit the ' +\n",
              "          '<a target=\"_blank\" href=https://colab.research.google.com/notebooks/data_table.ipynb>data table notebook</a>'\n",
              "          + ' to learn more about interactive tables.';\n",
              "        element.innerHTML = '';\n",
              "        dataTable['output_type'] = 'display_data';\n",
              "        await google.colab.output.renderOutput(dataTable, element);\n",
              "        const docLink = document.createElement('div');\n",
              "        docLink.innerHTML = docLinkHtml;\n",
              "        element.appendChild(docLink);\n",
              "      }\n",
              "    </script>\n",
              "  </div>\n",
              "\n",
              "\n",
              "    <div id=\"df-148f12e8-406b-4d7b-83aa-2b293f14323e\">\n",
              "      <button class=\"colab-df-quickchart\" onclick=\"quickchart('df-148f12e8-406b-4d7b-83aa-2b293f14323e')\"\n",
              "                title=\"Suggest charts\"\n",
              "                style=\"display:none;\">\n",
              "\n",
              "<svg xmlns=\"http://www.w3.org/2000/svg\" height=\"24px\"viewBox=\"0 0 24 24\"\n",
              "     width=\"24px\">\n",
              "    <g>\n",
              "        <path d=\"M19 3H5c-1.1 0-2 .9-2 2v14c0 1.1.9 2 2 2h14c1.1 0 2-.9 2-2V5c0-1.1-.9-2-2-2zM9 17H7v-7h2v7zm4 0h-2V7h2v10zm4 0h-2v-4h2v4z\"/>\n",
              "    </g>\n",
              "</svg>\n",
              "      </button>\n",
              "\n",
              "<style>\n",
              "  .colab-df-quickchart {\n",
              "      --bg-color: #E8F0FE;\n",
              "      --fill-color: #1967D2;\n",
              "      --hover-bg-color: #E2EBFA;\n",
              "      --hover-fill-color: #174EA6;\n",
              "      --disabled-fill-color: #AAA;\n",
              "      --disabled-bg-color: #DDD;\n",
              "  }\n",
              "\n",
              "  [theme=dark] .colab-df-quickchart {\n",
              "      --bg-color: #3B4455;\n",
              "      --fill-color: #D2E3FC;\n",
              "      --hover-bg-color: #434B5C;\n",
              "      --hover-fill-color: #FFFFFF;\n",
              "      --disabled-bg-color: #3B4455;\n",
              "      --disabled-fill-color: #666;\n",
              "  }\n",
              "\n",
              "  .colab-df-quickchart {\n",
              "    background-color: var(--bg-color);\n",
              "    border: none;\n",
              "    border-radius: 50%;\n",
              "    cursor: pointer;\n",
              "    display: none;\n",
              "    fill: var(--fill-color);\n",
              "    height: 32px;\n",
              "    padding: 0;\n",
              "    width: 32px;\n",
              "  }\n",
              "\n",
              "  .colab-df-quickchart:hover {\n",
              "    background-color: var(--hover-bg-color);\n",
              "    box-shadow: 0 1px 2px rgba(60, 64, 67, 0.3), 0 1px 3px 1px rgba(60, 64, 67, 0.15);\n",
              "    fill: var(--button-hover-fill-color);\n",
              "  }\n",
              "\n",
              "  .colab-df-quickchart-complete:disabled,\n",
              "  .colab-df-quickchart-complete:disabled:hover {\n",
              "    background-color: var(--disabled-bg-color);\n",
              "    fill: var(--disabled-fill-color);\n",
              "    box-shadow: none;\n",
              "  }\n",
              "\n",
              "  .colab-df-spinner {\n",
              "    border: 2px solid var(--fill-color);\n",
              "    border-color: transparent;\n",
              "    border-bottom-color: var(--fill-color);\n",
              "    animation:\n",
              "      spin 1s steps(1) infinite;\n",
              "  }\n",
              "\n",
              "  @keyframes spin {\n",
              "    0% {\n",
              "      border-color: transparent;\n",
              "      border-bottom-color: var(--fill-color);\n",
              "      border-left-color: var(--fill-color);\n",
              "    }\n",
              "    20% {\n",
              "      border-color: transparent;\n",
              "      border-left-color: var(--fill-color);\n",
              "      border-top-color: var(--fill-color);\n",
              "    }\n",
              "    30% {\n",
              "      border-color: transparent;\n",
              "      border-left-color: var(--fill-color);\n",
              "      border-top-color: var(--fill-color);\n",
              "      border-right-color: var(--fill-color);\n",
              "    }\n",
              "    40% {\n",
              "      border-color: transparent;\n",
              "      border-right-color: var(--fill-color);\n",
              "      border-top-color: var(--fill-color);\n",
              "    }\n",
              "    60% {\n",
              "      border-color: transparent;\n",
              "      border-right-color: var(--fill-color);\n",
              "    }\n",
              "    80% {\n",
              "      border-color: transparent;\n",
              "      border-right-color: var(--fill-color);\n",
              "      border-bottom-color: var(--fill-color);\n",
              "    }\n",
              "    90% {\n",
              "      border-color: transparent;\n",
              "      border-bottom-color: var(--fill-color);\n",
              "    }\n",
              "  }\n",
              "</style>\n",
              "\n",
              "      <script>\n",
              "        async function quickchart(key) {\n",
              "          const quickchartButtonEl =\n",
              "            document.querySelector('#' + key + ' button');\n",
              "          quickchartButtonEl.disabled = true;  // To prevent multiple clicks.\n",
              "          quickchartButtonEl.classList.add('colab-df-spinner');\n",
              "          try {\n",
              "            const charts = await google.colab.kernel.invokeFunction(\n",
              "                'suggestCharts', [key], {});\n",
              "          } catch (error) {\n",
              "            console.error('Error during call to suggestCharts:', error);\n",
              "          }\n",
              "          quickchartButtonEl.classList.remove('colab-df-spinner');\n",
              "          quickchartButtonEl.classList.add('colab-df-quickchart-complete');\n",
              "        }\n",
              "        (() => {\n",
              "          let quickchartButtonEl =\n",
              "            document.querySelector('#df-148f12e8-406b-4d7b-83aa-2b293f14323e button');\n",
              "          quickchartButtonEl.style.display =\n",
              "            google.colab.kernel.accessAllowed ? 'block' : 'none';\n",
              "        })();\n",
              "      </script>\n",
              "    </div>\n",
              "\n",
              "    </div>\n",
              "  </div>\n"
            ],
            "application/vnd.google.colaboratory.intrinsic+json": {
              "type": "dataframe",
              "repr_error": "0"
            }
          },
          "metadata": {},
          "execution_count": 50
        }
      ]
    },
    {
      "cell_type": "markdown",
      "source": [
        "🧹 Menangani Nilai Kosong pada Kolom Metadata Buku\n",
        "\n",
        "Pada tahap ini, kita menghapus baris yang memiliki nilai kosong pada kolom metadata buku yang sangat penting, yaitu `Book-Title`, `Book-Author`, dan `Publisher`. Penghapusan ini dilakukan untuk memastikan data yang digunakan dalam analisis memiliki informasi yang lengkap."
      ],
      "metadata": {
        "id": "XRkCmlT1Ox2e"
      }
    },
    {
      "cell_type": "code",
      "source": [
        "df_final = df_final.dropna(subset=['Book-Title', 'Book-Author', 'Publisher'])"
      ],
      "metadata": {
        "id": "xYcwY5H0ULzy"
      },
      "execution_count": 51,
      "outputs": []
    },
    {
      "cell_type": "code",
      "source": [
        "df_final[df_final.isnull().any(axis=1)]"
      ],
      "metadata": {
        "colab": {
          "base_uri": "https://localhost:8080/",
          "height": 0
        },
        "id": "I8ETm_iAoUSa",
        "outputId": "77f87eda-f600-4b5f-8485-8d06e06159d3"
      },
      "execution_count": 52,
      "outputs": [
        {
          "output_type": "execute_result",
          "data": {
            "text/plain": [
              "Empty DataFrame\n",
              "Columns: [User-ID, ISBN, Book-Rating, Location, Age, Book-Title, Book-Author, Publisher]\n",
              "Index: []"
            ],
            "text/html": [
              "\n",
              "  <div id=\"df-bb12d9b6-6e85-48b1-9a4e-febe99da3ba9\" class=\"colab-df-container\">\n",
              "    <div>\n",
              "<style scoped>\n",
              "    .dataframe tbody tr th:only-of-type {\n",
              "        vertical-align: middle;\n",
              "    }\n",
              "\n",
              "    .dataframe tbody tr th {\n",
              "        vertical-align: top;\n",
              "    }\n",
              "\n",
              "    .dataframe thead th {\n",
              "        text-align: right;\n",
              "    }\n",
              "</style>\n",
              "<table border=\"1\" class=\"dataframe\">\n",
              "  <thead>\n",
              "    <tr style=\"text-align: right;\">\n",
              "      <th></th>\n",
              "      <th>User-ID</th>\n",
              "      <th>ISBN</th>\n",
              "      <th>Book-Rating</th>\n",
              "      <th>Location</th>\n",
              "      <th>Age</th>\n",
              "      <th>Book-Title</th>\n",
              "      <th>Book-Author</th>\n",
              "      <th>Publisher</th>\n",
              "    </tr>\n",
              "  </thead>\n",
              "  <tbody>\n",
              "  </tbody>\n",
              "</table>\n",
              "</div>\n",
              "    <div class=\"colab-df-buttons\">\n",
              "\n",
              "  <div class=\"colab-df-container\">\n",
              "    <button class=\"colab-df-convert\" onclick=\"convertToInteractive('df-bb12d9b6-6e85-48b1-9a4e-febe99da3ba9')\"\n",
              "            title=\"Convert this dataframe to an interactive table.\"\n",
              "            style=\"display:none;\">\n",
              "\n",
              "  <svg xmlns=\"http://www.w3.org/2000/svg\" height=\"24px\" viewBox=\"0 -960 960 960\">\n",
              "    <path d=\"M120-120v-720h720v720H120Zm60-500h600v-160H180v160Zm220 220h160v-160H400v160Zm0 220h160v-160H400v160ZM180-400h160v-160H180v160Zm440 0h160v-160H620v160ZM180-180h160v-160H180v160Zm440 0h160v-160H620v160Z\"/>\n",
              "  </svg>\n",
              "    </button>\n",
              "\n",
              "  <style>\n",
              "    .colab-df-container {\n",
              "      display:flex;\n",
              "      gap: 12px;\n",
              "    }\n",
              "\n",
              "    .colab-df-convert {\n",
              "      background-color: #E8F0FE;\n",
              "      border: none;\n",
              "      border-radius: 50%;\n",
              "      cursor: pointer;\n",
              "      display: none;\n",
              "      fill: #1967D2;\n",
              "      height: 32px;\n",
              "      padding: 0 0 0 0;\n",
              "      width: 32px;\n",
              "    }\n",
              "\n",
              "    .colab-df-convert:hover {\n",
              "      background-color: #E2EBFA;\n",
              "      box-shadow: 0px 1px 2px rgba(60, 64, 67, 0.3), 0px 1px 3px 1px rgba(60, 64, 67, 0.15);\n",
              "      fill: #174EA6;\n",
              "    }\n",
              "\n",
              "    .colab-df-buttons div {\n",
              "      margin-bottom: 4px;\n",
              "    }\n",
              "\n",
              "    [theme=dark] .colab-df-convert {\n",
              "      background-color: #3B4455;\n",
              "      fill: #D2E3FC;\n",
              "    }\n",
              "\n",
              "    [theme=dark] .colab-df-convert:hover {\n",
              "      background-color: #434B5C;\n",
              "      box-shadow: 0px 1px 3px 1px rgba(0, 0, 0, 0.15);\n",
              "      filter: drop-shadow(0px 1px 2px rgba(0, 0, 0, 0.3));\n",
              "      fill: #FFFFFF;\n",
              "    }\n",
              "  </style>\n",
              "\n",
              "    <script>\n",
              "      const buttonEl =\n",
              "        document.querySelector('#df-bb12d9b6-6e85-48b1-9a4e-febe99da3ba9 button.colab-df-convert');\n",
              "      buttonEl.style.display =\n",
              "        google.colab.kernel.accessAllowed ? 'block' : 'none';\n",
              "\n",
              "      async function convertToInteractive(key) {\n",
              "        const element = document.querySelector('#df-bb12d9b6-6e85-48b1-9a4e-febe99da3ba9');\n",
              "        const dataTable =\n",
              "          await google.colab.kernel.invokeFunction('convertToInteractive',\n",
              "                                                    [key], {});\n",
              "        if (!dataTable) return;\n",
              "\n",
              "        const docLinkHtml = 'Like what you see? Visit the ' +\n",
              "          '<a target=\"_blank\" href=https://colab.research.google.com/notebooks/data_table.ipynb>data table notebook</a>'\n",
              "          + ' to learn more about interactive tables.';\n",
              "        element.innerHTML = '';\n",
              "        dataTable['output_type'] = 'display_data';\n",
              "        await google.colab.output.renderOutput(dataTable, element);\n",
              "        const docLink = document.createElement('div');\n",
              "        docLink.innerHTML = docLinkHtml;\n",
              "        element.appendChild(docLink);\n",
              "      }\n",
              "    </script>\n",
              "  </div>\n",
              "\n",
              "\n",
              "    </div>\n",
              "  </div>\n"
            ],
            "application/vnd.google.colaboratory.intrinsic+json": {
              "type": "dataframe",
              "repr_error": "Out of range float values are not JSON compliant: nan"
            }
          },
          "metadata": {},
          "execution_count": 52
        }
      ]
    },
    {
      "cell_type": "markdown",
      "source": [
        "Memeriksa duplikasi data"
      ],
      "metadata": {
        "id": "F9JXHdt_7mL5"
      }
    },
    {
      "cell_type": "code",
      "source": [
        "df_final.duplicated().sum()"
      ],
      "metadata": {
        "colab": {
          "base_uri": "https://localhost:8080/"
        },
        "id": "mboUK519GiAy",
        "outputId": "60b63195-4a62-4848-9d46-a10b2631b8f5"
      },
      "execution_count": 53,
      "outputs": [
        {
          "output_type": "execute_result",
          "data": {
            "text/plain": [
              "np.int64(0)"
            ]
          },
          "metadata": {},
          "execution_count": 53
        }
      ]
    },
    {
      "cell_type": "code",
      "source": [
        "df_final.info()"
      ],
      "metadata": {
        "colab": {
          "base_uri": "https://localhost:8080/"
        },
        "id": "K4HjICQuUWxe",
        "outputId": "a402e225-67d3-49ab-a072-b04d7d5e3209"
      },
      "execution_count": 54,
      "outputs": [
        {
          "output_type": "stream",
          "name": "stdout",
          "text": [
            "<class 'pandas.core.frame.DataFrame'>\n",
            "Index: 383842 entries, 0 to 433669\n",
            "Data columns (total 8 columns):\n",
            " #   Column       Non-Null Count   Dtype  \n",
            "---  ------       --------------   -----  \n",
            " 0   User-ID      383842 non-null  int64  \n",
            " 1   ISBN         383842 non-null  object \n",
            " 2   Book-Rating  383842 non-null  int64  \n",
            " 3   Location     383842 non-null  object \n",
            " 4   Age          383842 non-null  float64\n",
            " 5   Book-Title   383842 non-null  object \n",
            " 6   Book-Author  383842 non-null  object \n",
            " 7   Publisher    383842 non-null  object \n",
            "dtypes: float64(1), int64(2), object(5)\n",
            "memory usage: 26.4+ MB\n"
          ]
        }
      ]
    },
    {
      "cell_type": "markdown",
      "source": [
        "### Insight\n",
        "Data siap digunakan untuk pelatihan model, semua dataset sudah digabungkan dengan mengambil fitur-fitur yang relevant untuk model yang sudah direncanakan"
      ],
      "metadata": {
        "id": "fZKkiLCZO2VL"
      }
    },
    {
      "cell_type": "markdown",
      "source": [
        "## Sampling Data, Encode, dan Splitting Data"
      ],
      "metadata": {
        "id": "0FK7lgtQP5io"
      }
    },
    {
      "cell_type": "markdown",
      "source": [
        "### 🎯 Mengambil Sampel Acak dari Dataset\n",
        "\n",
        "Pada tahap ini, kita mengambil sampel acak sebanyak 10.000 entri dari dataset `df_final` untuk mempercepat analisis atau eksperimen, tanpa harus bekerja dengan seluruh dataset yang besar."
      ],
      "metadata": {
        "id": "ZteH0JQXPIqf"
      }
    },
    {
      "cell_type": "code",
      "source": [
        "df_final_sample = df_final.sample(n=10000, random_state=42)"
      ],
      "metadata": {
        "id": "Pqmg2Oy5P8FO"
      },
      "execution_count": 55,
      "outputs": []
    },
    {
      "cell_type": "code",
      "source": [
        "df_final_sample.info()"
      ],
      "metadata": {
        "colab": {
          "base_uri": "https://localhost:8080/"
        },
        "id": "dfESVr60Nhog",
        "outputId": "42c7bc88-2088-4408-a60f-c02ff77aeafd"
      },
      "execution_count": 56,
      "outputs": [
        {
          "output_type": "stream",
          "name": "stdout",
          "text": [
            "<class 'pandas.core.frame.DataFrame'>\n",
            "Index: 10000 entries, 204019 to 278145\n",
            "Data columns (total 8 columns):\n",
            " #   Column       Non-Null Count  Dtype  \n",
            "---  ------       --------------  -----  \n",
            " 0   User-ID      10000 non-null  int64  \n",
            " 1   ISBN         10000 non-null  object \n",
            " 2   Book-Rating  10000 non-null  int64  \n",
            " 3   Location     10000 non-null  object \n",
            " 4   Age          10000 non-null  float64\n",
            " 5   Book-Title   10000 non-null  object \n",
            " 6   Book-Author  10000 non-null  object \n",
            " 7   Publisher    10000 non-null  object \n",
            "dtypes: float64(1), int64(2), object(5)\n",
            "memory usage: 703.1+ KB\n"
          ]
        }
      ]
    },
    {
      "cell_type": "code",
      "source": [
        "df_final_sample.head()"
      ],
      "metadata": {
        "colab": {
          "base_uri": "https://localhost:8080/",
          "height": 206
        },
        "id": "GbRwNGa36NOQ",
        "outputId": "908fcf78-8111-45ba-e3a8-9b32cf1e8cf1"
      },
      "execution_count": 57,
      "outputs": [
        {
          "output_type": "execute_result",
          "data": {
            "text/plain": [
              "        User-ID        ISBN  Book-Rating  \\\n",
              "204019   123284  0142001430            8   \n",
              "276197   171118  0140210830            7   \n",
              "180799   106893  0552996181            7   \n",
              "226175   137384  2213594740            7   \n",
              "105467    62471  0812513711            7   \n",
              "\n",
              "                                    Location   Age  \\\n",
              "204019             milwaukee, wisconsin, usa  60.0   \n",
              "276197              toronto, ontario, canada  47.0   \n",
              "180799       london, england, united kingdom  32.0   \n",
              "226175  le cellier, pays de la loire, france  32.0   \n",
              "105467              orillia, ontario, canada  33.0   \n",
              "\n",
              "                                               Book-Title        Book-Author  \\\n",
              "204019                                    Year of Wonders   Geraldine Brooks   \n",
              "276197         The Pelican History of Canada (Pelican S.)   Kenneth McNaught   \n",
              "180799                    Behind the Scenes at the Museum      Kate Atkinson   \n",
              "226175  Les raisins de la galÃ¨re: Roman (Libres / Fay...  Tahar Ben Jelloun   \n",
              "105467      The Dragon Reborn (The Wheel of Time, Book 3)      Robert Jordan   \n",
              "\n",
              "            Publisher  \n",
              "204019  Penguin Books  \n",
              "276197    Penguin USA  \n",
              "180799     Black Swan  \n",
              "226175         Fayard  \n",
              "105467    Tor Fantasy  "
            ],
            "text/html": [
              "\n",
              "  <div id=\"df-754bd2f5-a5cc-43ea-a7c2-594e5047d93b\" class=\"colab-df-container\">\n",
              "    <div>\n",
              "<style scoped>\n",
              "    .dataframe tbody tr th:only-of-type {\n",
              "        vertical-align: middle;\n",
              "    }\n",
              "\n",
              "    .dataframe tbody tr th {\n",
              "        vertical-align: top;\n",
              "    }\n",
              "\n",
              "    .dataframe thead th {\n",
              "        text-align: right;\n",
              "    }\n",
              "</style>\n",
              "<table border=\"1\" class=\"dataframe\">\n",
              "  <thead>\n",
              "    <tr style=\"text-align: right;\">\n",
              "      <th></th>\n",
              "      <th>User-ID</th>\n",
              "      <th>ISBN</th>\n",
              "      <th>Book-Rating</th>\n",
              "      <th>Location</th>\n",
              "      <th>Age</th>\n",
              "      <th>Book-Title</th>\n",
              "      <th>Book-Author</th>\n",
              "      <th>Publisher</th>\n",
              "    </tr>\n",
              "  </thead>\n",
              "  <tbody>\n",
              "    <tr>\n",
              "      <th>204019</th>\n",
              "      <td>123284</td>\n",
              "      <td>0142001430</td>\n",
              "      <td>8</td>\n",
              "      <td>milwaukee, wisconsin, usa</td>\n",
              "      <td>60.0</td>\n",
              "      <td>Year of Wonders</td>\n",
              "      <td>Geraldine Brooks</td>\n",
              "      <td>Penguin Books</td>\n",
              "    </tr>\n",
              "    <tr>\n",
              "      <th>276197</th>\n",
              "      <td>171118</td>\n",
              "      <td>0140210830</td>\n",
              "      <td>7</td>\n",
              "      <td>toronto, ontario, canada</td>\n",
              "      <td>47.0</td>\n",
              "      <td>The Pelican History of Canada (Pelican S.)</td>\n",
              "      <td>Kenneth McNaught</td>\n",
              "      <td>Penguin USA</td>\n",
              "    </tr>\n",
              "    <tr>\n",
              "      <th>180799</th>\n",
              "      <td>106893</td>\n",
              "      <td>0552996181</td>\n",
              "      <td>7</td>\n",
              "      <td>london, england, united kingdom</td>\n",
              "      <td>32.0</td>\n",
              "      <td>Behind the Scenes at the Museum</td>\n",
              "      <td>Kate Atkinson</td>\n",
              "      <td>Black Swan</td>\n",
              "    </tr>\n",
              "    <tr>\n",
              "      <th>226175</th>\n",
              "      <td>137384</td>\n",
              "      <td>2213594740</td>\n",
              "      <td>7</td>\n",
              "      <td>le cellier, pays de la loire, france</td>\n",
              "      <td>32.0</td>\n",
              "      <td>Les raisins de la galÃ¨re: Roman (Libres / Fay...</td>\n",
              "      <td>Tahar Ben Jelloun</td>\n",
              "      <td>Fayard</td>\n",
              "    </tr>\n",
              "    <tr>\n",
              "      <th>105467</th>\n",
              "      <td>62471</td>\n",
              "      <td>0812513711</td>\n",
              "      <td>7</td>\n",
              "      <td>orillia, ontario, canada</td>\n",
              "      <td>33.0</td>\n",
              "      <td>The Dragon Reborn (The Wheel of Time, Book 3)</td>\n",
              "      <td>Robert Jordan</td>\n",
              "      <td>Tor Fantasy</td>\n",
              "    </tr>\n",
              "  </tbody>\n",
              "</table>\n",
              "</div>\n",
              "    <div class=\"colab-df-buttons\">\n",
              "\n",
              "  <div class=\"colab-df-container\">\n",
              "    <button class=\"colab-df-convert\" onclick=\"convertToInteractive('df-754bd2f5-a5cc-43ea-a7c2-594e5047d93b')\"\n",
              "            title=\"Convert this dataframe to an interactive table.\"\n",
              "            style=\"display:none;\">\n",
              "\n",
              "  <svg xmlns=\"http://www.w3.org/2000/svg\" height=\"24px\" viewBox=\"0 -960 960 960\">\n",
              "    <path d=\"M120-120v-720h720v720H120Zm60-500h600v-160H180v160Zm220 220h160v-160H400v160Zm0 220h160v-160H400v160ZM180-400h160v-160H180v160Zm440 0h160v-160H620v160ZM180-180h160v-160H180v160Zm440 0h160v-160H620v160Z\"/>\n",
              "  </svg>\n",
              "    </button>\n",
              "\n",
              "  <style>\n",
              "    .colab-df-container {\n",
              "      display:flex;\n",
              "      gap: 12px;\n",
              "    }\n",
              "\n",
              "    .colab-df-convert {\n",
              "      background-color: #E8F0FE;\n",
              "      border: none;\n",
              "      border-radius: 50%;\n",
              "      cursor: pointer;\n",
              "      display: none;\n",
              "      fill: #1967D2;\n",
              "      height: 32px;\n",
              "      padding: 0 0 0 0;\n",
              "      width: 32px;\n",
              "    }\n",
              "\n",
              "    .colab-df-convert:hover {\n",
              "      background-color: #E2EBFA;\n",
              "      box-shadow: 0px 1px 2px rgba(60, 64, 67, 0.3), 0px 1px 3px 1px rgba(60, 64, 67, 0.15);\n",
              "      fill: #174EA6;\n",
              "    }\n",
              "\n",
              "    .colab-df-buttons div {\n",
              "      margin-bottom: 4px;\n",
              "    }\n",
              "\n",
              "    [theme=dark] .colab-df-convert {\n",
              "      background-color: #3B4455;\n",
              "      fill: #D2E3FC;\n",
              "    }\n",
              "\n",
              "    [theme=dark] .colab-df-convert:hover {\n",
              "      background-color: #434B5C;\n",
              "      box-shadow: 0px 1px 3px 1px rgba(0, 0, 0, 0.15);\n",
              "      filter: drop-shadow(0px 1px 2px rgba(0, 0, 0, 0.3));\n",
              "      fill: #FFFFFF;\n",
              "    }\n",
              "  </style>\n",
              "\n",
              "    <script>\n",
              "      const buttonEl =\n",
              "        document.querySelector('#df-754bd2f5-a5cc-43ea-a7c2-594e5047d93b button.colab-df-convert');\n",
              "      buttonEl.style.display =\n",
              "        google.colab.kernel.accessAllowed ? 'block' : 'none';\n",
              "\n",
              "      async function convertToInteractive(key) {\n",
              "        const element = document.querySelector('#df-754bd2f5-a5cc-43ea-a7c2-594e5047d93b');\n",
              "        const dataTable =\n",
              "          await google.colab.kernel.invokeFunction('convertToInteractive',\n",
              "                                                    [key], {});\n",
              "        if (!dataTable) return;\n",
              "\n",
              "        const docLinkHtml = 'Like what you see? Visit the ' +\n",
              "          '<a target=\"_blank\" href=https://colab.research.google.com/notebooks/data_table.ipynb>data table notebook</a>'\n",
              "          + ' to learn more about interactive tables.';\n",
              "        element.innerHTML = '';\n",
              "        dataTable['output_type'] = 'display_data';\n",
              "        await google.colab.output.renderOutput(dataTable, element);\n",
              "        const docLink = document.createElement('div');\n",
              "        docLink.innerHTML = docLinkHtml;\n",
              "        element.appendChild(docLink);\n",
              "      }\n",
              "    </script>\n",
              "  </div>\n",
              "\n",
              "\n",
              "    <div id=\"df-af092e17-0856-4d86-9d6c-8d3505fad425\">\n",
              "      <button class=\"colab-df-quickchart\" onclick=\"quickchart('df-af092e17-0856-4d86-9d6c-8d3505fad425')\"\n",
              "                title=\"Suggest charts\"\n",
              "                style=\"display:none;\">\n",
              "\n",
              "<svg xmlns=\"http://www.w3.org/2000/svg\" height=\"24px\"viewBox=\"0 0 24 24\"\n",
              "     width=\"24px\">\n",
              "    <g>\n",
              "        <path d=\"M19 3H5c-1.1 0-2 .9-2 2v14c0 1.1.9 2 2 2h14c1.1 0 2-.9 2-2V5c0-1.1-.9-2-2-2zM9 17H7v-7h2v7zm4 0h-2V7h2v10zm4 0h-2v-4h2v4z\"/>\n",
              "    </g>\n",
              "</svg>\n",
              "      </button>\n",
              "\n",
              "<style>\n",
              "  .colab-df-quickchart {\n",
              "      --bg-color: #E8F0FE;\n",
              "      --fill-color: #1967D2;\n",
              "      --hover-bg-color: #E2EBFA;\n",
              "      --hover-fill-color: #174EA6;\n",
              "      --disabled-fill-color: #AAA;\n",
              "      --disabled-bg-color: #DDD;\n",
              "  }\n",
              "\n",
              "  [theme=dark] .colab-df-quickchart {\n",
              "      --bg-color: #3B4455;\n",
              "      --fill-color: #D2E3FC;\n",
              "      --hover-bg-color: #434B5C;\n",
              "      --hover-fill-color: #FFFFFF;\n",
              "      --disabled-bg-color: #3B4455;\n",
              "      --disabled-fill-color: #666;\n",
              "  }\n",
              "\n",
              "  .colab-df-quickchart {\n",
              "    background-color: var(--bg-color);\n",
              "    border: none;\n",
              "    border-radius: 50%;\n",
              "    cursor: pointer;\n",
              "    display: none;\n",
              "    fill: var(--fill-color);\n",
              "    height: 32px;\n",
              "    padding: 0;\n",
              "    width: 32px;\n",
              "  }\n",
              "\n",
              "  .colab-df-quickchart:hover {\n",
              "    background-color: var(--hover-bg-color);\n",
              "    box-shadow: 0 1px 2px rgba(60, 64, 67, 0.3), 0 1px 3px 1px rgba(60, 64, 67, 0.15);\n",
              "    fill: var(--button-hover-fill-color);\n",
              "  }\n",
              "\n",
              "  .colab-df-quickchart-complete:disabled,\n",
              "  .colab-df-quickchart-complete:disabled:hover {\n",
              "    background-color: var(--disabled-bg-color);\n",
              "    fill: var(--disabled-fill-color);\n",
              "    box-shadow: none;\n",
              "  }\n",
              "\n",
              "  .colab-df-spinner {\n",
              "    border: 2px solid var(--fill-color);\n",
              "    border-color: transparent;\n",
              "    border-bottom-color: var(--fill-color);\n",
              "    animation:\n",
              "      spin 1s steps(1) infinite;\n",
              "  }\n",
              "\n",
              "  @keyframes spin {\n",
              "    0% {\n",
              "      border-color: transparent;\n",
              "      border-bottom-color: var(--fill-color);\n",
              "      border-left-color: var(--fill-color);\n",
              "    }\n",
              "    20% {\n",
              "      border-color: transparent;\n",
              "      border-left-color: var(--fill-color);\n",
              "      border-top-color: var(--fill-color);\n",
              "    }\n",
              "    30% {\n",
              "      border-color: transparent;\n",
              "      border-left-color: var(--fill-color);\n",
              "      border-top-color: var(--fill-color);\n",
              "      border-right-color: var(--fill-color);\n",
              "    }\n",
              "    40% {\n",
              "      border-color: transparent;\n",
              "      border-right-color: var(--fill-color);\n",
              "      border-top-color: var(--fill-color);\n",
              "    }\n",
              "    60% {\n",
              "      border-color: transparent;\n",
              "      border-right-color: var(--fill-color);\n",
              "    }\n",
              "    80% {\n",
              "      border-color: transparent;\n",
              "      border-right-color: var(--fill-color);\n",
              "      border-bottom-color: var(--fill-color);\n",
              "    }\n",
              "    90% {\n",
              "      border-color: transparent;\n",
              "      border-bottom-color: var(--fill-color);\n",
              "    }\n",
              "  }\n",
              "</style>\n",
              "\n",
              "      <script>\n",
              "        async function quickchart(key) {\n",
              "          const quickchartButtonEl =\n",
              "            document.querySelector('#' + key + ' button');\n",
              "          quickchartButtonEl.disabled = true;  // To prevent multiple clicks.\n",
              "          quickchartButtonEl.classList.add('colab-df-spinner');\n",
              "          try {\n",
              "            const charts = await google.colab.kernel.invokeFunction(\n",
              "                'suggestCharts', [key], {});\n",
              "          } catch (error) {\n",
              "            console.error('Error during call to suggestCharts:', error);\n",
              "          }\n",
              "          quickchartButtonEl.classList.remove('colab-df-spinner');\n",
              "          quickchartButtonEl.classList.add('colab-df-quickchart-complete');\n",
              "        }\n",
              "        (() => {\n",
              "          let quickchartButtonEl =\n",
              "            document.querySelector('#df-af092e17-0856-4d86-9d6c-8d3505fad425 button');\n",
              "          quickchartButtonEl.style.display =\n",
              "            google.colab.kernel.accessAllowed ? 'block' : 'none';\n",
              "        })();\n",
              "      </script>\n",
              "    </div>\n",
              "\n",
              "    </div>\n",
              "  </div>\n"
            ],
            "application/vnd.google.colaboratory.intrinsic+json": {
              "type": "dataframe",
              "variable_name": "df_final_sample",
              "summary": "{\n  \"name\": \"df_final_sample\",\n  \"rows\": 10000,\n  \"fields\": [\n    {\n      \"column\": \"User-ID\",\n      \"properties\": {\n        \"dtype\": \"number\",\n        \"std\": 80191,\n        \"min\": 242,\n        \"max\": 278772,\n        \"num_unique_values\": 6260,\n        \"samples\": [\n          59835,\n          108352,\n          142600\n        ],\n        \"semantic_type\": \"\",\n        \"description\": \"\"\n      }\n    },\n    {\n      \"column\": \"ISBN\",\n      \"properties\": {\n        \"dtype\": \"string\",\n        \"num_unique_values\": 8507,\n        \"samples\": [\n          \"0553377884\",\n          \"2253044903\",\n          \"0399145079\"\n        ],\n        \"semantic_type\": \"\",\n        \"description\": \"\"\n      }\n    },\n    {\n      \"column\": \"Book-Rating\",\n      \"properties\": {\n        \"dtype\": \"number\",\n        \"std\": 1,\n        \"min\": 1,\n        \"max\": 10,\n        \"num_unique_values\": 10,\n        \"samples\": [\n          1,\n          7,\n          5\n        ],\n        \"semantic_type\": \"\",\n        \"description\": \"\"\n      }\n    },\n    {\n      \"column\": \"Location\",\n      \"properties\": {\n        \"dtype\": \"category\",\n        \"num_unique_values\": 3342,\n        \"samples\": [\n          \"owen sound, ontario, canada\",\n          \"lansdale, pennsylvania, usa\",\n          \"t\\u00fcbingen, baden-w\\u00fcrttemberg, germany\"\n        ],\n        \"semantic_type\": \"\",\n        \"description\": \"\"\n      }\n    },\n    {\n      \"column\": \"Age\",\n      \"properties\": {\n        \"dtype\": \"number\",\n        \"std\": 12.22957592939126,\n        \"min\": 0.0,\n        \"max\": 239.0,\n        \"num_unique_values\": 97,\n        \"samples\": [\n          11.0,\n          53.0,\n          128.0\n        ],\n        \"semantic_type\": \"\",\n        \"description\": \"\"\n      }\n    },\n    {\n      \"column\": \"Book-Title\",\n      \"properties\": {\n        \"dtype\": \"string\",\n        \"num_unique_values\": 8193,\n        \"samples\": [\n          \"The Expanding Prison: Why Penal Systems Fail and What Can Be Done About Them\",\n          \"The Oxford Book of English Ghost Stories\",\n          \"The Golden Compass (His Dark Materials, Book 1)\"\n        ],\n        \"semantic_type\": \"\",\n        \"description\": \"\"\n      }\n    },\n    {\n      \"column\": \"Book-Author\",\n      \"properties\": {\n        \"dtype\": \"string\",\n        \"num_unique_values\": 5327,\n        \"samples\": [\n          \"Evan Hunter\",\n          \"Alfred M\\u00c3\\u00a9traux\",\n          \"Philip Gray\"\n        ],\n        \"semantic_type\": \"\",\n        \"description\": \"\"\n      }\n    },\n    {\n      \"column\": \"Publisher\",\n      \"properties\": {\n        \"dtype\": \"category\",\n        \"num_unique_values\": 1640,\n        \"samples\": [\n          \"Orenda Unity Pr\",\n          \"Gulliver Green\",\n          \"Artnik Books\"\n        ],\n        \"semantic_type\": \"\",\n        \"description\": \"\"\n      }\n    }\n  ]\n}"
            }
          },
          "metadata": {},
          "execution_count": 57
        }
      ]
    },
    {
      "cell_type": "markdown",
      "source": [
        "### Encode User-ID dan ISBN menjadi index numerik"
      ],
      "metadata": {
        "id": "C6fefa1KV5oa"
      }
    },
    {
      "cell_type": "markdown",
      "source": [
        "Menyalin DataFrame\n",
        "\n",
        "Baris kode berikut digunakan untuk membuat salinan dari DataFrame `df_final_sample` dan menyimpannya ke dalam variabel baru `df`."
      ],
      "metadata": {
        "id": "WxbQ4n0PZfmk"
      }
    },
    {
      "cell_type": "code",
      "source": [
        "df = df_final_sample.copy()"
      ],
      "metadata": {
        "id": "q9GcAGuZWKQA"
      },
      "execution_count": 58,
      "outputs": []
    },
    {
      "cell_type": "markdown",
      "source": [
        "Encoding Label untuk User dan Item\n",
        "\n",
        "Potongan kode berikut digunakan untuk mengubah nilai kategorikal pada kolom `User-ID` dan `ISBN` menjadi nilai numerik menggunakan `LabelEncoder` dari `sklearn`."
      ],
      "metadata": {
        "id": "j9PADTAOZsBM"
      }
    },
    {
      "cell_type": "code",
      "source": [
        "user_enc = LabelEncoder()\n",
        "item_enc = LabelEncoder()\n",
        "\n",
        "df['user'] = user_enc.fit_transform(df_final_sample['User-ID'])\n",
        "df['item'] = item_enc.fit_transform(df_final_sample['ISBN'])\n",
        "\n",
        "num_users = df['user'].nunique()\n",
        "num_items = df['item'].nunique()"
      ],
      "metadata": {
        "id": "x9e3gpk4V-uo"
      },
      "execution_count": 59,
      "outputs": []
    },
    {
      "cell_type": "markdown",
      "source": [
        "### Splitting Data untuk Model Colaborative Filtering"
      ],
      "metadata": {
        "id": "hTYWMnqQVq2x"
      }
    },
    {
      "cell_type": "markdown",
      "source": [
        "\n",
        "Langkah ini digunakan untuk membagi data menjadi dua bagian: data pelatihan (train) dan data pengujian (test). Proporsi data pengujian ditetapkan sebesar 20% dari keseluruhan data, sedangkan sisanya digunakan untuk pelatihan model. Parameter `random_state` digunakan untuk memastikan bahwa hasil pembagian selalu konsisten setiap kali kode dijalankan.\n"
      ],
      "metadata": {
        "id": "qodyxA_fZ6kG"
      }
    },
    {
      "cell_type": "code",
      "source": [
        "# Train-Test Split\n",
        "train, test = train_test_split(df[['user', 'item', 'Book-Rating']], test_size=0.2, random_state=42)"
      ],
      "metadata": {
        "id": "Ix-s1vGtVyIr"
      },
      "execution_count": 60,
      "outputs": []
    },
    {
      "cell_type": "markdown",
      "source": [
        "### 📊 Insight\n",
        "\n",
        "- Dataset `df_final_sample` berisi 10.000 entri yang terdiri dari data rating buku, informasi pengguna, serta metadata buku. Semua kolom memiliki nilai non-null, yang berarti tidak ada nilai kosong dalam sampel ini, dan ini penting untuk memastikan integritas data saat analisis dilakukan. Data ini mencakup berbagai atribut, seperti `User-ID`, `ISBN`, `Book-Rating`, `Location`, `Age`, serta informasi metadata buku (judul, penulis, dan penerbit), yang akan memungkinkan analisis lebih lanjut berdasarkan demografi pengguna atau konten buku.(khusus untuk Conten-Based Filtering)\n",
        "\n",
        "- Kolom `User-ID` dan `ISBN` diubah menjadi format numerik menggunakan `LabelEncoder` agar dapat digunakan dalam algoritma machine learning. Ini memungkinkan model mengenali pola tanpa bergantung pada bentuk ID aslinya, yang biasanya bersifat string. (khusus untuk Colaborative Filtering)\n",
        "\n",
        "- Dataset dibagi menjadi dua bagian: 80% untuk melatih model dan 20% untuk mengujinya. Pembagian ini penting untuk mengevaluasi performa model secara adil dan menghindari overfitting terhadap data pelatihan. (khusus untuk Colaborative Filtering)"
      ],
      "metadata": {
        "id": "ArwD4wBtPTKW"
      }
    },
    {
      "cell_type": "markdown",
      "source": [
        "# 5. **Model Development**"
      ],
      "metadata": {
        "id": "vPjUhvOz9WWx"
      }
    },
    {
      "cell_type": "markdown",
      "source": [
        "## Content-Based Filtering"
      ],
      "metadata": {
        "id": "fdVFh08y92E-"
      }
    },
    {
      "cell_type": "markdown",
      "source": [
        "📚 Sistem Rekomendasi Berbasis Konten Menggunakan TF-IDF dan Cosine Similarity\n",
        "\n",
        "Pada tahap ini, dilakukan pendekatan Content-Based Filtering untuk sistem rekomendasi buku. Data fitur seperti judul buku, penulis, dan penerbit digabung dan diubah menjadi representasi vektor menggunakan TF-IDF. Kemudian, dihitung kemiripan antar buku menggunakan cosine similarity untuk menemukan buku-buku yang mirip secara konten. Hasilnya digunakan untuk merekomendasikan buku lain yang paling relevan dengan buku yang dipilih oleh pengguna."
      ],
      "metadata": {
        "id": "Y6KlOzQaUd1Y"
      }
    },
    {
      "cell_type": "code",
      "source": [
        "# Reset index dulu supaya 0 sampai 9999\n",
        "df_final_sample_reset = df_final_sample.reset_index(drop=True)\n",
        "\n",
        "# Gabungkan fitur Book-Title, Book-Author, Publisher\n",
        "df_final_sample_reset['combined_features'] = df_final_sample_reset['Book-Title'] + ' ' + df_final_sample_reset['Book-Author'] + ' ' + df_final_sample_reset['Publisher']\n",
        "\n",
        "# TF-IDF Vectorization\n",
        "tfidf = TfidfVectorizer(stop_words='english')\n",
        "tfidf_matrix = tfidf.fit_transform(df_final_sample_reset['combined_features'])\n",
        "\n",
        "# Hitung cosine similarity antar buku\n",
        "cosine_sim = cosine_similarity(tfidf_matrix, tfidf_matrix)\n",
        "\n",
        "# Mapping book title ke posisi\n",
        "indices = pd.Series(df_final_sample_reset.index, index=df_final_sample_reset['Book-Title']).drop_duplicates()\n",
        "\n",
        "# Function rekomendasi Content-Based dengan Rank dan Predicted Rating\n",
        "def content_based_recommendations(title, top_n=10):\n",
        "    if title not in indices.index:\n",
        "        return f\"Judul '{title}' tidak ditemukan dalam dataset.\"\n",
        "\n",
        "    idx = indices[title].iloc[0] if isinstance(indices[title], pd.Series) else indices[title]\n",
        "\n",
        "    sim_scores = list(enumerate(cosine_sim[idx]))\n",
        "    sim_scores = sorted(sim_scores, key=lambda x: x[1], reverse=True)\n",
        "    sim_scores = sim_scores[1:]  # Skip buku itu sendiri\n",
        "\n",
        "    book_indices = [i[0] for i in sim_scores]\n",
        "    similarity_scores = [i[1] for i in sim_scores]\n",
        "\n",
        "    # Ambil data rekomendasi awal\n",
        "    recommendations = df_final_sample_reset.iloc[book_indices][['Book-Title', 'Book-Author', 'Publisher']].copy()\n",
        "    recommendations['Predicted Rating'] = [round(score * 10, 1) for score in similarity_scores]\n",
        "\n",
        "    # Hapus duplikat berdasarkan judul\n",
        "    recommendations = recommendations.drop_duplicates(subset='Book-Title')\n",
        "\n",
        "    # Hapus buku yang sama persis dengan input\n",
        "    recommendations = recommendations[recommendations['Book-Title'] != title]\n",
        "\n",
        "    # Ambil hanya top_n setelah deduplikasi\n",
        "    recommendations = recommendations.head(top_n)\n",
        "    recommendations.insert(0, 'Rank', range(1, len(recommendations) + 1))\n",
        "\n",
        "    return recommendations\n",
        "\n",
        "\n",
        "print(\"Content-Based Recommendations untuk 'The Dragon Reborn (The Wheel of Time, Book 3)': \\n\")\n",
        "print(content_based_recommendations('The Dragon Reborn (The Wheel of Time, Book 3)'))\n"
      ],
      "metadata": {
        "colab": {
          "base_uri": "https://localhost:8080/"
        },
        "id": "QamJlBHPWExs",
        "outputId": "2abdbaf3-8d57-46ac-e353-d5f389b057bb"
      },
      "execution_count": 61,
      "outputs": [
        {
          "output_type": "stream",
          "name": "stdout",
          "text": [
            "Content-Based Recommendations untuk 'The Dragon Reborn (The Wheel of Time, Book 3)': \n",
            "\n",
            "      Rank                                         Book-Title  \\\n",
            "8625     1   The Eye of the World (The Wheel of Time, Book 1)   \n",
            "353      2  The World of Robert Jordan's The Wheel of Time...   \n",
            "6996     3          Lord of Chaos (The Wheel of Time, Book 6)   \n",
            "1036     4      A Crown of Swords (The Wheel of Time, Book 7)   \n",
            "2572     5  The Great Hunt : Book Two of 'The Wheel of Tim...   \n",
            "8119     6  The Shadow Rising : Book Four of 'The Wheel of...   \n",
            "8596     7         Winter's Heart (The Wheel of Time, Book 9)   \n",
            "5929     8                   Earthquake Weather (Tor Fantasy)   \n",
            "4702     9           Into the Darkness (World at War, Book 1)   \n",
            "5630    10                              Mount Dragon: A Novel   \n",
            "\n",
            "           Book-Author    Publisher  Predicted Rating  \n",
            "8625     Robert Jordan  Tor Fantasy               7.0  \n",
            "353      Robert Jordan    Tor Books               6.8  \n",
            "6996     Robert Jordan  Tor Fantasy               6.7  \n",
            "1036     Robert Jordan  Tor Fantasy               6.6  \n",
            "2572     Robert Jordan    Tor Books               6.3  \n",
            "8119     Robert Jordan    Tor Books               6.3  \n",
            "8596     Robert Jordan    Tor Books               6.1  \n",
            "5929        Tim Powers    Tor Books               2.6  \n",
            "4702  Harry Turtledove  Tor Fantasy               2.5  \n",
            "5630   Douglas Preston    Tor Books               2.4  \n"
          ]
        }
      ]
    },
    {
      "cell_type": "markdown",
      "source": [
        "### 🔍 Insight dari Content-Based Filtering (CBF)\n",
        "\n",
        "- Buku-buku yang direkomendasikan **mayoritas berasal dari seri yang sama** (*The Wheel of Time*), menunjukkan bahwa pendekatan content-based sangat efektif dalam mengenali keterkaitan konten berdasarkan judul, penulis, dan penerbit.\n",
        "- **Robert Jordan** mendominasi hasil rekomendasi, menunjukkan bahwa fitur penulis berpengaruh kuat terhadap kemiripan.\n",
        "- Buku dari penerbit **Tor Books** dan **Tor Fantasy** juga sering muncul, mengindikasikan bahwa penerbitan juga menjadi sinyal penting dalam penilaian kemiripan.\n",
        "- Tiga rekomendasi terbawah memiliki prediksi rating yang lebih rendah (sekitar 2.4–2.6), mungkin karena hanya berbagi kesamaan dari penerbit atau genre luas, bukan seri atau penulis.\n",
        "\n",
        "---\n",
        "\n",
        "### ✅ Kesimpulan:\n",
        "\n",
        "Metode content-based ini **sangat baik untuk merekomendasikan kelanjutan seri atau buku dari penulis yang sama**. Namun, untuk eksplorasi lebih luas ke luar seri atau penulis yang sama, bisa dipertimbangkan pendekatan lain seperti **collaborative filtering** atau **hybrid recommendation system**.\n",
        "\n"
      ],
      "metadata": {
        "id": "-fK6k_-wUxg-"
      }
    },
    {
      "cell_type": "markdown",
      "source": [
        "## Collaborative Filtering"
      ],
      "metadata": {
        "id": "zlgZ0V5J53NX"
      }
    },
    {
      "cell_type": "markdown",
      "source": [
        "Persiapan Dataset dan DataLoader\n",
        "\n",
        "Tahap ini bertujuan untuk memformat data agar dapat digunakan oleh model Neural Collaborative Filtering (NCF) dalam PyTorch. Sebuah custom dataset `RatingDataset` dibuat untuk menyimpan informasi pengguna, item, dan rating dari DataFrame, lalu dikonversi menjadi tensor. Dataset ini kemudian digunakan untuk membentuk `DataLoader` yang memfasilitasi proses pelatihan dengan pengambilan batch secara efisien. `train_loader` digunakan untuk data pelatihan dengan shuffle aktif, sedangkan `test_loader` digunakan untuk evaluasi model.\n"
      ],
      "metadata": {
        "id": "teauVFI1VB38"
      }
    },
    {
      "cell_type": "code",
      "source": [
        "class RatingDataset(Dataset):\n",
        "    def __init__(self, df):\n",
        "        self.users = torch.tensor(df['user'].values, dtype=torch.long)\n",
        "        self.items = torch.tensor(df['item'].values, dtype=torch.long)\n",
        "        self.ratings = torch.tensor(df['Book-Rating'].values, dtype=torch.float)\n",
        "\n",
        "    def __len__(self):\n",
        "        return len(self.ratings)\n",
        "\n",
        "    def __getitem__(self, idx):\n",
        "        return self.users[idx], self.items[idx], self.ratings[idx]\n",
        "\n",
        "train_ds = RatingDataset(train)\n",
        "test_ds = RatingDataset(test)\n",
        "\n",
        "train_loader = DataLoader(train_ds, batch_size=64, shuffle=True)\n",
        "test_loader = DataLoader(test_ds, batch_size=64, shuffle=False)\n"
      ],
      "metadata": {
        "id": "xxUGvg7k5PrF"
      },
      "execution_count": 62,
      "outputs": []
    },
    {
      "cell_type": "markdown",
      "source": [
        "🧠 Neural Collaborative Filtering (NCF) Model Overview\n",
        "\n",
        "Model berikut adalah implementasi dasar dari Neural Collaborative Filtering (NCF) menggunakan PyTorch. Model ini bertujuan untuk memprediksi interaksi antara pengguna dan item (seperti rating atau kemungkinan klik)."
      ],
      "metadata": {
        "id": "1J6P0j8Jn-gJ"
      }
    },
    {
      "cell_type": "code",
      "source": [
        "class NCF(nn.Module):\n",
        "    def __init__(self, num_users, num_items, embedding_dim=50):\n",
        "        super(NCF, self).__init__()\n",
        "        self.user_embed = nn.Embedding(num_users, embedding_dim)\n",
        "        self.item_embed = nn.Embedding(num_items, embedding_dim)\n",
        "        self.fc1 = nn.Linear(embedding_dim * 2, 128)\n",
        "        self.fc2 = nn.Linear(128, 64)\n",
        "        self.output = nn.Linear(64, 1)\n",
        "\n",
        "    def forward(self, user, item):\n",
        "        u = self.user_embed(user)\n",
        "        i = self.item_embed(item)\n",
        "        x = torch.cat([u, i], dim=-1)\n",
        "        x = torch.relu(self.fc1(x))\n",
        "        x = torch.relu(self.fc2(x))\n",
        "        return self.output(x).squeeze()"
      ],
      "metadata": {
        "id": "51SIw7TbWmnh"
      },
      "execution_count": 63,
      "outputs": []
    },
    {
      "cell_type": "markdown",
      "source": [
        "Pelatihan Model Neural Collaborative Filtering (NCF)\n",
        "\n",
        "Pada tahap ini dilakukan pelatihan model Neural Collaborative Filtering (NCF) untuk mempelajari interaksi antara pengguna dan item (buku). Model dilatih menggunakan fungsi loss Mean Squared Error (MSE) dan dioptimasi dengan algoritma Adam. Proses pelatihan berlangsung selama 20 epoch, di mana setiap epoch menghitung dan menyimpan rata-rata loss untuk memantau kinerja model. Hasilnya ditampilkan di setiap epoch untuk menunjukkan penurunan error selama proses training."
      ],
      "metadata": {
        "id": "w2T94-Z-nn7X"
      }
    },
    {
      "cell_type": "code",
      "source": [
        "model = NCF(num_users, num_items)\n",
        "criterion = nn.MSELoss()\n",
        "optimizer = torch.optim.Adam(model.parameters(), lr=0.001)\n",
        "\n",
        "# Training\n",
        "epochs = 20\n",
        "train_losses = []\n",
        "\n",
        "for epoch in range(epochs):\n",
        "    model.train()\n",
        "    total_loss = 0\n",
        "    for users, items, ratings in train_loader:\n",
        "        preds = model(users, items)\n",
        "        loss = criterion(preds, ratings)\n",
        "        optimizer.zero_grad()\n",
        "        loss.backward()\n",
        "        optimizer.step()\n",
        "        total_loss += loss.item()\n",
        "\n",
        "    avg_loss = total_loss / len(train_loader)\n",
        "    train_losses.append(avg_loss)\n",
        "    print(f\"Epoch {epoch+1}/{epochs}, Loss: {avg_loss:.4f}\")"
      ],
      "metadata": {
        "colab": {
          "base_uri": "https://localhost:8080/"
        },
        "id": "eS7VS9zwWpia",
        "outputId": "40d6343c-9cc0-415b-c2d6-70f035b3fb61"
      },
      "execution_count": 64,
      "outputs": [
        {
          "output_type": "stream",
          "name": "stdout",
          "text": [
            "Epoch 1/20, Loss: 16.3336\n",
            "Epoch 2/20, Loss: 3.3700\n",
            "Epoch 3/20, Loss: 2.9022\n",
            "Epoch 4/20, Loss: 2.5268\n",
            "Epoch 5/20, Loss: 2.2384\n",
            "Epoch 6/20, Loss: 1.9627\n",
            "Epoch 7/20, Loss: 1.7107\n",
            "Epoch 8/20, Loss: 1.4813\n",
            "Epoch 9/20, Loss: 1.2775\n",
            "Epoch 10/20, Loss: 1.0852\n",
            "Epoch 11/20, Loss: 0.8905\n",
            "Epoch 12/20, Loss: 0.7264\n",
            "Epoch 13/20, Loss: 0.5687\n",
            "Epoch 14/20, Loss: 0.4232\n",
            "Epoch 15/20, Loss: 0.3075\n",
            "Epoch 16/20, Loss: 0.2133\n",
            "Epoch 17/20, Loss: 0.1455\n",
            "Epoch 18/20, Loss: 0.0961\n",
            "Epoch 19/20, Loss: 0.0635\n",
            "Epoch 20/20, Loss: 0.0432\n"
          ]
        }
      ]
    },
    {
      "cell_type": "markdown",
      "source": [
        "🔍 Fungsi `get_unseen_items`\n",
        "\n",
        "Fungsi ini bertujuan untuk mengidentifikasi item yang belum pernah diinteraksikan oleh seorang pengguna tertentu, yang berguna dalam sistem rekomendasi berbasis prediksi."
      ],
      "metadata": {
        "id": "QzbDWMN7oGng"
      }
    },
    {
      "cell_type": "code",
      "source": [
        "def get_unseen_items(df, user_id, all_items):\n",
        "    seen_items = df[df['user'] == user_id]['item'].tolist()\n",
        "    unseen_items = list(set(all_items) - set(seen_items))\n",
        "    return unseen_items"
      ],
      "metadata": {
        "id": "oHkwRTWdX9d6"
      },
      "execution_count": 65,
      "outputs": []
    },
    {
      "cell_type": "markdown",
      "source": [
        " 🎯 Fungsi `recommend_top_n`\n",
        "\n",
        "Fungsi ini menghasilkan rekomendasi **Top-N item** untuk pengguna tertentu menggunakan model NCF yang telah dilatih.\n"
      ],
      "metadata": {
        "id": "VDTr-uoPoMaD"
      }
    },
    {
      "cell_type": "code",
      "source": [
        "def recommend_top_n(model, df, user_id, all_items, n=5):\n",
        "    model.eval()\n",
        "    unseen_items = get_unseen_items(df, user_id, all_items)\n",
        "\n",
        "    user_tensor = torch.tensor([user_id] * len(unseen_items))\n",
        "    item_tensor = torch.tensor(unseen_items)\n",
        "\n",
        "    with torch.no_grad():\n",
        "        predictions = model(user_tensor, item_tensor)\n",
        "\n",
        "    # Ambil top-n prediksi\n",
        "    top_n_idx = torch.topk(predictions, n).indices\n",
        "    top_n_items = [unseen_items[i] for i in top_n_idx]\n",
        "\n",
        "    # Mapping item index back to ISBN\n",
        "    item_id_to_isbn = dict(zip(df['item'], df['ISBN']))\n",
        "    top_n_isbns = [item_id_to_isbn[item_id] for item_id in top_n_items]\n",
        "\n",
        "    return top_n_isbns\n"
      ],
      "metadata": {
        "id": "kzMWRo5mX-h7"
      },
      "execution_count": 66,
      "outputs": []
    },
    {
      "cell_type": "markdown",
      "source": [
        "📚 Top-10 Rekomendasi Buku untuk User 20\n",
        "\n",
        "Berikut adalah 10 rekomendasi teratas yang dihasilkan oleh model **Neural Collaborative Filtering (NCF)** untuk pengguna dengan ID `20`:"
      ],
      "metadata": {
        "id": "5mEcusiHoVDb"
      }
    },
    {
      "cell_type": "code",
      "source": [
        "top_n_books = recommend_top_n(model, df, user_id=20, all_items=range(num_items), n=10)\n",
        "\n",
        "# Menyiapkan data untuk tabel\n",
        "book_details = []\n",
        "\n",
        "for isbn in top_n_books:\n",
        "    book_info = df[df['ISBN'] == isbn]\n",
        "    book_title = book_info['Book-Title'].values[0]\n",
        "    book_author = book_info['Book-Author'].values[0]\n",
        "    book_publisher = book_info['Publisher'].values[0]\n",
        "    book_details.append([book_title, book_author, book_publisher, isbn])\n",
        "\n",
        "# Membuat DataFrame\n",
        "book_df = pd.DataFrame(book_details, columns=['Book Title', 'Author', 'Publisher', 'ISBN'])"
      ],
      "metadata": {
        "id": "3yajeCG4YD-I"
      },
      "execution_count": 67,
      "outputs": []
    },
    {
      "cell_type": "code",
      "source": [
        "book_df"
      ],
      "metadata": {
        "colab": {
          "base_uri": "https://localhost:8080/",
          "height": 363
        },
        "id": "akS_BTjSpllc",
        "outputId": "b2956505-a144-42e6-f390-a0be174a8223"
      },
      "execution_count": 68,
      "outputs": [
        {
          "output_type": "execute_result",
          "data": {
            "text/plain": [
              "                                          Book Title               Author  \\\n",
              "0                                        Fault Lines  Anne Rivers Siddons   \n",
              "1                                   Desert Solitaire         Edward Abbey   \n",
              "2  Walt Disney's Dumbo on Land, on Sea, in the Ai...        Jerry Walters   \n",
              "3                Magician: Apprentice (Riftwar Saga)        RAYMOND FEIST   \n",
              "4                                     The Black Lyon        Jude Deveraux   \n",
              "5                  Anna Karenina (Oprah's Book Club)          Leo Tolstoy   \n",
              "6                                           Insiders      Rosemary Rogers   \n",
              "7  To the Stars: The Autobiography of George Take...         George Takei   \n",
              "8                                  The Mulberry Tree        Jude Deveraux   \n",
              "9                                      Native Tongue         Carl Hiaasen   \n",
              "\n",
              "                       Publisher        ISBN  \n",
              "0                    HarperTorch  0061093343  \n",
              "1                     Touchstone  0671695886  \n",
              "2  Random House Children's Books  0394825187  \n",
              "3                         Bantam  0553564943  \n",
              "4                           Avon  038075911X  \n",
              "5                  Penguin Books  0143035002  \n",
              "6                           Avon  0380405768  \n",
              "7                   Pocket Books  0671890085  \n",
              "8                         Pocket  0743437640  \n",
              "9                  Fawcett Books  0449221180  "
            ],
            "text/html": [
              "\n",
              "  <div id=\"df-588ed604-5d05-48f9-bef2-a792a6bb7135\" class=\"colab-df-container\">\n",
              "    <div>\n",
              "<style scoped>\n",
              "    .dataframe tbody tr th:only-of-type {\n",
              "        vertical-align: middle;\n",
              "    }\n",
              "\n",
              "    .dataframe tbody tr th {\n",
              "        vertical-align: top;\n",
              "    }\n",
              "\n",
              "    .dataframe thead th {\n",
              "        text-align: right;\n",
              "    }\n",
              "</style>\n",
              "<table border=\"1\" class=\"dataframe\">\n",
              "  <thead>\n",
              "    <tr style=\"text-align: right;\">\n",
              "      <th></th>\n",
              "      <th>Book Title</th>\n",
              "      <th>Author</th>\n",
              "      <th>Publisher</th>\n",
              "      <th>ISBN</th>\n",
              "    </tr>\n",
              "  </thead>\n",
              "  <tbody>\n",
              "    <tr>\n",
              "      <th>0</th>\n",
              "      <td>Fault Lines</td>\n",
              "      <td>Anne Rivers Siddons</td>\n",
              "      <td>HarperTorch</td>\n",
              "      <td>0061093343</td>\n",
              "    </tr>\n",
              "    <tr>\n",
              "      <th>1</th>\n",
              "      <td>Desert Solitaire</td>\n",
              "      <td>Edward Abbey</td>\n",
              "      <td>Touchstone</td>\n",
              "      <td>0671695886</td>\n",
              "    </tr>\n",
              "    <tr>\n",
              "      <th>2</th>\n",
              "      <td>Walt Disney's Dumbo on Land, on Sea, in the Ai...</td>\n",
              "      <td>Jerry Walters</td>\n",
              "      <td>Random House Children's Books</td>\n",
              "      <td>0394825187</td>\n",
              "    </tr>\n",
              "    <tr>\n",
              "      <th>3</th>\n",
              "      <td>Magician: Apprentice (Riftwar Saga)</td>\n",
              "      <td>RAYMOND FEIST</td>\n",
              "      <td>Bantam</td>\n",
              "      <td>0553564943</td>\n",
              "    </tr>\n",
              "    <tr>\n",
              "      <th>4</th>\n",
              "      <td>The Black Lyon</td>\n",
              "      <td>Jude Deveraux</td>\n",
              "      <td>Avon</td>\n",
              "      <td>038075911X</td>\n",
              "    </tr>\n",
              "    <tr>\n",
              "      <th>5</th>\n",
              "      <td>Anna Karenina (Oprah's Book Club)</td>\n",
              "      <td>Leo Tolstoy</td>\n",
              "      <td>Penguin Books</td>\n",
              "      <td>0143035002</td>\n",
              "    </tr>\n",
              "    <tr>\n",
              "      <th>6</th>\n",
              "      <td>Insiders</td>\n",
              "      <td>Rosemary Rogers</td>\n",
              "      <td>Avon</td>\n",
              "      <td>0380405768</td>\n",
              "    </tr>\n",
              "    <tr>\n",
              "      <th>7</th>\n",
              "      <td>To the Stars: The Autobiography of George Take...</td>\n",
              "      <td>George Takei</td>\n",
              "      <td>Pocket Books</td>\n",
              "      <td>0671890085</td>\n",
              "    </tr>\n",
              "    <tr>\n",
              "      <th>8</th>\n",
              "      <td>The Mulberry Tree</td>\n",
              "      <td>Jude Deveraux</td>\n",
              "      <td>Pocket</td>\n",
              "      <td>0743437640</td>\n",
              "    </tr>\n",
              "    <tr>\n",
              "      <th>9</th>\n",
              "      <td>Native Tongue</td>\n",
              "      <td>Carl Hiaasen</td>\n",
              "      <td>Fawcett Books</td>\n",
              "      <td>0449221180</td>\n",
              "    </tr>\n",
              "  </tbody>\n",
              "</table>\n",
              "</div>\n",
              "    <div class=\"colab-df-buttons\">\n",
              "\n",
              "  <div class=\"colab-df-container\">\n",
              "    <button class=\"colab-df-convert\" onclick=\"convertToInteractive('df-588ed604-5d05-48f9-bef2-a792a6bb7135')\"\n",
              "            title=\"Convert this dataframe to an interactive table.\"\n",
              "            style=\"display:none;\">\n",
              "\n",
              "  <svg xmlns=\"http://www.w3.org/2000/svg\" height=\"24px\" viewBox=\"0 -960 960 960\">\n",
              "    <path d=\"M120-120v-720h720v720H120Zm60-500h600v-160H180v160Zm220 220h160v-160H400v160Zm0 220h160v-160H400v160ZM180-400h160v-160H180v160Zm440 0h160v-160H620v160ZM180-180h160v-160H180v160Zm440 0h160v-160H620v160Z\"/>\n",
              "  </svg>\n",
              "    </button>\n",
              "\n",
              "  <style>\n",
              "    .colab-df-container {\n",
              "      display:flex;\n",
              "      gap: 12px;\n",
              "    }\n",
              "\n",
              "    .colab-df-convert {\n",
              "      background-color: #E8F0FE;\n",
              "      border: none;\n",
              "      border-radius: 50%;\n",
              "      cursor: pointer;\n",
              "      display: none;\n",
              "      fill: #1967D2;\n",
              "      height: 32px;\n",
              "      padding: 0 0 0 0;\n",
              "      width: 32px;\n",
              "    }\n",
              "\n",
              "    .colab-df-convert:hover {\n",
              "      background-color: #E2EBFA;\n",
              "      box-shadow: 0px 1px 2px rgba(60, 64, 67, 0.3), 0px 1px 3px 1px rgba(60, 64, 67, 0.15);\n",
              "      fill: #174EA6;\n",
              "    }\n",
              "\n",
              "    .colab-df-buttons div {\n",
              "      margin-bottom: 4px;\n",
              "    }\n",
              "\n",
              "    [theme=dark] .colab-df-convert {\n",
              "      background-color: #3B4455;\n",
              "      fill: #D2E3FC;\n",
              "    }\n",
              "\n",
              "    [theme=dark] .colab-df-convert:hover {\n",
              "      background-color: #434B5C;\n",
              "      box-shadow: 0px 1px 3px 1px rgba(0, 0, 0, 0.15);\n",
              "      filter: drop-shadow(0px 1px 2px rgba(0, 0, 0, 0.3));\n",
              "      fill: #FFFFFF;\n",
              "    }\n",
              "  </style>\n",
              "\n",
              "    <script>\n",
              "      const buttonEl =\n",
              "        document.querySelector('#df-588ed604-5d05-48f9-bef2-a792a6bb7135 button.colab-df-convert');\n",
              "      buttonEl.style.display =\n",
              "        google.colab.kernel.accessAllowed ? 'block' : 'none';\n",
              "\n",
              "      async function convertToInteractive(key) {\n",
              "        const element = document.querySelector('#df-588ed604-5d05-48f9-bef2-a792a6bb7135');\n",
              "        const dataTable =\n",
              "          await google.colab.kernel.invokeFunction('convertToInteractive',\n",
              "                                                    [key], {});\n",
              "        if (!dataTable) return;\n",
              "\n",
              "        const docLinkHtml = 'Like what you see? Visit the ' +\n",
              "          '<a target=\"_blank\" href=https://colab.research.google.com/notebooks/data_table.ipynb>data table notebook</a>'\n",
              "          + ' to learn more about interactive tables.';\n",
              "        element.innerHTML = '';\n",
              "        dataTable['output_type'] = 'display_data';\n",
              "        await google.colab.output.renderOutput(dataTable, element);\n",
              "        const docLink = document.createElement('div');\n",
              "        docLink.innerHTML = docLinkHtml;\n",
              "        element.appendChild(docLink);\n",
              "      }\n",
              "    </script>\n",
              "  </div>\n",
              "\n",
              "\n",
              "    <div id=\"df-97737968-50d9-472e-bdcb-4984865daf3d\">\n",
              "      <button class=\"colab-df-quickchart\" onclick=\"quickchart('df-97737968-50d9-472e-bdcb-4984865daf3d')\"\n",
              "                title=\"Suggest charts\"\n",
              "                style=\"display:none;\">\n",
              "\n",
              "<svg xmlns=\"http://www.w3.org/2000/svg\" height=\"24px\"viewBox=\"0 0 24 24\"\n",
              "     width=\"24px\">\n",
              "    <g>\n",
              "        <path d=\"M19 3H5c-1.1 0-2 .9-2 2v14c0 1.1.9 2 2 2h14c1.1 0 2-.9 2-2V5c0-1.1-.9-2-2-2zM9 17H7v-7h2v7zm4 0h-2V7h2v10zm4 0h-2v-4h2v4z\"/>\n",
              "    </g>\n",
              "</svg>\n",
              "      </button>\n",
              "\n",
              "<style>\n",
              "  .colab-df-quickchart {\n",
              "      --bg-color: #E8F0FE;\n",
              "      --fill-color: #1967D2;\n",
              "      --hover-bg-color: #E2EBFA;\n",
              "      --hover-fill-color: #174EA6;\n",
              "      --disabled-fill-color: #AAA;\n",
              "      --disabled-bg-color: #DDD;\n",
              "  }\n",
              "\n",
              "  [theme=dark] .colab-df-quickchart {\n",
              "      --bg-color: #3B4455;\n",
              "      --fill-color: #D2E3FC;\n",
              "      --hover-bg-color: #434B5C;\n",
              "      --hover-fill-color: #FFFFFF;\n",
              "      --disabled-bg-color: #3B4455;\n",
              "      --disabled-fill-color: #666;\n",
              "  }\n",
              "\n",
              "  .colab-df-quickchart {\n",
              "    background-color: var(--bg-color);\n",
              "    border: none;\n",
              "    border-radius: 50%;\n",
              "    cursor: pointer;\n",
              "    display: none;\n",
              "    fill: var(--fill-color);\n",
              "    height: 32px;\n",
              "    padding: 0;\n",
              "    width: 32px;\n",
              "  }\n",
              "\n",
              "  .colab-df-quickchart:hover {\n",
              "    background-color: var(--hover-bg-color);\n",
              "    box-shadow: 0 1px 2px rgba(60, 64, 67, 0.3), 0 1px 3px 1px rgba(60, 64, 67, 0.15);\n",
              "    fill: var(--button-hover-fill-color);\n",
              "  }\n",
              "\n",
              "  .colab-df-quickchart-complete:disabled,\n",
              "  .colab-df-quickchart-complete:disabled:hover {\n",
              "    background-color: var(--disabled-bg-color);\n",
              "    fill: var(--disabled-fill-color);\n",
              "    box-shadow: none;\n",
              "  }\n",
              "\n",
              "  .colab-df-spinner {\n",
              "    border: 2px solid var(--fill-color);\n",
              "    border-color: transparent;\n",
              "    border-bottom-color: var(--fill-color);\n",
              "    animation:\n",
              "      spin 1s steps(1) infinite;\n",
              "  }\n",
              "\n",
              "  @keyframes spin {\n",
              "    0% {\n",
              "      border-color: transparent;\n",
              "      border-bottom-color: var(--fill-color);\n",
              "      border-left-color: var(--fill-color);\n",
              "    }\n",
              "    20% {\n",
              "      border-color: transparent;\n",
              "      border-left-color: var(--fill-color);\n",
              "      border-top-color: var(--fill-color);\n",
              "    }\n",
              "    30% {\n",
              "      border-color: transparent;\n",
              "      border-left-color: var(--fill-color);\n",
              "      border-top-color: var(--fill-color);\n",
              "      border-right-color: var(--fill-color);\n",
              "    }\n",
              "    40% {\n",
              "      border-color: transparent;\n",
              "      border-right-color: var(--fill-color);\n",
              "      border-top-color: var(--fill-color);\n",
              "    }\n",
              "    60% {\n",
              "      border-color: transparent;\n",
              "      border-right-color: var(--fill-color);\n",
              "    }\n",
              "    80% {\n",
              "      border-color: transparent;\n",
              "      border-right-color: var(--fill-color);\n",
              "      border-bottom-color: var(--fill-color);\n",
              "    }\n",
              "    90% {\n",
              "      border-color: transparent;\n",
              "      border-bottom-color: var(--fill-color);\n",
              "    }\n",
              "  }\n",
              "</style>\n",
              "\n",
              "      <script>\n",
              "        async function quickchart(key) {\n",
              "          const quickchartButtonEl =\n",
              "            document.querySelector('#' + key + ' button');\n",
              "          quickchartButtonEl.disabled = true;  // To prevent multiple clicks.\n",
              "          quickchartButtonEl.classList.add('colab-df-spinner');\n",
              "          try {\n",
              "            const charts = await google.colab.kernel.invokeFunction(\n",
              "                'suggestCharts', [key], {});\n",
              "          } catch (error) {\n",
              "            console.error('Error during call to suggestCharts:', error);\n",
              "          }\n",
              "          quickchartButtonEl.classList.remove('colab-df-spinner');\n",
              "          quickchartButtonEl.classList.add('colab-df-quickchart-complete');\n",
              "        }\n",
              "        (() => {\n",
              "          let quickchartButtonEl =\n",
              "            document.querySelector('#df-97737968-50d9-472e-bdcb-4984865daf3d button');\n",
              "          quickchartButtonEl.style.display =\n",
              "            google.colab.kernel.accessAllowed ? 'block' : 'none';\n",
              "        })();\n",
              "      </script>\n",
              "    </div>\n",
              "\n",
              "  <div id=\"id_e424ccb4-87ca-4ef7-801f-769538a26b3a\">\n",
              "    <style>\n",
              "      .colab-df-generate {\n",
              "        background-color: #E8F0FE;\n",
              "        border: none;\n",
              "        border-radius: 50%;\n",
              "        cursor: pointer;\n",
              "        display: none;\n",
              "        fill: #1967D2;\n",
              "        height: 32px;\n",
              "        padding: 0 0 0 0;\n",
              "        width: 32px;\n",
              "      }\n",
              "\n",
              "      .colab-df-generate:hover {\n",
              "        background-color: #E2EBFA;\n",
              "        box-shadow: 0px 1px 2px rgba(60, 64, 67, 0.3), 0px 1px 3px 1px rgba(60, 64, 67, 0.15);\n",
              "        fill: #174EA6;\n",
              "      }\n",
              "\n",
              "      [theme=dark] .colab-df-generate {\n",
              "        background-color: #3B4455;\n",
              "        fill: #D2E3FC;\n",
              "      }\n",
              "\n",
              "      [theme=dark] .colab-df-generate:hover {\n",
              "        background-color: #434B5C;\n",
              "        box-shadow: 0px 1px 3px 1px rgba(0, 0, 0, 0.15);\n",
              "        filter: drop-shadow(0px 1px 2px rgba(0, 0, 0, 0.3));\n",
              "        fill: #FFFFFF;\n",
              "      }\n",
              "    </style>\n",
              "    <button class=\"colab-df-generate\" onclick=\"generateWithVariable('book_df')\"\n",
              "            title=\"Generate code using this dataframe.\"\n",
              "            style=\"display:none;\">\n",
              "\n",
              "  <svg xmlns=\"http://www.w3.org/2000/svg\" height=\"24px\"viewBox=\"0 0 24 24\"\n",
              "       width=\"24px\">\n",
              "    <path d=\"M7,19H8.4L18.45,9,17,7.55,7,17.6ZM5,21V16.75L18.45,3.32a2,2,0,0,1,2.83,0l1.4,1.43a1.91,1.91,0,0,1,.58,1.4,1.91,1.91,0,0,1-.58,1.4L9.25,21ZM18.45,9,17,7.55Zm-12,3A5.31,5.31,0,0,0,4.9,8.1,5.31,5.31,0,0,0,1,6.5,5.31,5.31,0,0,0,4.9,4.9,5.31,5.31,0,0,0,6.5,1,5.31,5.31,0,0,0,8.1,4.9,5.31,5.31,0,0,0,12,6.5,5.46,5.46,0,0,0,6.5,12Z\"/>\n",
              "  </svg>\n",
              "    </button>\n",
              "    <script>\n",
              "      (() => {\n",
              "      const buttonEl =\n",
              "        document.querySelector('#id_e424ccb4-87ca-4ef7-801f-769538a26b3a button.colab-df-generate');\n",
              "      buttonEl.style.display =\n",
              "        google.colab.kernel.accessAllowed ? 'block' : 'none';\n",
              "\n",
              "      buttonEl.onclick = () => {\n",
              "        google.colab.notebook.generateWithVariable('book_df');\n",
              "      }\n",
              "      })();\n",
              "    </script>\n",
              "  </div>\n",
              "\n",
              "    </div>\n",
              "  </div>\n"
            ],
            "application/vnd.google.colaboratory.intrinsic+json": {
              "type": "dataframe",
              "variable_name": "book_df",
              "summary": "{\n  \"name\": \"book_df\",\n  \"rows\": 10,\n  \"fields\": [\n    {\n      \"column\": \"Book Title\",\n      \"properties\": {\n        \"dtype\": \"string\",\n        \"num_unique_values\": 10,\n        \"samples\": [\n          \"The Mulberry Tree\",\n          \"Desert Solitaire\",\n          \"Anna Karenina (Oprah's Book Club)\"\n        ],\n        \"semantic_type\": \"\",\n        \"description\": \"\"\n      }\n    },\n    {\n      \"column\": \"Author\",\n      \"properties\": {\n        \"dtype\": \"string\",\n        \"num_unique_values\": 9,\n        \"samples\": [\n          \"George Takei\",\n          \"Edward Abbey\",\n          \"Leo Tolstoy\"\n        ],\n        \"semantic_type\": \"\",\n        \"description\": \"\"\n      }\n    },\n    {\n      \"column\": \"Publisher\",\n      \"properties\": {\n        \"dtype\": \"string\",\n        \"num_unique_values\": 9,\n        \"samples\": [\n          \"Pocket\",\n          \"Touchstone\",\n          \"Penguin Books\"\n        ],\n        \"semantic_type\": \"\",\n        \"description\": \"\"\n      }\n    },\n    {\n      \"column\": \"ISBN\",\n      \"properties\": {\n        \"dtype\": \"string\",\n        \"num_unique_values\": 10,\n        \"samples\": [\n          \"0743437640\",\n          \"0671695886\",\n          \"0143035002\"\n        ],\n        \"semantic_type\": \"\",\n        \"description\": \"\"\n      }\n    }\n  ]\n}"
            }
          },
          "metadata": {},
          "execution_count": 68
        }
      ]
    },
    {
      "cell_type": "markdown",
      "source": [
        "### 📊 Insight dari Rekomendasi **Collaborative Filtering**\n",
        "1. **Beragam Genre dan Tema**  \n",
        "   Rekomendasi mencakup berbagai genre seperti petualangan, sejarah, sastra klasik, dan spiritualitas. Model collaborative filtering memberikan rekomendasi yang beragam, menunjukkan kecenderungan pengguna terhadap berbagai topik dan gaya bacaan.\n",
        "\n",
        "2. **Keberagaman Penulis dan Penerbit**  \n",
        "   Buku yang direkomendasikan berasal dari penulis dan penerbit yang berbeda, mulai dari penulis terkenal seperti Oscar Wilde hingga penulis yang kurang dikenal. Ini menunjukkan kemampuan model dalam mengenali beragam penulis dan memperkenalkan buku dari penulis yang lebih niche.\n",
        "\n",
        "3. **Pencocokan Berdasarkan Pola Perilaku Pengguna Lain**  \n",
        "   Collaborative filtering mencocokkan pola perilaku pembaca lain yang serupa dengan User 20. Buku-buku dalam daftar ini kemungkinan besar dipilih berdasarkan kesamaan preferensi dengan pengguna lain, menciptakan rekomendasi yang relevan dan menarik.\n"
      ],
      "metadata": {
        "id": "7-JkG5Y8VNAh"
      }
    },
    {
      "cell_type": "markdown",
      "source": [
        "# **6. Evaluasi Model**"
      ],
      "metadata": {
        "id": "NK16VhAK9oPu"
      }
    },
    {
      "cell_type": "markdown",
      "source": [
        "## Content-Based Filtering"
      ],
      "metadata": {
        "id": "EUi-Hy1_4_OH"
      }
    },
    {
      "cell_type": "markdown",
      "source": [
        "🧮 Evaluasi Sistem Rekomendasi dengan Precision@K dan Recall@K\n",
        "\n",
        "Pada tahap ini, kita mengevaluasi performa sistem rekomendasi dengan menggunakan dua metrik evaluasi yang umum: **Precision@K** dan **Recall@K**. Metrik ini digunakan untuk mengukur seberapa baik rekomendasi yang diberikan sesuai dengan preferensi nyata pengguna.\n"
      ],
      "metadata": {
        "id": "lswp0h1qYPM-"
      }
    },
    {
      "cell_type": "code",
      "source": [
        "def evaluate_precision_recall(user_id, target_book, top_n=10, threshold=7):\n",
        "    # Ambil rekomendasi\n",
        "    recommendations = content_based_recommendations(target_book, top_n=top_n)\n",
        "\n",
        "    # Ambil semua buku yang user ini pernah beri rating\n",
        "    user_data = df_final_sample[df_final_sample['User-ID'] == user_id]\n",
        "\n",
        "    # Buku relevan = rating >= threshold\n",
        "    relevant_books = user_data[user_data['Book-Rating'] >= threshold]['Book-Title'].unique()\n",
        "\n",
        "    # Judul yang direkomendasikan\n",
        "    recommended_titles = recommendations['Book-Title'].values\n",
        "\n",
        "    # Hitung yang overlap (relevan + direkomendasikan)\n",
        "    relevant_and_recommended = [title for title in recommended_titles if title in relevant_books]\n",
        "\n",
        "    # Precision = dari rekomendasi, berapa yang relevan\n",
        "    precision = len(relevant_and_recommended) / len(recommended_titles) if len(recommended_titles) > 0 else 0\n",
        "\n",
        "\n",
        "    # Recall = dari yang relevan, berapa yang berhasil direkomendasikan\n",
        "    recall = len(relevant_and_recommended) / len(relevant_books) if len(relevant_books) > 0 else 0\n",
        "\n",
        "    return precision, recall\n",
        "\n",
        "\n",
        "precision, recall = evaluate_precision_recall(\n",
        "    user_id=62471,\n",
        "    target_book='The Dragon Reborn (The Wheel of Time, Book 3)',\n",
        "    top_n=10\n",
        ")\n",
        "\n",
        "print(f\"Precision: {precision:.2f}\")\n",
        "print(f\"Recall: {recall:.2f}\")\n"
      ],
      "metadata": {
        "colab": {
          "base_uri": "https://localhost:8080/"
        },
        "id": "f2gBNv0sdLHF",
        "outputId": "4ccfb4ee-ca35-40af-ae13-0c1444009ca4"
      },
      "execution_count": 69,
      "outputs": [
        {
          "output_type": "stream",
          "name": "stdout",
          "text": [
            "Precision: 0.10\n",
            "Recall: 0.50\n"
          ]
        }
      ]
    },
    {
      "cell_type": "markdown",
      "source": [
        "Visualisasi Kemiripan Buku Berdasarkan Content-Based Filtering\n",
        "\n",
        "Pada tahap ini, sistem menampilkan 10 buku teratas hasil rekomendasi berbasis konten untuk divisualisasikan tingkat kemiripannya. Setiap judul buku diubah menjadi indeks menggunakan pemetaan yang telah dibuat sebelumnya, kemudian diekstrak submatriks cosine similarity antar buku-buku tersebut. Nilai-nilai kemiripan ini divisualisasikan dalam bentuk heatmap, yang menunjukkan seberapa besar tingkat kesamaan antar setiap pasangan buku. Visualisasi ini membantu memahami hubungan konten antar buku dalam kelompok rekomendasi.\n"
      ],
      "metadata": {
        "id": "nSQDPIXxnPYE"
      }
    },
    {
      "cell_type": "code",
      "source": [
        "# Ambil 10 judul teratas dari hasil rekomendasi\n",
        "top_books = [\n",
        "    'The Eye of the World (The Wheel of Time, Book 1)',\n",
        "    \"The World of Robert Jordan's The Wheel of Time (Wheel of Time)\",\n",
        "    'Lord of Chaos (The Wheel of Time, Book 6)',\n",
        "    'A Crown of Swords (The Wheel of Time, Book 7)',\n",
        "    \"The Great Hunt : Book Two of 'The Wheel of Time' (Wheel of Time)\",\n",
        "    \"The Shadow Rising : Book Four of 'The Wheel of Time' (Wheel of Time)\",\n",
        "    \"Winter's Heart (The Wheel of Time, Book 9)\",\n",
        "    'Earthquake Weather (Tor Fantasy)',\n",
        "    'Into the Darkness (World at War, Book 1)',\n",
        "    'Mount Dragon: A Novel'\n",
        "]\n",
        "\n",
        "\n",
        "# Ambil indeks untuk masing-masing judul dari mapping 'indices'\n",
        "top_indices = [\n",
        "    indices[title].iloc[0] if isinstance(indices[title], pd.Series) else indices[title]\n",
        "    for title in top_books\n",
        "]\n",
        "\n",
        "# Ambil submatriks cosine similarity\n",
        "sim_matrix_subset = cosine_sim[np.ix_(top_indices, top_indices)]\n",
        "\n",
        "# Plot heatmap\n",
        "plt.figure(figsize=(12, 10))\n",
        "sns.heatmap(sim_matrix_subset, xticklabels=top_books, yticklabels=top_books,\n",
        "            cmap='coolwarm', annot=True, fmt='.2f', annot_kws={'size': 8})\n",
        "plt.title('Cosine Similarity Heatmap (Top 10 Recommended Books)', fontsize=16)\n",
        "plt.xticks(rotation=90, fontsize=10)\n",
        "plt.yticks(rotation=0, fontsize=10)\n",
        "plt.tight_layout()\n",
        "plt.show()\n"
      ],
      "metadata": {
        "colab": {
          "base_uri": "https://localhost:8080/",
          "height": 1000
        },
        "id": "Pbeiwq5rcaF-",
        "outputId": "6436a2a6-5d11-4796-cf36-e285016d7182"
      },
      "execution_count": 70,
      "outputs": [
        {
          "output_type": "display_data",
          "data": {
            "text/plain": [
              "<Figure size 1200x1000 with 2 Axes>"
            ],
            "image/png": "[encoded data removed]"
          },
          "metadata": {}
        }
      ]
    },
    {
      "cell_type": "markdown",
      "source": [
        "### 📊 Insight dari Evaluasi Precision@10 dan Recall@10\n",
        "\n",
        "### 📌 Interpretasi:\n",
        "\n",
        "- **Precision (10%)**  \n",
        "  Dari **10 buku yang direkomendasikan**, **hanya 1 buku** yang benar-benar disukai user (berdasarkan rating ≥ 7).  \n",
        "  ➤ Artinya, sistem belum terlalu tepat dalam menebak preferensi spesifik user ini, banyak rekomendasi yang tidak dianggap relevan.\n",
        "\n",
        "- **Recall (50%)**  \n",
        "  Dari semua buku yang user ini sukai (berrating ≥ 7), sistem berhasil merekomendasikan **setengahnya**.  \n",
        "  ➤ Artinya, sistem cukup baik dalam **mencakup** preferensi user, meskipun tidak semua rekomendasi tepat sasaran.\n",
        "\n",
        "---\n",
        "\n",
        "### 🧠 Insight Tambahan:\n",
        "\n",
        "- Tingkat **recall yang tinggi** menunjukkan bahwa sistem berhasil \"menjangkau\" banyak preferensi user.\n",
        "- Namun, **precision rendah** menunjukkan bahwa sistem masih memberikan banyak rekomendasi yang **kurang relevan**, sehingga kualitas rekomendasi perlu ditingkatkan.\n",
        "- Kemungkinan besar, pendekatan content-based masih terlalu fokus pada kemiripan konten secara umum (judul, penulis, penerbit), bukan pada preferensi pribadi user.\n",
        "- Berdasarkan Cosine Similarity Heatmap sebagian besar buku dari seri *The Wheel of Time* menunjukkan skor cosine similarity yang tinggi (sekitar **0.6–0.8**). Hal ini menunjukkan bahwa sistem rekomendasi mampu mengenali keterkaitan konten, gaya, dan tema dalam seri yang sama. Ini membuktikan efektivitas pendekatan content-based filtering dalam menangkap struktur tematik dari karya yang saling berhubungan.\n",
        "-  Buku seperti *Earthquake Weather*, *Into the Darkness*, dan *Mount Dragon* memiliki skor similarity rendah (**< 0.35**) terhadap buku-buku lain dalam daftar. Meskipun masih direkomendasikan, kemungkinan besar alasan kemunculannya lebih terkait dengan kesamaan preferensi pembaca atau kategori umum (misalnya fiksi, petualangan) daripada kemiripan konten yang sebenarnya.\n",
        "\n",
        "---\n",
        "\n"
      ],
      "metadata": {
        "id": "5E-XVH3CYY4i"
      }
    },
    {
      "cell_type": "markdown",
      "source": [
        "## Collaborative Filtering"
      ],
      "metadata": {
        "id": "aBaTwp__5Dpu"
      }
    },
    {
      "cell_type": "markdown",
      "source": [
        "Evaluasi model NCF dengan menganalisis Training Loss Curve serta Root Mean Square Error. Kode di bawah ini digunakan untuk memvisualisasikan **Training Loss Curve** selama pelatihan model. Training loss ini dihitung sebagai **Mean Squared Error (MSE)** antara prediksi dan nilai aktual selama setiap epoch pelatihan.\n"
      ],
      "metadata": {
        "id": "fEgxpqSMYr2l"
      }
    },
    {
      "cell_type": "code",
      "source": [
        "import matplotlib.pyplot as plt\n",
        "\n",
        "plt.figure(figsize=(8, 5))\n",
        "plt.plot(range(1, epochs + 1), train_losses, marker='o', label='Training Loss')\n",
        "plt.xlabel('Epoch')\n",
        "plt.ylabel('Loss (MSE)')\n",
        "plt.title('Training Loss Curve')\n",
        "plt.grid(True)\n",
        "plt.legend()\n",
        "plt.show()"
      ],
      "metadata": {
        "colab": {
          "base_uri": "https://localhost:8080/",
          "height": 487
        },
        "id": "IC1sNvTzXkUS",
        "outputId": "426cbf43-d055-48a7-face-799d2b5ce857"
      },
      "execution_count": 71,
      "outputs": [
        {
          "output_type": "display_data",
          "data": {
            "text/plain": [
              "<Figure size 800x500 with 1 Axes>"
            ],
            "image/png": "[encoded data removed]"
          },
          "metadata": {}
        }
      ]
    },
    {
      "cell_type": "markdown",
      "source": [
        "Kode di bawah ini digunakan untuk menghitung **Root Mean Squared Error (RMSE)** pada model **Collaborative Filtering**. RMSE adalah metrik evaluasi yang digunakan untuk mengukur seberapa besar kesalahan prediksi model dalam memprediksi rating yang sebenarnya."
      ],
      "metadata": {
        "id": "EBsRSzgIqp8j"
      }
    },
    {
      "cell_type": "code",
      "source": [
        "import numpy as np\n",
        "\n",
        "model.eval()\n",
        "with torch.no_grad():\n",
        "    predictions, truths = [], []\n",
        "    for users, items, ratings in test_loader:\n",
        "        preds = model(users, items)\n",
        "        predictions.extend(preds.tolist())\n",
        "        truths.extend(ratings.tolist())\n",
        "\n",
        "rmse = np.sqrt(np.mean((np.array(predictions) - np.array(truths)) ** 2))\n",
        "print(f\"Test RMSE: {rmse:.4f}\")\n"
      ],
      "metadata": {
        "colab": {
          "base_uri": "https://localhost:8080/"
        },
        "id": "DjbJ9Ice3Oba",
        "outputId": "6feef634-a394-4a08-9f5b-3099ab5fc343"
      },
      "execution_count": 72,
      "outputs": [
        {
          "output_type": "stream",
          "name": "stdout",
          "text": [
            "Test RMSE: 2.1969\n"
          ]
        }
      ]
    },
    {
      "cell_type": "markdown",
      "source": [
        "### 📊 Insight Evaluasi Collaborative Filtering\n",
        "\n",
        "\n",
        "1. **Penurunan Loss yang Signifikan Selama Pelatihan**  \n",
        "   Dari epoch 1 hingga 20, loss training menunjukkan penurunan yang konsisten dan signifikan, dimulai dari 16.0362 di epoch pertama dan berakhir pada 0.0433 di epoch terakhir. Hal ini menunjukkan bahwa model berhasil belajar dan memperbaiki prediksinya sepanjang pelatihan, mencerminkan proses konvergensi yang baik.\n",
        "\n",
        "2. **Test RMSE yang Relatif Tinggi**  \n",
        "   Meskipun loss training sangat kecil, nilai **Test RMSE** yang mencapai 2.1969 mengindikasikan adanya potensi **overfitting**. Model tampaknya sangat cocok dengan data pelatihan, tetapi tidak dapat menggeneralisasi dengan baik pada data uji, yang menunjukkan perbedaan performa antara pelatihan dan pengujian.\n",
        "\n",
        "3. **Peluang untuk Meningkatkan Generalisasi**  \n",
        "   Overfitting yang terlihat dapat diatasi dengan menggunakan teknik seperti **regularization**, **early stopping**, atau **penambahan data pelatihan**. Ini akan membantu model mengurangi ketergantungan pada data pelatihan dan meningkatkan kemampuan untuk menggeneralisasi ke data baru yang belum terlihat sebelumnya.\n"
      ],
      "metadata": {
        "id": "p6hYPFRaY-ht"
      }
    }
  ]
}